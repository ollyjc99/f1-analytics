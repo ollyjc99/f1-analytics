{
 "cells": [
  {
   "cell_type": "code",
   "execution_count": null,
   "metadata": {},
   "outputs": [],
   "source": [
    "import pandas as pd\n",
    "import numpy as np\n",
    "import matplotlib as plt\n",
    "from datetime import datetime\n",
    "\n",
    "from sys import platform\n",
    "\n",
    "if platform == \"win32\":\n",
    "    path = 'C:/Users/olive/GitHub/f1-analytics/'\n",
    "elif platform == \"darwin\":\n",
    "    path = '~/Documents/GitHub/f1-analytics/'"
   ]
  },
  {
   "cell_type": "code",
   "execution_count": null,
   "metadata": {},
   "outputs": [],
   "source": [
    "races = pd.read_csv(path+'data/races.csv')\n",
    "qualifying = pd.read_csv(path+'data/qualifying.csv')\n",
    "constructors = pd.read_csv(path+'data/constructor_standings.csv')\n",
    "drivers = pd.read_csv(path+'data/driver_standings.csv')\n",
    "results = pd.read_csv(path+'data/results.csv')\n",
    "weather = pd.read_csv(path+'data/weather.csv')"
   ]
  },
  {
   "cell_type": "code",
   "execution_count": null,
   "metadata": {},
   "outputs": [],
   "source": [
    "qualifying.rename(columns={'grid_pos': 'grid'}, inplace=True)"
   ]
  },
  {
   "cell_type": "code",
   "execution_count": null,
   "metadata": {},
   "outputs": [],
   "source": [
    "df1 = pd.merge(races, weather, how='inner', on=['season', 'round', 'circuit_id']).drop(['lat', 'long','country','weather'], axis = 1)\n",
    "df2 = pd.merge(df1, results, how='inner', on=['season', 'round', 'circuit_id']).drop(['url','points', 'status', 'time'], axis = 1)\n",
    "df3 = pd.merge(df2, drivers, how='left', on=['season', 'round', 'driver']) \n",
    "df4 = pd.merge(df3, constructors, how='left', on=['season', 'round', 'constructor'])\n",
    "\n",
    "merged_df = pd.merge(df4, qualifying, how='inner', on=['season', 'round', 'grid']).drop(['driver_y', 'constructor_y'], axis=1)\n",
    "merged_df.rename(columns={'driver_x': 'driver', 'constructor_x': 'constructor'}, inplace=True)"
   ]
  },
  {
   "cell_type": "code",
   "execution_count": null,
   "metadata": {},
   "outputs": [],
   "source": [
    "# fill/drop nulls\n",
    "\n",
    "for col in ['driver_points', 'driver_wins', 'driver_standings_pos', 'constructor_points', \n",
    "            'constructor_wins' , 'constructor_standings_pos']:\n",
    "    merged_df[col].fillna(0, inplace = True)\n",
    "    merged_df[col] = merged_df[col].map(lambda x: int(x))\n",
    "    \n",
    "merged_df.dropna(inplace = True )"
   ]
  },
  {
   "cell_type": "code",
   "execution_count": null,
   "metadata": {},
   "outputs": [],
   "source": [
    "merged_df.to_csv(path+'data/merged.csv', index=False)"
   ]
  }
 ],
 "metadata": {
  "kernelspec": {
   "display_name": "Python 3.10.7 64-bit",
   "language": "python",
   "name": "python3"
  },
  "language_info": {
   "codemirror_mode": {
    "name": "ipython",
    "version": 3
   },
   "file_extension": ".py",
   "mimetype": "text/x-python",
   "name": "python",
   "nbconvert_exporter": "python",
   "pygments_lexer": "ipython3",
   "version": "3.10.7"
  },
  "orig_nbformat": 4,
  "vscode": {
   "interpreter": {
    "hash": "aee8b7b246df8f9039afb4144a1f6fd8d2ca17a180786b69acc140d282b71a49"
   }
  }
 },
 "nbformat": 4,
 "nbformat_minor": 2
}
