{
 "cells": [
  {
   "cell_type": "code",
   "execution_count": 1,
   "metadata": {},
   "outputs": [],
   "source": [
    "import pandas as pd\n",
    "import numpy as np\n",
    "\n",
    "from sklearn.metrics import confusion_matrix, precision_score\n",
    "from sklearn.linear_model import LogisticRegression, LinearRegression\n",
    "from sklearn import svm\n",
    "from sklearn.preprocessing import StandardScaler, MinMaxScaler\n",
    "from sklearn.ensemble import RandomForestClassifier, RandomForestRegressor\n",
    "from sklearn.neural_network import MLPClassifier, MLPRegressor\n",
    "\n",
    "data = pd.read_csv('data/merged.csv')"
   ]
  },
  {
   "cell_type": "code",
   "execution_count": 2,
   "metadata": {},
   "outputs": [],
   "source": [
    "df = data.copy()\n",
    "df.podium = df.podium.map(lambda x: 1 if x == 1 else 0)\n",
    "\n",
    "train = df[df.season == 2020]\n",
    "X_train = train.drop(['driver', 'podium'], axis = 1)\n",
    "y_train = train.podium\n",
    "\n",
    "scaler = StandardScaler()\n",
    "X_train = pd.DataFrame(scaler.fit_transform(X_train), columns = X_train.columns)"
   ]
  },
  {
   "cell_type": "code",
   "execution_count": 3,
   "metadata": {},
   "outputs": [],
   "source": [
    "def score_classification(model):\n",
    "    score = 0\n",
    "    for circuit in df[df.season == 2021]['round'].unique():\n",
    "\n",
    "        test = df[(df.season == 2021) & (df['round'] == circuit)]\n",
    "        X_test = test.drop(['driver', 'podium'], axis = 1)\n",
    "        y_test = test.podium\n",
    "\n",
    "        #scaling\n",
    "        X_test = pd.DataFrame(scaler.transform(X_test), columns = X_test.columns)\n",
    "\n",
    "        # make predictions\n",
    "        prediction_df = pd.DataFrame(model.predict_proba(X_test), columns = ['proba_0', 'proba_1'])\n",
    "        prediction_df['actual'] = y_test.reset_index(drop = True)\n",
    "        prediction_df.sort_values('proba_1', ascending = False, inplace = True)\n",
    "        prediction_df.reset_index(inplace = True, drop = True)\n",
    "        prediction_df['predicted'] = prediction_df.index\n",
    "        prediction_df['predicted'] = prediction_df.predicted.map(lambda x: 1 if x == 0 else 0)\n",
    "\n",
    "        score += precision_score(prediction_df.actual, prediction_df.predicted)\n",
    "\n",
    "    model_score = score / df[df.season == 2021]['round'].unique().max()\n",
    "    return model_score"
   ]
  },
  {
   "cell_type": "code",
   "execution_count": 4,
   "metadata": {},
   "outputs": [],
   "source": [
    "comparison_dict ={'model':[],\n",
    "                  'params': [],\n",
    "                  'score': []}"
   ]
  },
  {
   "cell_type": "code",
   "execution_count": 5,
   "metadata": {},
   "outputs": [],
   "source": [
    "# Logistic Regression\n",
    "\n",
    "params={'penalty': ['l1', 'l2'],\n",
    "        'solver': ['saga', 'liblinear'],\n",
    "        'C': np.logspace(-3,1,20)}\n",
    "\n",
    "for penalty in params['penalty']:\n",
    "    for solver in params['solver']:\n",
    "        for c in params['C']:\n",
    "            model_params = (penalty, solver, c)\n",
    "            model = LogisticRegression(penalty = penalty, solver = solver, C = c, max_iter = 10000)\n",
    "            model.fit(X_train, y_train)\n",
    "            \n",
    "            model_score = score_classification(model)\n",
    "            \n",
    "            comparison_dict['model'].append('logistic_regression')\n",
    "            comparison_dict['params'].append(model_params)\n",
    "            comparison_dict['score'].append(model_score)"
   ]
  },
  {
   "cell_type": "code",
   "execution_count": null,
   "metadata": {},
   "outputs": [],
   "source": [
    "# Random Forest Classifier\n",
    "\n",
    "params={'criterion': ['gini', 'entropy'],\n",
    "        'max_features': [0.8, 'auto', None],\n",
    "        'max_depth': list(np.linspace(5, 55, 26)) + [None]}\n",
    "\n",
    "for criterion in params['criterion']:\n",
    "    for max_features in params['max_features']:\n",
    "        for max_depth in params['max_depth']:\n",
    "            model_params = (criterion, max_features, max_depth)\n",
    "            model = RandomForestClassifier(criterion = criterion, max_features = max_features, max_depth = max_depth)\n",
    "            model.fit(X_train, y_train)\n",
    "            \n",
    "            model_score = score_classification(model)\n",
    "            \n",
    "            comparison_dict['model'].append('random_forest_classifier')\n",
    "            comparison_dict['params'].append(model_params)\n",
    "            comparison_dict['score'].append(model_score)"
   ]
  },
  {
   "cell_type": "code",
   "execution_count": 6,
   "metadata": {},
   "outputs": [],
   "source": [
    "# Support Vector Machines\n",
    "\n",
    "params={'gamma': np.logspace(-4, -1, 20),\n",
    "        'C': np.logspace(-2, 1, 20),\n",
    "        'kernel': ['linear', 'poly', 'rbf', 'sigmoid']} \n",
    "\n",
    "for gamma in params['gamma']:\n",
    "    for c in params['C']:\n",
    "        for kernel in params['kernel']:\n",
    "            model_params = (gamma, c, kernel)\n",
    "            model = svm.SVC(probability = True, gamma = gamma, C = c, kernel = kernel )\n",
    "            model.fit(X_train, y_train)\n",
    "            \n",
    "            model_score = score_classification(model)\n",
    "            \n",
    "            comparison_dict['model'].append('svm_classifier')\n",
    "            comparison_dict['params'].append(model_params)\n",
    "            comparison_dict['score'].append(model_score)"
   ]
  }
 ],
 "metadata": {
  "kernelspec": {
   "display_name": "Python 3.10.7 64-bit",
   "language": "python",
   "name": "python3"
  },
  "language_info": {
   "codemirror_mode": {
    "name": "ipython",
    "version": 3
   },
   "file_extension": ".py",
   "mimetype": "text/x-python",
   "name": "python",
   "nbconvert_exporter": "python",
   "pygments_lexer": "ipython3",
   "version": "3.10.7"
  },
  "orig_nbformat": 4,
  "vscode": {
   "interpreter": {
    "hash": "aee8b7b246df8f9039afb4144a1f6fd8d2ca17a180786b69acc140d282b71a49"
   }
  }
 },
 "nbformat": 4,
 "nbformat_minor": 2
}
