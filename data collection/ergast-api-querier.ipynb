{
 "cells": [
  {
   "cell_type": "code",
   "execution_count": 1,
   "metadata": {},
   "outputs": [],
   "source": [
    "import pandas as pd\n",
    "import numpy as np\n",
    "from datetime import datetime\n",
    "import requests\n",
    "# import json\n",
    "import warnings\n",
    "\n",
    "from sys import platform\n",
    "\n",
    "if platform == \"win32\":\n",
    "    path = 'C:/Users/olive/GitHub/f1-analytics/'\n",
    "elif platform == \"darwin\":\n",
    "    path = '~/Documents/GitHub/f1-analytics/'\n",
    "    # path = '/Users/oliverjcarter/Documents/GitHub/f1-analytics/'\n",
    "\n",
    "warnings.filterwarnings(\"ignore\", category=RuntimeWarning)\n",
    "pd.options.mode.chained_assignment = None  # default='warn'\n",
    "\n",
    "%matplotlib inline"
   ]
  },
  {
   "cell_type": "code",
   "execution_count": 2,
   "metadata": {},
   "outputs": [],
   "source": [
    "races = pd.read_csv(path+'data/races.csv')\n",
    "\n",
    "rounds = []\n",
    "for year in np.array(races.season.unique()):\n",
    "    rounds.append([year, list(races[races.season == year]['round'])])"
   ]
  },
  {
   "cell_type": "code",
   "execution_count": 7,
   "metadata": {},
   "outputs": [
    {
     "name": "stdout",
     "output_type": "stream",
     "text": [
      "{'driverId': 'rosberg', 'permanentNumber': '6', 'code': 'ROS', 'url': 'http://en.wikipedia.org/wiki/Nico_Rosberg', 'givenName': 'Nico', 'familyName': 'Rosberg', 'dateOfBirth': '1985-06-27', 'nationality': 'German'}\n",
      "{'driverId': 'kevin_magnussen', 'permanentNumber': '20', 'code': 'MAG', 'url': 'http://en.wikipedia.org/wiki/Kevin_Magnussen', 'givenName': 'Kevin', 'familyName': 'Magnussen', 'dateOfBirth': '1992-10-05', 'nationality': 'Danish'}\n",
      "{'driverId': 'button', 'permanentNumber': '22', 'code': 'BUT', 'url': 'http://en.wikipedia.org/wiki/Jenson_Button', 'givenName': 'Jenson', 'familyName': 'Button', 'dateOfBirth': '1980-01-19', 'nationality': 'British'}\n",
      "{'driverId': 'alonso', 'permanentNumber': '14', 'code': 'ALO', 'url': 'http://en.wikipedia.org/wiki/Fernando_Alonso', 'givenName': 'Fernando', 'familyName': 'Alonso', 'dateOfBirth': '1981-07-29', 'nationality': 'Spanish'}\n",
      "{'driverId': 'bottas', 'permanentNumber': '77', 'code': 'BOT', 'url': 'http://en.wikipedia.org/wiki/Valtteri_Bottas', 'givenName': 'Valtteri', 'familyName': 'Bottas', 'dateOfBirth': '1989-08-28', 'nationality': 'Finnish'}\n",
      "{'driverId': 'hulkenberg', 'permanentNumber': '27', 'code': 'HUL', 'url': 'http://en.wikipedia.org/wiki/Nico_H%C3%BClkenberg', 'givenName': 'Nico', 'familyName': 'Hülkenberg', 'dateOfBirth': '1987-08-19', 'nationality': 'German'}\n",
      "{'driverId': 'raikkonen', 'permanentNumber': '7', 'code': 'RAI', 'url': 'http://en.wikipedia.org/wiki/Kimi_R%C3%A4ikk%C3%B6nen', 'givenName': 'Kimi', 'familyName': 'Räikkönen', 'dateOfBirth': '1979-10-17', 'nationality': 'Finnish'}\n",
      "{'driverId': 'vergne', 'permanentNumber': '25', 'code': 'VER', 'url': 'http://en.wikipedia.org/wiki/Jean-%C3%89ric_Vergne', 'givenName': 'Jean-Éric', 'familyName': 'Vergne', 'dateOfBirth': '1990-04-25', 'nationality': 'French'}\n",
      "{'driverId': 'kvyat', 'permanentNumber': '26', 'code': 'KVY', 'url': 'http://en.wikipedia.org/wiki/Daniil_Kvyat', 'givenName': 'Daniil', 'familyName': 'Kvyat', 'dateOfBirth': '1994-04-26', 'nationality': 'Russian'}\n",
      "{'driverId': 'perez', 'permanentNumber': '11', 'code': 'PER', 'url': 'http://en.wikipedia.org/wiki/Sergio_P%C3%A9rez', 'givenName': 'Sergio', 'familyName': 'Pérez', 'dateOfBirth': '1990-01-26', 'nationality': 'Mexican'}\n",
      "{'driverId': 'sutil', 'permanentNumber': '99', 'code': 'SUT', 'url': 'http://en.wikipedia.org/wiki/Adrian_Sutil', 'givenName': 'Adrian', 'familyName': 'Sutil', 'dateOfBirth': '1983-01-11', 'nationality': 'German'}\n",
      "{'driverId': 'gutierrez', 'permanentNumber': '21', 'code': 'GUT', 'url': 'http://en.wikipedia.org/wiki/Esteban_Guti%C3%A9rrez', 'givenName': 'Esteban', 'familyName': 'Gutiérrez', 'dateOfBirth': '1991-08-05', 'nationality': 'Mexican'}\n",
      "{'driverId': 'chilton', 'permanentNumber': '4', 'code': 'CHI', 'url': 'http://en.wikipedia.org/wiki/Max_Chilton', 'givenName': 'Max', 'familyName': 'Chilton', 'dateOfBirth': '1991-04-21', 'nationality': 'British'}\n",
      "{'driverId': 'jules_bianchi', 'permanentNumber': '17', 'code': 'BIA', 'url': 'http://en.wikipedia.org/wiki/Jules_Bianchi', 'givenName': 'Jules', 'familyName': 'Bianchi', 'dateOfBirth': '1989-08-03', 'nationality': 'French'}\n",
      "{'driverId': 'grosjean', 'permanentNumber': '8', 'code': 'GRO', 'url': 'http://en.wikipedia.org/wiki/Romain_Grosjean', 'givenName': 'Romain', 'familyName': 'Grosjean', 'dateOfBirth': '1986-04-17', 'nationality': 'French'}\n",
      "{'driverId': 'maldonado', 'permanentNumber': '13', 'code': 'MAL', 'url': 'http://en.wikipedia.org/wiki/Pastor_Maldonado', 'givenName': 'Pastor', 'familyName': 'Maldonado', 'dateOfBirth': '1985-03-09', 'nationality': 'Venezuelan'}\n",
      "{'driverId': 'ericsson', 'permanentNumber': '9', 'code': 'ERI', 'url': 'http://en.wikipedia.org/wiki/Marcus_Ericsson', 'givenName': 'Marcus', 'familyName': 'Ericsson', 'dateOfBirth': '1990-09-02', 'nationality': 'Swedish'}\n",
      "{'driverId': 'vettel', 'permanentNumber': '5', 'code': 'VET', 'url': 'http://en.wikipedia.org/wiki/Sebastian_Vettel', 'givenName': 'Sebastian', 'familyName': 'Vettel', 'dateOfBirth': '1987-07-03', 'nationality': 'German'}\n",
      "{'driverId': 'hamilton', 'permanentNumber': '44', 'code': 'HAM', 'url': 'http://en.wikipedia.org/wiki/Lewis_Hamilton', 'givenName': 'Lewis', 'familyName': 'Hamilton', 'dateOfBirth': '1985-01-07', 'nationality': 'British'}\n",
      "{'driverId': 'massa', 'permanentNumber': '19', 'code': 'MAS', 'url': 'http://en.wikipedia.org/wiki/Felipe_Massa', 'givenName': 'Felipe', 'familyName': 'Massa', 'dateOfBirth': '1981-04-25', 'nationality': 'Brazilian'}\n",
      "{'driverId': 'kobayashi', 'permanentNumber': '10', 'code': 'KOB', 'url': 'http://en.wikipedia.org/wiki/Kamui_Kobayashi', 'givenName': 'Kamui', 'familyName': 'Kobayashi', 'dateOfBirth': '1986-09-13', 'nationality': 'Japanese'}\n",
      "{'driverId': 'ricciardo', 'permanentNumber': '3', 'code': 'RIC', 'url': 'http://en.wikipedia.org/wiki/Daniel_Ricciardo', 'givenName': 'Daniel', 'familyName': 'Ricciardo', 'dateOfBirth': '1989-07-01', 'nationality': 'Australian'}\n"
     ]
    }
   ],
   "source": [
    "# query results API\n",
    "\n",
    "for n in list(range(len(rounds))):\n",
    "    for i in rounds[n][1]:\n",
    "        url = 'http://ergast.com/api/f1/{}/{}/results.json'\n",
    "        r = requests.get(url.format(rounds[n][0], i))\n",
    "        json = r.json()\n",
    "\n",
    "        for item in json['MRData']['RaceTable']['Races'][0]['Results']:\n",
    "            print(item['Driver'])\n",
    "        break\n",
    "    break"
   ]
  },
  {
   "cell_type": "code",
   "execution_count": null,
   "metadata": {},
   "outputs": [],
   "source": [
    "lap_range = list(range(44, 78 + 1))"
   ]
  },
  {
   "cell_type": "code",
   "execution_count": null,
   "metadata": {},
   "outputs": [],
   "source": [
    "laps = {\n",
    "    'season': [],\n",
    "    'round': [],\n",
    "    'lap': [],\n",
    "    'driver': [],\n",
    "    'position': [],\n",
    "    'time': []\n",
    "}"
   ]
  },
  {
   "cell_type": "code",
   "execution_count": null,
   "metadata": {},
   "outputs": [],
   "source": [
    "# query results API\n",
    "for n in list(range(len(rounds))):\n",
    "    for i in rounds[n][1]:\n",
    "        for x in range(1, 87 + 1):\n",
    "            url = 'http://ergast.com/api/f1/{}/{}/laps/{}.json'\n",
    "            r = requests.get(url.format(rounds[n][0], i, x))\n",
    "            json = r.json()\n",
    "            item = json['MRData']['RaceTable']\n",
    "            if not item['Races']:\n",
    "                break\n",
    "\n",
    "            for driver in item['Races'][0]['Laps'][0]['Timings']:\n",
    "                laps['season'].append(item['season'])\n",
    "                laps['round'].append(item['round'])\n",
    "                laps['lap'].append(item['Races'][0]['Laps'][0]['number'])\n",
    "                laps['driver'].append(driver['driverId'])\n",
    "                laps['position'].append(driver['position'])\n",
    "                laps['time'].append(driver['time'])\n",
    "\n",
    "laps = pd.DataFrame(laps)\n"
   ]
  },
  {
   "cell_type": "code",
   "execution_count": null,
   "metadata": {},
   "outputs": [],
   "source": [
    "qual = {\n",
    "    'season': [],\n",
    "    'round': [],\n",
    "    'position': [],\n",
    "    'circuit_id':[],\n",
    "    'driver': [],\n",
    "    'q1': [],\n",
    "    'q2': [],\n",
    "    'q3': []\n",
    "}"
   ]
  },
  {
   "cell_type": "code",
   "execution_count": null,
   "metadata": {},
   "outputs": [],
   "source": [
    "# query results API\n",
    "\n",
    "for i in rounds:\n",
    "    url = 'http://ergast.com/api/f1/{}/{}/qualifying.json'\n",
    "    r = requests.get(url.format(2021, i))\n",
    "    json = r.json()\n",
    "\n",
    "    for item in json['MRData']['RaceTable']['Races']:\n",
    "        for n in item['QualifyingResults']:\n",
    "            qual['season'].append(2021)\n",
    "            qual['round'].append(i)\n",
    "            qual['position'].append(n['position'])\n",
    "            qual['driver'].append(n['Driver']['driverId'])\n",
    "            qual['circuit_id'].append(item['Circuit']['circuitId'])\n",
    "\n",
    "            try:\n",
    "                qual['q3'].append(n['Q3'])\n",
    "            except:\n",
    "                qual['q3'].append('OUT')\n",
    "\n",
    "            try:\n",
    "                qual['q2'].append(n['Q2'])\n",
    "            except:\n",
    "                qual['q2'].append('OUT')\n",
    "\n",
    "            try:\n",
    "                qual['q1'].append(n['Q1'])\n",
    "            except:\n",
    "                qual['q1'].append('DNF')\n",
    "\n",
    "pd.DataFrame(qual)"
   ]
  },
  {
   "cell_type": "code",
   "execution_count": null,
   "metadata": {},
   "outputs": [],
   "source": [
    "# query API\n",
    "\n",
    "for i in rounds:\n",
    "\n",
    "    url = 'http://ergast.com/api/f1/{}/{}/constructorStandings.json'\n",
    "    r = requests.get(url.format(2021, i))\n",
    "    json = r.json()\n",
    "\n",
    "    for item in json['MRData']['StandingsTable']['StandingsLists'][0]['ConstructorStandings']:\n",
    "        for n in item:\n",
    "            print(f'{n} : {item[n]}')\n",
    "        break"
   ]
  },
  {
   "cell_type": "code",
   "execution_count": null,
   "metadata": {},
   "outputs": [],
   "source": [
    "# query API\n",
    "\n",
    "for i in rounds:\n",
    "\n",
    "    url = 'http://ergast.com/api/f1/{}/{}/driverStandings.json'\n",
    "    r = requests.get(url.format(2021, i))\n",
    "    json = r.json()\n",
    "\n",
    "    for item in json['MRData']['StandingsTable']['StandingsLists'][0]['DriverStandings']:\n",
    "        for n in item:\n",
    "            print(f'{n} : {item[n]}')\n",
    "        break"
   ]
  },
  {
   "cell_type": "code",
   "execution_count": null,
   "metadata": {},
   "outputs": [],
   "source": [
    "# query API\n",
    "\n",
    "schedules = {\n",
    "        'season': [],\n",
    "        'round': [],\n",
    "        'circuit_id': [],\n",
    "        'date': []\n",
    "        }\n",
    "\n",
    "for i in rounds:\n",
    "\n",
    "    url = 'http://ergast.com/api/f1/{}.json'\n",
    "    r = requests.get(url.format(2021))\n",
    "    json = r.json()\n",
    "\n",
    "    for item in json['MRData']['RaceTable']['Races']:\n",
    "        schedules['season'].append(int(item['season']))\n",
    "        schedules['round'].append(int(item['round']))\n",
    "        schedules['circuit_id'].append(item['Circuit']['circuitId'])\n",
    "        schedules['date'].append(datetime.strptime(item['date']+ 'T' +item['time'], '%Y-%m-%dT%H:%M:%SZ'))\n",
    "\n",
    "schedules = pd.DataFrame(schedules)\n",
    "schedules.head()"
   ]
  }
 ],
 "metadata": {
  "kernelspec": {
   "display_name": "Python 3.11.0 64-bit",
   "language": "python",
   "name": "python3"
  },
  "language_info": {
   "codemirror_mode": {
    "name": "ipython",
    "version": 3
   },
   "file_extension": ".py",
   "mimetype": "text/x-python",
   "name": "python",
   "nbconvert_exporter": "python",
   "pygments_lexer": "ipython3",
   "version": "3.11.0 (v3.11.0:deaf509e8f, Oct 24 2022, 14:43:23) [Clang 13.0.0 (clang-1300.0.29.30)]"
  },
  "orig_nbformat": 4,
  "vscode": {
   "interpreter": {
    "hash": "aee8b7b246df8f9039afb4144a1f6fd8d2ca17a180786b69acc140d282b71a49"
   }
  }
 },
 "nbformat": 4,
 "nbformat_minor": 2
}
