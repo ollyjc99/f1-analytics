{
 "cells": [
  {
   "cell_type": "code",
   "execution_count": 2,
   "metadata": {},
   "outputs": [],
   "source": [
    "import pandas as pd\n",
    "import numpy as np\n",
    "from datetime import datetime\n",
    "import requests\n",
    "import json\n",
    "import warnings\n",
    "\n",
    "from sys import platform\n",
    "\n",
    "if platform == \"win32\":\n",
    "    path = 'C:/Users/olive/GitHub/f1-analytics/'\n",
    "elif platform == \"darwin\":\n",
    "    path = '~/Documents/GitHub/f1-analytics/'\n",
    "    # path = '/Users/oliverjcarter/Documents/GitHub/f1-analytics/'\n",
    "\n",
    "warnings.filterwarnings(\"ignore\", category=RuntimeWarning) \n",
    "pd.options.mode.chained_assignment = None  # default='warn'\n",
    "\n",
    "%matplotlib inline"
   ]
  },
  {
   "cell_type": "code",
   "execution_count": 61,
   "metadata": {},
   "outputs": [],
   "source": [
    "races = pd.read_csv(path+'data/races.csv')\n",
    "\n",
    "rounds = []\n",
    "for year in np.array(races.season.unique()):\n",
    "    rounds.append([year, list(races[races.season == year]['round'])])"
   ]
  },
  {
   "cell_type": "code",
   "execution_count": null,
   "metadata": {},
   "outputs": [],
   "source": [
    "# query results API\n",
    "\n",
    "for i in rounds:\n",
    "\n",
    "    url = 'http://ergast.com/api/f1/{}/{}/results.json'\n",
    "    r = requests.get(url.format(2021, i))\n",
    "    json = r.json()\n",
    "\n",
    "    for item in json['MRData']['RaceTable']['Races'][0]['Results']:\n",
    "        for n in item:\n",
    "            pass\n",
    "        break\n",
    "    break"
   ]
  },
  {
   "cell_type": "code",
   "execution_count": 4,
   "metadata": {},
   "outputs": [],
   "source": [
    "lap_range = list(range(44, 78 + 1))"
   ]
  },
  {
   "cell_type": "code",
   "execution_count": 62,
   "metadata": {},
   "outputs": [],
   "source": [
    "laps = {\n",
    "    'season': [],\n",
    "    'round': [],\n",
    "    'lap': [],\n",
    "    'driver': [],\n",
    "    'position': [],\n",
    "    'time': []\n",
    "}"
   ]
  },
  {
   "cell_type": "code",
   "execution_count": 63,
   "metadata": {},
   "outputs": [
    {
     "name": "stdout",
     "output_type": "stream",
     "text": [
      "20\n",
      "21\n",
      "21\n",
      "17\n",
      "22\n",
      "21\n"
     ]
    }
   ],
   "source": [
    "# query results API\n",
    "for n in list(range(len(rounds))):\n",
    "    for i in rounds[n][1]:\n",
    "        for x in range(1, 87 + 1):\n",
    "            url = 'http://ergast.com/api/f1/{}/{}/laps/{}.json'\n",
    "            r = requests.get(url.format(rounds[n][0], i, x))\n",
    "            json = r.json()\n",
    "            item = json['MRData']['RaceTable']\n",
    "            if not item['Races']:\n",
    "                break\n",
    "\n",
    "            for driver in item['Races'][0]['Laps'][0]['Timings']:\n",
    "                laps['season'].append(item['season'])\n",
    "                laps['round'].append(item['round'])\n",
    "                laps['lap'].append(item['Races'][0]['Laps'][0]['number'])\n",
    "                laps['driver'].append(driver['driverId'])\n",
    "                laps['position'].append(driver['position'])\n",
    "                laps['time'].append(driver['time'])\n",
    "\n",
    "laps = pd.DataFrame(laps)\n"
   ]
  },
  {
   "cell_type": "code",
   "execution_count": null,
   "metadata": {},
   "outputs": [],
   "source": [
    "qual = {\n",
    "    'season': [],\n",
    "    'round': [],\n",
    "    'position': [],\n",
    "    'circuit_id':[],\n",
    "    'driver': [],\n",
    "    'q1': [],\n",
    "    'q2': [],\n",
    "    'q3': []\n",
    "}"
   ]
  },
  {
   "cell_type": "code",
   "execution_count": null,
   "metadata": {},
   "outputs": [],
   "source": [
    "# query results API\n",
    "\n",
    "for i in rounds:\n",
    "    url = 'http://ergast.com/api/f1/{}/{}/qualifying.json'\n",
    "    r = requests.get(url.format(2021, i))\n",
    "    json = r.json()\n",
    "\n",
    "    for item in json['MRData']['RaceTable']['Races']:\n",
    "        for n in item['QualifyingResults']:\n",
    "            qual['season'].append(2021)\n",
    "            qual['round'].append(i)\n",
    "            qual['position'].append(n['position'])\n",
    "            qual['driver'].append(n['Driver']['driverId'])\n",
    "            qual['circuit_id'].append(item['Circuit']['circuitId'])\n",
    "\n",
    "            try:\n",
    "                qual['q3'].append(n['Q3'])\n",
    "            except:\n",
    "                qual['q3'].append('OUT')\n",
    "\n",
    "            try:\n",
    "                qual['q2'].append(n['Q2'])\n",
    "            except:\n",
    "                qual['q2'].append('OUT')\n",
    "\n",
    "            try:\n",
    "                qual['q1'].append(n['Q1'])\n",
    "            except:\n",
    "                qual['q1'].append('DNF')\n",
    "\n",
    "pd.DataFrame(qual)"
   ]
  },
  {
   "cell_type": "code",
   "execution_count": null,
   "metadata": {},
   "outputs": [],
   "source": [
    "# query API\n",
    "\n",
    "for i in rounds:\n",
    "\n",
    "    url = 'http://ergast.com/api/f1/{}/{}/constructorStandings.json'\n",
    "    r = requests.get(url.format(2021, i))\n",
    "    json = r.json()\n",
    "\n",
    "    for item in json['MRData']['StandingsTable']['StandingsLists'][0]['ConstructorStandings']:\n",
    "        for n in item:\n",
    "            print(f'{n} : {item[n]}')\n",
    "        break"
   ]
  },
  {
   "cell_type": "code",
   "execution_count": null,
   "metadata": {},
   "outputs": [],
   "source": [
    "# query API\n",
    "\n",
    "for i in rounds:\n",
    "\n",
    "    url = 'http://ergast.com/api/f1/{}/{}/driverStandings.json'\n",
    "    r = requests.get(url.format(2021, i))\n",
    "    json = r.json()\n",
    "\n",
    "    for item in json['MRData']['StandingsTable']['StandingsLists'][0]['DriverStandings']:\n",
    "        for n in item:\n",
    "            print(f'{n} : {item[n]}')\n",
    "        break"
   ]
  },
  {
   "cell_type": "code",
   "execution_count": null,
   "metadata": {},
   "outputs": [],
   "source": [
    "# query API\n",
    "\n",
    "schedules = {\n",
    "        'season': [],\n",
    "        'round': [],\n",
    "        'circuit_id': [],\n",
    "        'date': []\n",
    "        }\n",
    "\n",
    "for i in rounds:\n",
    "\n",
    "    url = 'http://ergast.com/api/f1/{}.json'\n",
    "    r = requests.get(url.format(2021))\n",
    "    json = r.json()\n",
    "\n",
    "    for item in json['MRData']['RaceTable']['Races']:\n",
    "        schedules['season'].append(int(item['season']))\n",
    "        schedules['round'].append(int(item['round']))\n",
    "        schedules['circuit_id'].append(item['Circuit']['circuitId'])\n",
    "        schedules['date'].append(datetime.strptime(item['date']+ 'T' +item['time'], '%Y-%m-%dT%H:%M:%SZ'))\n",
    "\n",
    "schedules = pd.DataFrame(schedules)\n",
    "schedules.head()"
   ]
  }
 ],
 "metadata": {
  "kernelspec": {
   "display_name": "Python 3.11.0 64-bit",
   "language": "python",
   "name": "python3"
  },
  "language_info": {
   "codemirror_mode": {
    "name": "ipython",
    "version": 3
   },
   "file_extension": ".py",
   "mimetype": "text/x-python",
   "name": "python",
   "nbconvert_exporter": "python",
   "pygments_lexer": "ipython3",
   "version": "3.11.0"
  },
  "orig_nbformat": 4,
  "vscode": {
   "interpreter": {
    "hash": "aee8b7b246df8f9039afb4144a1f6fd8d2ca17a180786b69acc140d282b71a49"
   }
  }
 },
 "nbformat": 4,
 "nbformat_minor": 2
}
