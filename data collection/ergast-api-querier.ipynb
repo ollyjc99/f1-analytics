{
 "cells": [
  {
   "cell_type": "code",
   "execution_count": null,
   "metadata": {},
   "outputs": [],
   "source": [
    "import pandas as pd\n",
    "import numpy as np\n",
    "from datetime import datetime\n",
    "import matplotlib.pyplot as plt\n",
    "from meteostat import Point, Daily, Hourly\n",
    "import meteostat\n",
    "import requests\n",
    "import json\n",
    "import warnings\n",
    "\n",
    "from sys import platform\n",
    "\n",
    "if platform == \"win32\":\n",
    "    path = 'C:/Users/olive/GitHub/f1-analytics/'\n",
    "elif platform == \"darwin\":\n",
    "    path = '/Users/oliverjcarter/Documents/GitHub/f1-analytics/'\n",
    "\n",
    "warnings.filterwarnings(\"ignore\", category=RuntimeWarning) \n",
    "pd.options.mode.chained_assignment = None  # default='warn'\n",
    "\n",
    "%matplotlib inline"
   ]
  },
  {
   "cell_type": "code",
   "execution_count": null,
   "metadata": {},
   "outputs": [],
   "source": [
    "# query API\n",
    "    \n",
    "results = {\n",
    "    'season': [],\n",
    "    'round':[],\n",
    "    'circuit_id':[],\n",
    "    'driver': [],\n",
    "    'date_of_birth': [],\n",
    "    'nationality': [],\n",
    "    'constructor': [],\n",
    "    'grid': [],\n",
    "    'time': [],\n",
    "    'status': [],\n",
    "    'points': [],\n",
    "    'podium': []}\n",
    "\n",
    "for n in list(range(len(rounds))):\n",
    "    for i in rounds[n][1]:\n",
    "    \n",
    "        url = 'http://ergast.com/api/f1/{}/{}/results.json'\n",
    "        r = requests.get(url.format(rounds[n][0], i))\n",
    "        json = r.json()\n",
    "\n",
    "        for item in json['MRData']['RaceTable']['Races'][0]['Results']:\n",
    "\n",
    "            results['season'].append(int(json['MRData']['RaceTable']['Races'][0]['season']))\n",
    "            results['round'].append(int(json['MRData']['RaceTable']['Races'][0]['round']))\n",
    "            results['circuit_id'].append(json['MRData']['RaceTable']['Races'][0]['Circuit']['circuitId'])\n",
    "            results['driver'].append(item['Driver']['driverId'])\n",
    "            results['date_of_birth'].append(item['Driver']['dateOfBirth'])\n",
    "            results['nationality'].append(item['Driver']['nationality'])\n",
    "            results['constructor'].append(item['Constructor']['constructorId'])\n",
    "            results['grid'].append(int(item['grid']))\n",
    "\n",
    "            try:\n",
    "                results['time'].append(int(item['Time']['millis']))\n",
    "            except:\n",
    "                results['time'].append(None)\n",
    "\n",
    "            results['status'].append(item['status'])\n",
    "            results['points'].append(float(item['points']))\n",
    "            results['podium'].append(int(item['position']))\n",
    "\n",
    "\n",
    "results = pd.DataFrame(results)\n",
    "results.head()"
   ]
  }
 ],
 "metadata": {
  "kernelspec": {
   "display_name": "Python 3.11.0 64-bit",
   "language": "python",
   "name": "python3"
  },
  "language_info": {
   "name": "python",
   "version": "3.11.0"
  },
  "orig_nbformat": 4,
  "vscode": {
   "interpreter": {
    "hash": "aee8b7b246df8f9039afb4144a1f6fd8d2ca17a180786b69acc140d282b71a49"
   }
  }
 },
 "nbformat": 4,
 "nbformat_minor": 2
}
