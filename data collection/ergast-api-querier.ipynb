{
 "cells": [
  {
   "cell_type": "code",
   "execution_count": 1,
   "metadata": {},
   "outputs": [],
   "source": [
    "import pandas as pd\n",
    "import numpy as np\n",
    "from datetime import datetime\n",
    "import matplotlib.pyplot as plt\n",
    "from meteostat import Point, Daily, Hourly\n",
    "import meteostat\n",
    "import requests\n",
    "import json\n",
    "import warnings\n",
    "\n",
    "from sys import platform\n",
    "\n",
    "if platform == \"win32\":\n",
    "    path = 'C:/Users/olive/GitHub/f1-analytics/'\n",
    "elif platform == \"darwin\":\n",
    "    path = '/Users/oliverjcarter/Documents/GitHub/f1-analytics/'\n",
    "\n",
    "warnings.filterwarnings(\"ignore\", category=RuntimeWarning) \n",
    "pd.options.mode.chained_assignment = None  # default='warn'\n",
    "\n",
    "%matplotlib inline"
   ]
  },
  {
   "cell_type": "code",
   "execution_count": 31,
   "metadata": {},
   "outputs": [],
   "source": [
    "races = pd.read_csv(path+'data/races.csv')\n",
    "\n",
    "rounds = []\n",
    "rounds.append([2021, list(races[races.season == 2021]['round'])])\n",
    "rounds = [1]\n"
   ]
  },
  {
   "cell_type": "code",
   "execution_count": 39,
   "metadata": {},
   "outputs": [
    {
     "name": "stdout",
     "output_type": "stream",
     "text": [
      "number\n",
      "position\n",
      "positionText\n",
      "points\n",
      "Driver\n",
      "Constructor\n",
      "grid\n",
      "laps\n",
      "status\n",
      "Time\n",
      "FastestLap\n"
     ]
    }
   ],
   "source": [
    "# query API\n",
    "    \n",
    "results = {\n",
    "    'season': [],\n",
    "    'round':[],\n",
    "    'circuit_id':[],\n",
    "    'driver': [],\n",
    "    'date_of_birth': [],\n",
    "    'nationality': [],\n",
    "    'constructor': [],\n",
    "    'grid': [],\n",
    "    'time': [],\n",
    "    'status': [],\n",
    "    'points': [],\n",
    "    'podium': []}\n",
    "\n",
    "for i in rounds:\n",
    "\n",
    "    url = 'http://ergast.com/api/f1/{}/{}/results.json'\n",
    "    r = requests.get(url.format(2021, i))\n",
    "    json = r.json()\n",
    "\n",
    "    for item in json['MRData']['RaceTable']['Races'][0]['Results']:\n",
    "\n",
    "        for n in item:\n",
    "            print(n)\n",
    "        break"
   ]
  }
 ],
 "metadata": {
  "kernelspec": {
   "display_name": "Python 3.11.0 64-bit",
   "language": "python",
   "name": "python3"
  },
  "language_info": {
   "codemirror_mode": {
    "name": "ipython",
    "version": 3
   },
   "file_extension": ".py",
   "mimetype": "text/x-python",
   "name": "python",
   "nbconvert_exporter": "python",
   "pygments_lexer": "ipython3",
   "version": "3.11.0"
  },
  "orig_nbformat": 4,
  "vscode": {
   "interpreter": {
    "hash": "aee8b7b246df8f9039afb4144a1f6fd8d2ca17a180786b69acc140d282b71a49"
   }
  }
 },
 "nbformat": 4,
 "nbformat_minor": 2
}
