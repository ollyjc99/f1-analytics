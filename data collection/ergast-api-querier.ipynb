{
 "cells": [
  {
   "cell_type": "code",
   "execution_count": null,
   "metadata": {},
   "outputs": [],
   "source": [
    "import pandas as pd\n",
    "from datetime import datetime\n",
    "import requests\n",
    "import json\n",
    "import warnings\n",
    "\n",
    "from sys import platform\n",
    "\n",
    "if platform == \"win32\":\n",
    "    path = 'C:/Users/olive/GitHub/f1-analytics/'\n",
    "elif platform == \"darwin\":\n",
    "    path = '~/Documents/GitHub/f1-analytics/'\n",
    "\n",
    "warnings.filterwarnings(\"ignore\", category=RuntimeWarning) \n",
    "pd.options.mode.chained_assignment = None  # default='warn'\n",
    "\n",
    "%matplotlib inline"
   ]
  },
  {
   "cell_type": "code",
   "execution_count": null,
   "metadata": {},
   "outputs": [],
   "source": [
    "races = pd.read_csv(path+'data/races.csv')\n",
    "\n",
    "rounds = []\n",
    "rounds.append([2021, list(races[races.season == 2021]['round'])])\n",
    "rounds = [1]"
   ]
  },
  {
   "cell_type": "code",
   "execution_count": null,
   "metadata": {},
   "outputs": [],
   "source": [
    "# query API\n",
    "\n",
    "for i in rounds:\n",
    "\n",
    "    url = 'http://ergast.com/api/f1/{}/{}/results.json'\n",
    "    r = requests.get(url.format(2021, i))\n",
    "    json = r.json()\n",
    "\n",
    "    for item in json['MRData']['RaceTable']['Races'][0]['Results']:\n",
    "        for n in item:\n",
    "            print(f'{n} : {item[n]}')\n",
    "        break"
   ]
  },
  {
   "cell_type": "code",
   "execution_count": null,
   "metadata": {},
   "outputs": [],
   "source": [
    "# query API\n",
    "\n",
    "for i in rounds:\n",
    "\n",
    "    url = 'http://ergast.com/api/f1/{}/{}/constructorStandings.json'\n",
    "    r = requests.get(url.format(2021, i))\n",
    "    json = r.json()\n",
    "\n",
    "    for item in json['MRData']['StandingsTable']['StandingsLists'][0]['ConstructorStandings']:\n",
    "        for n in item:\n",
    "            print(f'{n} : {item[n]}')\n",
    "        break"
   ]
  },
  {
   "cell_type": "code",
   "execution_count": null,
   "metadata": {},
   "outputs": [],
   "source": [
    "# query API\n",
    "\n",
    "for i in rounds:\n",
    "\n",
    "    url = 'http://ergast.com/api/f1/{}/{}/driverStandings.json'\n",
    "    r = requests.get(url.format(2021, i))\n",
    "    json = r.json()\n",
    "\n",
    "    for item in json['MRData']['StandingsTable']['StandingsLists'][0]['DriverStandings']:\n",
    "        for n in item:\n",
    "            print(f'{n} : {item[n]}')\n",
    "        break"
   ]
  },
  {
   "cell_type": "code",
   "execution_count": null,
   "metadata": {},
   "outputs": [],
   "source": [
    "# query API\n",
    "\n",
    "schedules = {\n",
    "        'season': [],\n",
    "        'round': [],\n",
    "        'circuit_id': [],\n",
    "        'date': []\n",
    "        }\n",
    "\n",
    "for i in rounds:\n",
    "\n",
    "    url = 'http://ergast.com/api/f1/{}.json'\n",
    "    r = requests.get(url.format(2021))\n",
    "    json = r.json()\n",
    "\n",
    "    for item in json['MRData']['RaceTable']['Races']:\n",
    "        schedules['season'].append(int(item['season']))\n",
    "        schedules['round'].append(int(item['round']))\n",
    "        schedules['circuit_id'].append(item['Circuit']['circuitId'])\n",
    "        schedules['date'].append(datetime.strptime(item['date']+ 'T' +item['time'], '%Y-%m-%dT%H:%M:%SZ'))\n",
    "\n",
    "schedules = pd.DataFrame(schedules)\n",
    "schedules.head()"
   ]
  }
 ],
 "metadata": {
  "kernelspec": {
   "display_name": "Python 3.11.0 64-bit",
   "language": "python",
   "name": "python3"
  },
  "language_info": {
   "codemirror_mode": {
    "name": "ipython",
    "version": 3
   },
   "file_extension": ".py",
   "mimetype": "text/x-python",
   "name": "python",
   "nbconvert_exporter": "python",
   "pygments_lexer": "ipython3",
   "version": "3.11.0"
  },
  "orig_nbformat": 4,
  "vscode": {
   "interpreter": {
    "hash": "aee8b7b246df8f9039afb4144a1f6fd8d2ca17a180786b69acc140d282b71a49"
   }
  }
 },
 "nbformat": 4,
 "nbformat_minor": 2
}
