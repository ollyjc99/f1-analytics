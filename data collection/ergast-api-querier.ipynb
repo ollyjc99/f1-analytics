{
 "cells": [
  {
   "cell_type": "code",
   "execution_count": 6,
   "metadata": {},
   "outputs": [],
   "source": [
    "import pandas as pd\n",
    "import numpy as np\n",
    "from datetime import datetime\n",
    "import matplotlib.pyplot as plt\n",
    "from meteostat import Point, Daily, Hourly\n",
    "import meteostat\n",
    "import requests\n",
    "import json\n",
    "import warnings\n",
    "\n",
    "from sys import platform\n",
    "\n",
    "if platform == \"win32\":\n",
    "    path = 'C:/Users/olive/GitHub/f1-analytics/'\n",
    "elif platform == \"darwin\":\n",
    "    path = '~/Documents/GitHub/f1-analytics/'\n",
    "\n",
    "warnings.filterwarnings(\"ignore\", category=RuntimeWarning) \n",
    "pd.options.mode.chained_assignment = None  # default='warn'\n",
    "\n",
    "%matplotlib inline"
   ]
  },
  {
   "cell_type": "code",
   "execution_count": 7,
   "metadata": {},
   "outputs": [],
   "source": [
    "races = pd.read_csv(path+'data/races.csv')\n",
    "\n",
    "rounds = []\n",
    "rounds.append([2021, list(races[races.season == 2021]['round'])])\n",
    "rounds = [1]\n"
   ]
  },
  {
   "cell_type": "code",
   "execution_count": 21,
   "metadata": {},
   "outputs": [
    {
     "name": "stdout",
     "output_type": "stream",
     "text": [
      "1:34.015\n",
      "56\n",
      "1:33.228\n",
      "56\n",
      "1:32.090\n",
      "56\n",
      "1:34.396\n",
      "56\n",
      "1:33.970\n",
      "56\n",
      "1:34.988\n",
      "56\n",
      "1:34.932\n",
      "56\n",
      "1:34.509\n",
      "56\n",
      "1:34.761\n",
      "56\n",
      "1:34.865\n",
      "56\n",
      "1:35.192\n",
      "56\n",
      "1:35.122\n",
      "55\n",
      "1:35.250\n",
      "55\n",
      "1:35.036\n",
      "55\n",
      "1:35.566\n",
      "55\n",
      "1:36.134\n",
      "55\n",
      "1:34.090\n",
      "52\n",
      "1:36.602\n",
      "51\n",
      "1:36.063\n",
      "32\n",
      "0\n"
     ]
    }
   ],
   "source": [
    "# query API\n",
    "\n",
    "for i in rounds:\n",
    "\n",
    "    url = 'http://ergast.com/api/f1/{}/{}/results.json'\n",
    "    r = requests.get(url.format(2021, i))\n",
    "    json = r.json()\n",
    "\n",
    "    for item in json['MRData']['RaceTable']['Races'][0]['Results']:\n",
    "        if item['laps'] != '0':\n",
    "            print(item['FastestLap']['Time']['time'])\n",
    "        # else:\n",
    "        #     print(item)\n",
    "        print(item['laps'])\n",
    "        # for n in item:\n",
    "        #     print(n)\n",
    "        # break"
   ]
  }
 ],
 "metadata": {
  "kernelspec": {
   "display_name": "Python 3.11.0 64-bit",
   "language": "python",
   "name": "python3"
  },
  "language_info": {
   "codemirror_mode": {
    "name": "ipython",
    "version": 3
   },
   "file_extension": ".py",
   "mimetype": "text/x-python",
   "name": "python",
   "nbconvert_exporter": "python",
   "pygments_lexer": "ipython3",
   "version": "3.11.0"
  },
  "orig_nbformat": 4,
  "vscode": {
   "interpreter": {
    "hash": "aee8b7b246df8f9039afb4144a1f6fd8d2ca17a180786b69acc140d282b71a49"
   }
  }
 },
 "nbformat": 4,
 "nbformat_minor": 2
}
