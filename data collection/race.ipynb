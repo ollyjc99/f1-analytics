{
 "cells": [
  {
   "cell_type": "code",
   "execution_count": null,
   "metadata": {},
   "outputs": [],
   "source": [
    "import pandas as pd\n",
    "import numpy as np\n",
    "import requests\n",
    "from datetime import datetime\n",
    "\n",
    "from sys import platform\n",
    "\n",
    "if platform == \"win32\":\n",
    "    path = 'C:/Users/olive/GitHub/f1-analytics/'\n",
    "elif platform == \"darwin\":\n",
    "    path = '~/Documents/GitHub/f1-analytics/'"
   ]
  },
  {
   "cell_type": "code",
   "execution_count": null,
   "metadata": {},
   "outputs": [],
   "source": [
    "years =  list(range(2014, 2022))"
   ]
  },
  {
   "cell_type": "code",
   "execution_count": null,
   "metadata": {},
   "outputs": [],
   "source": [
    "races = {\n",
    "        'season': [],\n",
    "        'round': [],\n",
    "        'circuit_id': [],\n",
    "        'country': [],\n",
    "        'lat': [],\n",
    "        'long': [],\n",
    "        'url': []\n",
    "        }\n",
    "\n",
    "for year in years:\n",
    "    url = 'https://ergast.com/api/f1/{}.json'\n",
    "    r = requests.get(url.format(year))\n",
    "    json = r.json()\n",
    "\n",
    "    for item in json['MRData']['RaceTable']['Races']:\n",
    "        races['season'].append(int(item['season']))\n",
    "        races['round'].append(int(item['round']))\n",
    "        races['circuit_id'].append(item['Circuit']['circuitId'])\n",
    "        races['country'].append(item['Circuit']['Location']['country'])    \n",
    "        races['lat'].append(float(item['Circuit']['Location']['lat']))\n",
    "        races['long'].append(float(item['Circuit']['Location']['long']))\n",
    "        races['url'].append(item['url'])\n",
    "\n",
    "races = pd.DataFrame(races)\n",
    "races.head()"
   ]
  },
  {
   "cell_type": "code",
   "execution_count": null,
   "metadata": {},
   "outputs": [],
   "source": [
    "### Query API\n",
    "\n",
    "schedules = {\n",
    "        'season': [],\n",
    "        'round': [],\n",
    "        'circuit_id': [],\n",
    "        'date': []\n",
    "        }\n",
    "\n",
    "for year in years:\n",
    "\n",
    "    url = 'http://ergast.com/api/f1/{}.json'\n",
    "    r = requests.get(url.format(year))\n",
    "    json = r.json()\n",
    "\n",
    "    for item in json['MRData']['RaceTable']['Races']:\n",
    "        schedules['season'].append(int(item['season']))\n",
    "        schedules['round'].append(int(item['round']))\n",
    "        schedules['circuit_id'].append(item['Circuit']['circuitId'])\n",
    "        schedules['date'].append(datetime.strptime(item['date']+ 'T' +item['time'], '%Y-%m-%dT%H:%M:%SZ'))\n",
    "\n",
    "schedules = pd.DataFrame(schedules)\n",
    "schedules.head()"
   ]
  },
  {
   "cell_type": "code",
   "execution_count": null,
   "metadata": {},
   "outputs": [],
   "source": [
    "race_schedules = pd.merge(races, schedules, how='inner', on=['season', 'round', 'circuit_id'])\n",
    "\n",
    "race_schedules.to_csv(path+'data/races.csv', index=False)"
   ]
  },
  {
   "cell_type": "code",
   "execution_count": null,
   "metadata": {},
   "outputs": [],
   "source": [
    "races = pd.read_csv(path+'data/races.csv')\n",
    "\n",
    "rounds = []\n",
    "for year in np.array(races.season.unique()):\n",
    "    rounds.append([year, list(races[races.season == year]['round'])])"
   ]
  },
  {
   "cell_type": "code",
   "execution_count": null,
   "metadata": {},
   "outputs": [],
   "source": [
    "# query API\n",
    "    \n",
    "results = {\n",
    "    'season': [],\n",
    "    'round':[],\n",
    "    'circuit_id':[],\n",
    "    'driver': [],\n",
    "    'date_of_birth': [],\n",
    "    'nationality': [],\n",
    "    'constructor': [],\n",
    "    'grid': [],\n",
    "    'time': [],\n",
    "    'status': [],\n",
    "    'points': [],\n",
    "    'podium': [],\n",
    "    'fastest_lap': []\n",
    "    }\n",
    "\n",
    "for n in list(range(len(rounds))):\n",
    "    for i in rounds[n][1]:\n",
    "    \n",
    "        url = 'http://ergast.com/api/f1/{}/{}/results.json'\n",
    "        r = requests.get(url.format(rounds[n][0], i))\n",
    "        json = r.json()\n",
    "\n",
    "        for item in json['MRData']['RaceTable']['Races'][0]['Results']:\n",
    "\n",
    "            results['season'].append(int(json['MRData']['RaceTable']['Races'][0]['season']))\n",
    "            results['round'].append(int(json['MRData']['RaceTable']['Races'][0]['round']))\n",
    "            results['circuit_id'].append(json['MRData']['RaceTable']['Races'][0]['Circuit']['circuitId'])\n",
    "            results['driver'].append(item['Driver']['driverId'])\n",
    "            results['date_of_birth'].append(item['Driver']['dateOfBirth'])\n",
    "            results['nationality'].append(item['Driver']['nationality'])\n",
    "            results['constructor'].append(item['Constructor']['constructorId'])\n",
    "            results['grid'].append(int(item['grid']))\n",
    "\n",
    "            try:\n",
    "                results['time'].append(int(item['Time']['millis']))\n",
    "            except:\n",
    "                results['time'].append(None)\n",
    "\n",
    "            results['status'].append(item['status'])\n",
    "            results['points'].append(float(item['points']))\n",
    "            results['podium'].append(int(item['position']))\n",
    "\n",
    "            if item['laps'] != '0':\n",
    "                results['fastest_lap'].append(item['FastestLap']['Time']['time'])\n",
    "            else:\n",
    "                results['fastest_lap'].append(None)\n",
    "\n",
    "\n",
    "results = pd.DataFrame(results)\n",
    "results.head()"
   ]
  },
  {
   "cell_type": "code",
   "execution_count": null,
   "metadata": {},
   "outputs": [],
   "source": [
    "results.to_csv(path+'data/results.csv', index = False)"
   ]
  },
  {
   "cell_type": "code",
   "execution_count": null,
   "metadata": {},
   "outputs": [],
   "source": [
    "driver_standings = {\n",
    "    'season': [],\n",
    "    'round':[],\n",
    "    'driver': [],\n",
    "    'driver_points': [],\n",
    "    'driver_wins': [],\n",
    "    'driver_standings_pos': []}\n",
    "\n",
    "for n in list(range(len(rounds))):\n",
    "    for i in rounds[n][1]:\n",
    "    \n",
    "        url = 'https://ergast.com/api/f1/{}/{}/driverStandings.json'\n",
    "        r = requests.get(url.format(rounds[n][0], i))\n",
    "        json = r.json()\n",
    "\n",
    "        for item in json['MRData']['StandingsTable']['StandingsLists'][0]['DriverStandings']:\n",
    "            driver_standings['season'].append(int(json['MRData']['StandingsTable']['StandingsLists'][0]['season']))\n",
    "            driver_standings['round'].append(int(json['MRData']['StandingsTable']['StandingsLists'][0]['round']))    \n",
    "            driver_standings['driver'].append(item['Driver']['driverId'])\n",
    "            driver_standings['driver_points'].append(float(item['points']))\n",
    "            driver_standings['driver_wins'].append(int(item['wins']))\n",
    "            driver_standings['driver_standings_pos'].append(int(item['position']))\n",
    "\n",
    "driver_standings = pd.DataFrame(driver_standings)\n",
    "driver_standings.tail(21)"
   ]
  },
  {
   "cell_type": "code",
   "execution_count": null,
   "metadata": {},
   "outputs": [],
   "source": [
    "driver_standings.to_csv(path+'data/driver_standings.csv', index=False)"
   ]
  },
  {
   "cell_type": "code",
   "execution_count": null,
   "metadata": {},
   "outputs": [],
   "source": [
    "constructor_rounds = rounds\n",
    "\n",
    "constructor_standings = {'season': [],\n",
    "                    'round':[],\n",
    "                    'constructor': [],\n",
    "                    'constructor_points': [],\n",
    "                    'constructor_wins': [],\n",
    "                   'constructor_standings_pos': [],\n",
    "                   'constructor_nationality': []}\n",
    "\n",
    "for n in list(range(len(constructor_rounds))):\n",
    "    for i in constructor_rounds[n][1]:\n",
    "    \n",
    "        url = 'https://ergast.com/api/f1/{}/{}/constructorStandings.json'\n",
    "        r = requests.get(url.format(constructor_rounds[n][0], i))\n",
    "        json = r.json()\n",
    "\n",
    "        for item in json['MRData']['StandingsTable']['StandingsLists'][0]['ConstructorStandings']:\n",
    "            constructor_standings['season'].append(int(json['MRData']['StandingsTable']['StandingsLists'][0]['season']))\n",
    "            constructor_standings['round'].append(int(json['MRData']['StandingsTable']['StandingsLists'][0]['round']))\n",
    "            constructor_standings['constructor'].append(item['Constructor']['constructorId'])\n",
    "            constructor_standings['constructor_points'].append(float(item['points']))\n",
    "            constructor_standings['constructor_wins'].append(int(item['wins']))\n",
    "            constructor_standings['constructor_nationality'].append(int(item['nationality']))\n",
    "            constructor_standings['constructor_standings_pos'].append(int(item['position']))\n",
    "            \n",
    "constructor_standings = pd.DataFrame(constructor_standings)\n",
    "constructor_standings.tail(10)"
   ]
  },
  {
   "cell_type": "code",
   "execution_count": null,
   "metadata": {},
   "outputs": [],
   "source": [
    "constructor_standings.to_csv(path+'data/constructor_standings.csv', index=False)"
   ]
  }
 ],
 "metadata": {
  "kernelspec": {
   "display_name": "Python 3.9.1 64-bit",
   "language": "python",
   "name": "python3"
  },
  "language_info": {
   "codemirror_mode": {
    "name": "ipython",
    "version": 3
   },
   "file_extension": ".py",
   "mimetype": "text/x-python",
   "name": "python",
   "nbconvert_exporter": "python",
   "pygments_lexer": "ipython3",
   "version": "3.11.0"
  },
  "orig_nbformat": 4,
  "vscode": {
   "interpreter": {
    "hash": "aee8b7b246df8f9039afb4144a1f6fd8d2ca17a180786b69acc140d282b71a49"
   }
  }
 },
 "nbformat": 4,
 "nbformat_minor": 2
}
