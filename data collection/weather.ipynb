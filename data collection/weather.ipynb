{
 "cells": [
  {
   "cell_type": "code",
   "execution_count": 67,
   "metadata": {},
   "outputs": [],
   "source": [
    "import pandas as pd\n",
    "import numpy as np\n",
    "import datetime as dt\n",
    "import requests\n",
    "import json\n",
    "\n",
    "from sys import platform\n",
    "\n",
    "if platform == \"win32\":\n",
    "    path = 'C:/Users/olive/GitHub/f1-analytics/'\n",
    "elif platform == \"darwin\":\n",
    "    path = '/Users/oliverjcarter/Documents/GitHub/f1-analytics/'"
   ]
  },
  {
   "cell_type": "code",
   "execution_count": 68,
   "metadata": {},
   "outputs": [
    {
     "data": {
      "text/plain": [
       "(160, 7)"
      ]
     },
     "execution_count": 68,
     "metadata": {},
     "output_type": "execute_result"
    }
   ],
   "source": [
    "races = pd.read_csv(path+'data/races.csv')\n",
    "\n",
    "weather = races.iloc[:,[0,1,2,3,4,5,6]]\n",
    "weather.shape"
   ]
  },
  {
   "cell_type": "code",
   "execution_count": 83,
   "metadata": {},
   "outputs": [],
   "source": [
    "s2021 = weather.query('season == 2021 & round == 12')\n",
    "\n",
    "race = s2021.iloc[0]"
   ]
  },
  {
   "cell_type": "code",
   "execution_count": 84,
   "metadata": {},
   "outputs": [
    {
     "name": "stdout",
     "output_type": "stream",
     "text": [
      "{'coord': {'lon': 50.5106, 'lat': 26.0325}, 'weather': [{'id': 803, 'main': 'Clouds', 'description': 'broken clouds', 'icon': '04d'}], 'base': 'stations', 'main': {'temp': 34.94, 'feels_like': 37.41, 'temp_min': 34.94, 'temp_max': 34.94, 'pressure': 1010, 'humidity': 41, 'sea_level': 1010, 'grnd_level': 1008}, 'visibility': 10000, 'wind': {'speed': 5.95, 'deg': 150, 'gust': 6.34}, 'clouds': {'all': 54}, 'dt': 1667390406, 'sys': {'type': 1, 'id': 7397, 'country': 'BH', 'sunrise': 1667357222, 'sunset': 1667397354}, 'timezone': 10800, 'id': 290291, 'name': 'Bahrain', 'cod': 200}\n"
     ]
    }
   ],
   "source": [
    "base = 'http://api.openweathermap.org/data/2.5/weather?'\n",
    "api_key = open(path+'api_key.txt', 'r').read()\n",
    "city = 'Cardiff'\n",
    "\n",
    "race = weather.iloc[2]\n",
    "\n",
    "lat = race.lat\n",
    "lon = race.long\n",
    "\n",
    "url = f\"https://api.openweathermap.org/data/2.5/weather?appid={api_key}&lat={lat}&lon={lon}&units=metric\"\n",
    "response = requests.get(url)\n",
    "data = json.loads(response.text)\n",
    "\n",
    "print(data)"
   ]
  },
  {
   "cell_type": "code",
   "execution_count": 86,
   "metadata": {},
   "outputs": [
    {
     "name": "stdout",
     "output_type": "stream",
     "text": [
      "[{'id': 803, 'main': 'Clouds', 'description': 'broken clouds', 'icon': '04d'}]\n",
      "{'temp': 34.94, 'feels_like': 37.41, 'temp_min': 34.94, 'temp_max': 34.94, 'pressure': 1010, 'humidity': 41, 'sea_level': 1010, 'grnd_level': 1008}\n",
      "10000\n",
      "{'speed': 5.95, 'deg': 150, 'gust': 6.34}\n",
      "{'all': 54}\n"
     ]
    }
   ],
   "source": [
    "print(data['weather'])\n",
    "print(data['main'])\n",
    "print(data['visibility'])\n",
    "print(data['wind'])\n",
    "# print(data['rain'])\n",
    "print(data['clouds'])"
   ]
  }
 ],
 "metadata": {
  "kernelspec": {
   "display_name": "Python 3.11.0 64-bit",
   "language": "python",
   "name": "python3"
  },
  "language_info": {
   "codemirror_mode": {
    "name": "ipython",
    "version": 3
   },
   "file_extension": ".py",
   "mimetype": "text/x-python",
   "name": "python",
   "nbconvert_exporter": "python",
   "pygments_lexer": "ipython3",
   "version": "3.11.0"
  },
  "orig_nbformat": 4,
  "vscode": {
   "interpreter": {
    "hash": "aee8b7b246df8f9039afb4144a1f6fd8d2ca17a180786b69acc140d282b71a49"
   }
  }
 },
 "nbformat": 4,
 "nbformat_minor": 2
}
