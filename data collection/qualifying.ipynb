{
 "cells": [
  {
   "cell_type": "code",
   "execution_count": 1,
   "metadata": {},
   "outputs": [],
   "source": [
    "import pandas as pd\n",
    "import numpy as np\n",
    "from datetime import datetime\n",
    "import requests\n",
    "import json\n",
    "import warnings\n",
    "from unidecode import unidecode\n",
    "\n",
    "from sys import platform\n",
    "\n",
    "if platform == \"win32\":\n",
    "    path = 'C:/Users/olive/GitHub/f1-analytics/'\n",
    "elif platform == \"darwin\":\n",
    "    path = '~/Documents/GitHub/f1-analytics/'\n",
    "    # path = '/Users/oliverjcarter/Documents/GitHub/f1-analytics/'\n",
    "\n",
    "warnings.filterwarnings(\"ignore\", category=RuntimeWarning) \n",
    "pd.options.mode.chained_assignment = None  # default='warn'\n",
    "\n",
    "%matplotlib inline"
   ]
  },
  {
   "cell_type": "code",
   "execution_count": 2,
   "metadata": {},
   "outputs": [],
   "source": [
    "races = pd.read_csv(path+'data/races.csv')\n",
    "\n",
    "rounds = []\n",
    "for year in np.array(races.season.unique()):\n",
    "    rounds.append([year, list(races[races.season == year]['round'])])"
   ]
  },
  {
   "cell_type": "code",
   "execution_count": 3,
   "metadata": {},
   "outputs": [],
   "source": [
    "qual = {\n",
    "    'season': [],\n",
    "    'round': [],\n",
    "    'grid': [],\n",
    "    'circuit_id':[],\n",
    "    'driver': [],\n",
    "    'q1': [],\n",
    "    'q2': [],\n",
    "    'q3': []\n",
    "}"
   ]
  },
  {
   "cell_type": "code",
   "execution_count": 4,
   "metadata": {},
   "outputs": [],
   "source": [
    "def format_time(x):\n",
    "    if not any(i in x for i in ['DNF', 'DNS']):\n",
    "        if ':' in x:\n",
    "            return round(float(str(x).split(':')[1]) + (60 * float(str(x).split(':')[0])), 3) if x != 0 else 0\n",
    "        else:\n",
    "            return(round(float(x), 3))\n",
    "    else:\n",
    "        return x"
   ]
  },
  {
   "cell_type": "code",
   "execution_count": 5,
   "metadata": {},
   "outputs": [],
   "source": [
    "# query results API\n",
    "\n",
    "for x in list(range(len(rounds))):\n",
    "    for i in rounds[x][1]:\n",
    "        url = 'http://ergast.com/api/f1/{}/{}/qualifying.json'\n",
    "        r = requests.get(url.format(rounds[x][0], i))\n",
    "        json = r.json()\n",
    "\n",
    "        for item in json['MRData']['RaceTable']['Races']:\n",
    "            for n in item['QualifyingResults']:\n",
    "                qual['season'].append(rounds[x][0])\n",
    "                qual['round'].append(i)\n",
    "                qual['grid'].append(n['position'])\n",
    "                qual['driver'].append(\n",
    "                    unidecode(n['Driver']['givenName'].lower()) +'_'+ unidecode(n['Driver']['familyName'].lower())\n",
    "                )\n",
    "                qual['circuit_id'].append(item['Circuit']['circuitId'])\n",
    "\n",
    "                try:\n",
    "                    qual['q3'].append(format_time(n['Q3']))\n",
    "                except:\n",
    "                    qual['q3'].append('OUT')\n",
    "\n",
    "                try:\n",
    "                    qual['q2'].append(format_time(n['Q2']))\n",
    "                except:\n",
    "                    qual['q2'].append('OUT')\n",
    "\n",
    "                try:\n",
    "                    qual['q1'].append(format_time(n['Q1']))\n",
    "                except:\n",
    "                    qual['q1'].append('DNF')\n",
    "\n",
    "qualifying = pd.DataFrame(qual)"
   ]
  },
  {
   "cell_type": "code",
   "execution_count": 6,
   "metadata": {},
   "outputs": [],
   "source": [
    "def format_fastest_lap(row):\n",
    "    if str(row.q3) != 'OUT':\n",
    "        return row.q3\n",
    "    elif str(row.q2) != 'OUT':\n",
    "        return row.q2\n",
    "    elif str(row.q1) != 'DNF':\n",
    "        return row.q1\n",
    "    else:\n",
    "        return None"
   ]
  },
  {
   "cell_type": "code",
   "execution_count": 7,
   "metadata": {},
   "outputs": [],
   "source": [
    "def format_q_rounds(row):\n",
    "    if str(row.q3) != 'OUT':\n",
    "        return 'q3'\n",
    "    elif str(row.q2) != 'OUT':\n",
    "        return 'q2'\n",
    "    elif str(row.q1) != 'DNF':\n",
    "        return 'q1'\n",
    "    else:\n",
    "        return 'q1'"
   ]
  },
  {
   "cell_type": "code",
   "execution_count": 8,
   "metadata": {},
   "outputs": [],
   "source": [
    "qualifying['fastest_time'] = qualifying.apply(lambda row: format_fastest_lap(row), axis=1)\n",
    "\n",
    "qualifying['stage'] = qualifying.apply(lambda row: format_q_rounds(row), axis=1)\n",
    "qualifying = qualifying.drop(['q1', 'q2', 'q3'], axis=1)"
   ]
  },
  {
   "cell_type": "code",
   "execution_count": 9,
   "metadata": {},
   "outputs": [
    {
     "data": {
      "text/html": [
       "<div>\n",
       "<style scoped>\n",
       "    .dataframe tbody tr th:only-of-type {\n",
       "        vertical-align: middle;\n",
       "    }\n",
       "\n",
       "    .dataframe tbody tr th {\n",
       "        vertical-align: top;\n",
       "    }\n",
       "\n",
       "    .dataframe thead th {\n",
       "        text-align: right;\n",
       "    }\n",
       "</style>\n",
       "<table border=\"1\" class=\"dataframe\">\n",
       "  <thead>\n",
       "    <tr style=\"text-align: right;\">\n",
       "      <th></th>\n",
       "      <th>season</th>\n",
       "      <th>round</th>\n",
       "      <th>grid</th>\n",
       "      <th>circuit_id</th>\n",
       "      <th>driver</th>\n",
       "      <th>fastest_time</th>\n",
       "      <th>stage</th>\n",
       "      <th>q_delta</th>\n",
       "    </tr>\n",
       "  </thead>\n",
       "  <tbody>\n",
       "    <tr>\n",
       "      <th>0</th>\n",
       "      <td>2014</td>\n",
       "      <td>1</td>\n",
       "      <td>1</td>\n",
       "      <td>albert_park</td>\n",
       "      <td>lewis_hamilton</td>\n",
       "      <td>104.231</td>\n",
       "      <td>q3</td>\n",
       "      <td>0.000</td>\n",
       "    </tr>\n",
       "    <tr>\n",
       "      <th>9</th>\n",
       "      <td>2014</td>\n",
       "      <td>1</td>\n",
       "      <td>10</td>\n",
       "      <td>albert_park</td>\n",
       "      <td>valtteri_bottas</td>\n",
       "      <td>108.147</td>\n",
       "      <td>q3</td>\n",
       "      <td>3.916</td>\n",
       "    </tr>\n",
       "    <tr>\n",
       "      <th>10</th>\n",
       "      <td>2014</td>\n",
       "      <td>1</td>\n",
       "      <td>11</td>\n",
       "      <td>albert_park</td>\n",
       "      <td>jenson_button</td>\n",
       "      <td>104.437</td>\n",
       "      <td>q2</td>\n",
       "      <td>0.206</td>\n",
       "    </tr>\n",
       "    <tr>\n",
       "      <th>11</th>\n",
       "      <td>2014</td>\n",
       "      <td>1</td>\n",
       "      <td>12</td>\n",
       "      <td>albert_park</td>\n",
       "      <td>kimi_raikkonen</td>\n",
       "      <td>104.494</td>\n",
       "      <td>q2</td>\n",
       "      <td>0.263</td>\n",
       "    </tr>\n",
       "    <tr>\n",
       "      <th>12</th>\n",
       "      <td>2014</td>\n",
       "      <td>1</td>\n",
       "      <td>13</td>\n",
       "      <td>albert_park</td>\n",
       "      <td>sebastian_vettel</td>\n",
       "      <td>104.688</td>\n",
       "      <td>q2</td>\n",
       "      <td>0.457</td>\n",
       "    </tr>\n",
       "  </tbody>\n",
       "</table>\n",
       "</div>"
      ],
      "text/plain": [
       "    season  round grid   circuit_id            driver  fastest_time stage  \\\n",
       "0     2014      1    1  albert_park    lewis_hamilton       104.231    q3   \n",
       "9     2014      1   10  albert_park   valtteri_bottas       108.147    q3   \n",
       "10    2014      1   11  albert_park     jenson_button       104.437    q2   \n",
       "11    2014      1   12  albert_park    kimi_raikkonen       104.494    q2   \n",
       "12    2014      1   13  albert_park  sebastian_vettel       104.688    q2   \n",
       "\n",
       "    q_delta  \n",
       "0     0.000  \n",
       "9     3.916  \n",
       "10    0.206  \n",
       "11    0.263  \n",
       "12    0.457  "
      ]
     },
     "execution_count": 9,
     "metadata": {},
     "output_type": "execute_result"
    }
   ],
   "source": [
    "# calculate difference in qualifying times\n",
    "\n",
    "qualifying = qualifying[qualifying['fastest_time'] != 0]\n",
    "qualifying.sort_values(['season', 'round', 'grid'], inplace = True)\n",
    "qualifying['time_difference'] = qualifying.groupby(['season', 'round']).fastest_time.diff()\n",
    "qualifying['q_delta'] = qualifying.groupby(['season', 'round']).time_difference.cumsum().fillna(0)\n",
    "qualifying.drop('time_difference', axis=1, inplace=True)\n",
    "\n",
    "qualifying.q_delta = qualifying.q_delta.apply(lambda x: 0.000 if x < 0 else x)\n",
    "\n",
    "qualifying.head()"
   ]
  },
  {
   "cell_type": "code",
   "execution_count": 10,
   "metadata": {},
   "outputs": [],
   "source": [
    "qualifying.to_csv(path+'data/qualifying.csv', index=False)"
   ]
  }
 ],
 "metadata": {
  "kernelspec": {
   "display_name": "Python 3.11.0 64-bit",
   "language": "python",
   "name": "python3"
  },
  "language_info": {
   "codemirror_mode": {
    "name": "ipython",
    "version": 3
   },
   "file_extension": ".py",
   "mimetype": "text/x-python",
   "name": "python",
   "nbconvert_exporter": "python",
   "pygments_lexer": "ipython3",
   "version": "3.11.0"
  },
  "orig_nbformat": 4,
  "vscode": {
   "interpreter": {
    "hash": "aee8b7b246df8f9039afb4144a1f6fd8d2ca17a180786b69acc140d282b71a49"
   }
  }
 },
 "nbformat": 4,
 "nbformat_minor": 2
}
