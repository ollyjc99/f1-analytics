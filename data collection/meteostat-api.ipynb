{
 "cells": [
  {
   "cell_type": "code",
   "execution_count": 197,
   "metadata": {},
   "outputs": [],
   "source": [
    "import pandas as pd\n",
    "from datetime import datetime\n",
    "import matplotlib.pyplot as plt\n",
    "from meteostat import Point, Daily, Hourly\n",
    "import requests\n",
    "import warnings\n",
    "\n",
    "from sys import platform\n",
    "\n",
    "if platform == \"win32\":\n",
    "    path = 'C:/Users/olive/GitHub/f1-analytics/'\n",
    "elif platform == \"darwin\":\n",
    "    path = '/Users/oliverjcarter/Documents/GitHub/f1-analytics/'\n",
    "\n",
    "warnings.filterwarnings(\"ignore\", category=RuntimeWarning) \n",
    "pd.options.mode.chained_assignment = None  # default='warn'\n",
    "\n",
    "%matplotlib inline"
   ]
  },
  {
   "cell_type": "code",
   "execution_count": 198,
   "metadata": {},
   "outputs": [
    {
     "data": {
      "text/plain": [
       "(22, 7)"
      ]
     },
     "execution_count": 198,
     "metadata": {},
     "output_type": "execute_result"
    }
   ],
   "source": [
    "races = pd.read_csv(path+'data/races.csv')\n",
    "results = pd.read_csv(path+'data/results.csv')\n",
    "\n",
    "weather = races.iloc[:,[0,1,2,3,4,5,7]]\n",
    "weather = weather.query('season == 2021')\n",
    "weather.shape"
   ]
  },
  {
   "cell_type": "code",
   "execution_count": 199,
   "metadata": {},
   "outputs": [],
   "source": [
    "def format_datetime(dt):\n",
    "    year, time = dt.split(' ')\n",
    "\n",
    "    return datetime(*map(int, year.split('-')), *map(int, time.split(':')))"
   ]
  },
  {
   "cell_type": "code",
   "execution_count": 200,
   "metadata": {},
   "outputs": [],
   "source": [
    "weather.date = weather.date.apply(lambda x: format_datetime(x))"
   ]
  },
  {
   "cell_type": "code",
   "execution_count": 217,
   "metadata": {},
   "outputs": [],
   "source": [
    "def get_hourly_weather(dt, lat, long):\n",
    "    start = dt\n",
    "    end = dt + pd.Timedelta(hours=3)\n",
    "    coord = Point(lat, long)\n",
    "\n",
    "    data = Hourly(coord, start, end).fetch()\n",
    "\n",
    "    return data.rhum.values\n",
    "\n",
    "def get_daily_weather(dt, lat, long):\n",
    "    start = dt\n",
    "    end = dt\n",
    "    coord = Point(lat, long)\n",
    "\n",
    "    data = Daily(coord, start, end).fetch()\n",
    "\n",
    "    return data.coco.values"
   ]
  },
  {
   "cell_type": "code",
   "execution_count": 218,
   "metadata": {},
   "outputs": [],
   "source": [
    "weather['code'] = weather.apply(lambda x: get_hourly_weather(x['date'], x['lat'], x['long']),axis=1)"
   ]
  },
  {
   "cell_type": "code",
   "execution_count": 220,
   "metadata": {},
   "outputs": [
    {
     "data": {
      "text/html": [
       "<div>\n",
       "<style scoped>\n",
       "    .dataframe tbody tr th:only-of-type {\n",
       "        vertical-align: middle;\n",
       "    }\n",
       "\n",
       "    .dataframe tbody tr th {\n",
       "        vertical-align: top;\n",
       "    }\n",
       "\n",
       "    .dataframe thead th {\n",
       "        text-align: right;\n",
       "    }\n",
       "</style>\n",
       "<table border=\"1\" class=\"dataframe\">\n",
       "  <thead>\n",
       "    <tr style=\"text-align: right;\">\n",
       "      <th></th>\n",
       "      <th>season</th>\n",
       "      <th>round</th>\n",
       "      <th>circuit_id</th>\n",
       "      <th>country</th>\n",
       "      <th>lat</th>\n",
       "      <th>long</th>\n",
       "      <th>date</th>\n",
       "      <th>code</th>\n",
       "    </tr>\n",
       "  </thead>\n",
       "  <tbody>\n",
       "    <tr>\n",
       "      <th>138</th>\n",
       "      <td>2021</td>\n",
       "      <td>1</td>\n",
       "      <td>bahrain</td>\n",
       "      <td>Bahrain</td>\n",
       "      <td>26.0325</td>\n",
       "      <td>50.51060</td>\n",
       "      <td>2021-03-28 15:00:00</td>\n",
       "      <td>[57.0, 60.0, 53.0, 53.0]</td>\n",
       "    </tr>\n",
       "    <tr>\n",
       "      <th>139</th>\n",
       "      <td>2021</td>\n",
       "      <td>2</td>\n",
       "      <td>imola</td>\n",
       "      <td>Italy</td>\n",
       "      <td>44.3439</td>\n",
       "      <td>11.71670</td>\n",
       "      <td>2021-04-18 13:00:00</td>\n",
       "      <td>[47.0, 47.0, 47.0, 47.0]</td>\n",
       "    </tr>\n",
       "    <tr>\n",
       "      <th>140</th>\n",
       "      <td>2021</td>\n",
       "      <td>3</td>\n",
       "      <td>portimao</td>\n",
       "      <td>Portugal</td>\n",
       "      <td>37.2270</td>\n",
       "      <td>-8.62670</td>\n",
       "      <td>2021-05-02 14:00:00</td>\n",
       "      <td>[]</td>\n",
       "    </tr>\n",
       "    <tr>\n",
       "      <th>141</th>\n",
       "      <td>2021</td>\n",
       "      <td>4</td>\n",
       "      <td>catalunya</td>\n",
       "      <td>Spain</td>\n",
       "      <td>41.5700</td>\n",
       "      <td>2.26111</td>\n",
       "      <td>2021-05-09 13:00:00</td>\n",
       "      <td>[64.0, 73.0, 61.0, 73.0]</td>\n",
       "    </tr>\n",
       "    <tr>\n",
       "      <th>142</th>\n",
       "      <td>2021</td>\n",
       "      <td>5</td>\n",
       "      <td>monaco</td>\n",
       "      <td>Monaco</td>\n",
       "      <td>43.7347</td>\n",
       "      <td>7.42056</td>\n",
       "      <td>2021-05-23 13:00:00</td>\n",
       "      <td>[41.0, 41.0, 43.0, 45.0]</td>\n",
       "    </tr>\n",
       "  </tbody>\n",
       "</table>\n",
       "</div>"
      ],
      "text/plain": [
       "     season  round circuit_id   country      lat      long  \\\n",
       "138    2021      1    bahrain   Bahrain  26.0325  50.51060   \n",
       "139    2021      2      imola     Italy  44.3439  11.71670   \n",
       "140    2021      3   portimao  Portugal  37.2270  -8.62670   \n",
       "141    2021      4  catalunya     Spain  41.5700   2.26111   \n",
       "142    2021      5     monaco    Monaco  43.7347   7.42056   \n",
       "\n",
       "                   date                      code  \n",
       "138 2021-03-28 15:00:00  [57.0, 60.0, 53.0, 53.0]  \n",
       "139 2021-04-18 13:00:00  [47.0, 47.0, 47.0, 47.0]  \n",
       "140 2021-05-02 14:00:00                        []  \n",
       "141 2021-05-09 13:00:00  [64.0, 73.0, 61.0, 73.0]  \n",
       "142 2021-05-23 13:00:00  [41.0, 41.0, 43.0, 45.0]  "
      ]
     },
     "execution_count": 220,
     "metadata": {},
     "output_type": "execute_result"
    }
   ],
   "source": [
    "weather.head()"
   ]
  },
  {
   "cell_type": "code",
   "execution_count": null,
   "metadata": {},
   "outputs": [],
   "source": [
    "def format_coco(coco):\n",
    "    codes = {\n",
    "        1.0 :'Clear',\n",
    "        2.0 : 'Fair',\n",
    "        3.0 : 'Cloudy',\n",
    "        4.0 : 'Overcast',\n",
    "        5.0 : 'Fog',\n",
    "        6.0 : 'Freezing Fog',\n",
    "        7.0 : 'Light Rain',\n",
    "        8.0 : 'Rain',\n",
    "        9.0 : 'Heavy Rain',\n",
    "        10.0 : 'Freezing Rain',\n",
    "        11.0 : 'Heavy Freezing Rain',\n",
    "        12.0 : 'Sleet',\n",
    "        13.0 : 'Heavy Sleet',\n",
    "        14.0 : 'Light Snowfall',\n",
    "        15.0 : 'Snowfall',\n",
    "        16.0 : 'Heavy Snowfall',\n",
    "        17.0 : 'Rain Shower',\n",
    "        18.0 : 'Heavy Rain Shower',\n",
    "        19.0 : 'Sleet Shower',\n",
    "        20.0 : 'Heavy Sleet Shower',\n",
    "        21.0 : 'Snow Shower',\n",
    "        22.0 : 'Heavy Snow Shower',\n",
    "        23.0 : 'Lightning',\n",
    "        24.0 : 'Hail',\n",
    "        25.0 : 'Thunderstorm',\n",
    "        26.0 : 'Heavy Thunderstorm',\n",
    "        27.0 : 'Storm',\n",
    "    }\n",
    "    return codes[coco]"
   ]
  },
  {
   "cell_type": "code",
   "execution_count": null,
   "metadata": {},
   "outputs": [],
   "source": [
    "# start = datetime.strptime(race.date, '%Y-%m-%d')\n",
    "# end = datetime.strptime(race.date, '%Y-%m-%d')\n",
    "start = datetime(2021, 6, 27)\n",
    "end = datetime(2021, 6, 27,23)\n",
    "coord = Point(47.2197, 14.7647)\n",
    "\n",
    "data = Hourly(coord, start, end).fetch()\n",
    "\n",
    "# weather = data.groupby('coco').rhum.describe().reset_index()\n",
    "# weather['coco'] = weather.coco.apply(lambda x: format_coco(x))"
   ]
  }
 ],
 "metadata": {
  "kernelspec": {
   "display_name": "Python 3.11.0 64-bit",
   "language": "python",
   "name": "python3"
  },
  "language_info": {
   "codemirror_mode": {
    "name": "ipython",
    "version": 3
   },
   "file_extension": ".py",
   "mimetype": "text/x-python",
   "name": "python",
   "nbconvert_exporter": "python",
   "pygments_lexer": "ipython3",
   "version": "3.11.0"
  },
  "orig_nbformat": 4,
  "vscode": {
   "interpreter": {
    "hash": "aee8b7b246df8f9039afb4144a1f6fd8d2ca17a180786b69acc140d282b71a49"
   }
  }
 },
 "nbformat": 4,
 "nbformat_minor": 2
}
