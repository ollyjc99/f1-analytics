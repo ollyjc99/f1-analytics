{
 "cells": [
  {
   "cell_type": "code",
   "execution_count": null,
   "metadata": {},
   "outputs": [],
   "source": [
    "import pandas as pd\n",
    "from datetime import datetime\n",
    "import matplotlib.pyplot as plt\n",
    "from meteostat import Point, Daily, Hourly\n",
    "import warnings\n",
    "\n",
    "from sys import platform\n",
    "\n",
    "if platform == \"win32\":\n",
    "    path = 'C:/Users/olive/GitHub/f1-analytics/'\n",
    "elif platform == \"darwin\":\n",
    "    path = '/Users/oliverjcarter/Documents/GitHub/f1-analytics/'\n",
    "\n",
    "warnings.filterwarnings(\"ignore\", category=RuntimeWarning) \n",
    "pd.options.mode.chained_assignment = None  # default='warn'\n",
    "\n",
    "%matplotlib inline"
   ]
  },
  {
   "cell_type": "code",
   "execution_count": null,
   "metadata": {},
   "outputs": [],
   "source": [
    "races = pd.read_csv(path+'data/races.csv')\n",
    "results = pd.read_csv(path+'data/results.csv')\n",
    "\n",
    "weather = races.iloc[:,[0,1,2,3,4,5,6]]\n",
    "weather.shape"
   ]
  },
  {
   "cell_type": "code",
   "execution_count": null,
   "metadata": {},
   "outputs": [],
   "source": [
    "### Just analyzing Spa 2021 as the weather was so bad the race was canelled.\n",
    "\n",
    "s2021 = weather.query('season == 2021 & round == 12')\n",
    "\n",
    "race = s2021.iloc[0]\n",
    "\n",
    "race"
   ]
  },
  {
   "cell_type": "code",
   "execution_count": null,
   "metadata": {},
   "outputs": [],
   "source": [
    "start = datetime(2018,1,1)\n",
    "end = datetime(2018,1,28)\n",
    "coord = Point(race.lat, race.long)\n",
    "\n",
    "data = Daily(coord, start, end).fetch()\n",
    "\n",
    "data.plot(y=['tavg'])\n",
    "print(data.columns)\n",
    "plt.show()"
   ]
  },
  {
   "cell_type": "code",
   "execution_count": null,
   "metadata": {},
   "outputs": [],
   "source": [
    "def format_coco(coco):\n",
    "    codes = {\n",
    "        1.0 :'Clear',\n",
    "        2.0 : 'Fair',\n",
    "        3.0 : 'Cloudy',\n",
    "        4.0 : 'Overcast',\n",
    "        5.0 : 'Fog',\n",
    "        6.0 : 'Freezing Fog',\n",
    "        7.0 : 'Light Rain',\n",
    "        8.0 : 'Rain',\n",
    "        9.0 : 'Heavy Rain',\n",
    "        10.0 : 'Freezing Rain',\n",
    "        11.0 : 'Heavy Freezing Rain',\n",
    "        12.0 : 'Sleet',\n",
    "        13.0 : 'Heavy Sleet',\n",
    "        14.0 : 'Light Snowfall',\n",
    "        15.0 : 'Snowfall',\n",
    "        16.0 : 'Heavy Snowfall',\n",
    "        17.0 : 'Rain Shower',\n",
    "        18.0 : 'Heavy Rain Shower',\n",
    "        19.0 : 'Sleet Shower',\n",
    "        20.0 : 'Heavy Sleet Shower',\n",
    "        21.0 : 'Snow Shower',\n",
    "        22.0 : 'Heavy Snow Shower',\n",
    "        23.0 : 'Lightning',\n",
    "        24.0 : 'Hail',\n",
    "        25.0 : 'Thunderstorm',\n",
    "        26.0 : 'Heavy Thunderstorm',\n",
    "        27.0 : 'Storm',\n",
    "    }\n",
    "    return codes[coco]"
   ]
  },
  {
   "cell_type": "code",
   "execution_count": null,
   "metadata": {},
   "outputs": [],
   "source": [
    "# start = datetime.strptime(race.date, '%Y-%m-%d')\n",
    "# end = datetime.strptime(race.date, '%Y-%m-%d')\n",
    "start = datetime(2021,1,1)\n",
    "end = datetime(2021,12,31,23)\n",
    "coord = Point(race.lat, race.long)\n",
    "\n",
    "data = Hourly(coord, start, end).fetch()\n",
    "\n",
    "weather = data.groupby('coco').rhum.describe().reset_index()\n",
    "weather['coco'] = weather.coco.apply(lambda x: format_coco(x))"
   ]
  },
  {
   "cell_type": "code",
   "execution_count": null,
   "metadata": {},
   "outputs": [],
   "source": [
    "results.head()"
   ]
  },
  {
   "cell_type": "code",
   "execution_count": null,
   "metadata": {},
   "outputs": [],
   "source": [
    "weather.head()"
   ]
  },
  {
   "cell_type": "code",
   "execution_count": null,
   "metadata": {},
   "outputs": [],
   "source": [
    "data.plot(y=['temp'])\n",
    "plt.show()"
   ]
  }
 ],
 "metadata": {
  "kernelspec": {
   "display_name": "Python 3.11.0 64-bit",
   "language": "python",
   "name": "python3"
  },
  "language_info": {
   "codemirror_mode": {
    "name": "ipython",
    "version": 3
   },
   "file_extension": ".py",
   "mimetype": "text/x-python",
   "name": "python",
   "nbconvert_exporter": "python",
   "pygments_lexer": "ipython3",
   "version": "3.11.0"
  },
  "orig_nbformat": 4,
  "vscode": {
   "interpreter": {
    "hash": "aee8b7b246df8f9039afb4144a1f6fd8d2ca17a180786b69acc140d282b71a49"
   }
  }
 },
 "nbformat": 4,
 "nbformat_minor": 2
}
