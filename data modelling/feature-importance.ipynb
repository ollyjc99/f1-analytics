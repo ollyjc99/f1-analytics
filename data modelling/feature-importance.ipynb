{
 "cells": [
  {
   "cell_type": "code",
   "execution_count": 161,
   "metadata": {},
   "outputs": [],
   "source": [
    "import pandas as pd\n",
    "import numpy as np\n",
    "import matplotlib.pyplot as plt\n",
    "import warnings\n",
    "\n",
    "from sklearn.feature_selection import SelectKBest, f_regression, f_classif\n",
    "\n",
    "from sys import platform\n",
    "\n",
    "if platform == \"win32\":\n",
    "    path = 'C:/Users/olive/GitHub/f1-analytics/'\n",
    "elif platform == \"darwin\":\n",
    "    path = '~/Documents/GitHub/f1-analytics/'\n",
    "\n",
    "warnings.filterwarnings(\"ignore\", category=RuntimeWarning) \n",
    "pd.options.mode.chained_assignment = None  # default='warn'\n",
    "\n",
    "%matplotlib inline"
   ]
  },
  {
   "cell_type": "code",
   "execution_count": 162,
   "metadata": {},
   "outputs": [],
   "source": [
    "merged = pd.read_csv(path+'data/merged.csv')\n",
    "processed = pd.read_csv(path+'data/processed.csv')"
   ]
  },
  {
   "cell_type": "code",
   "execution_count": 163,
   "metadata": {},
   "outputs": [],
   "source": [
    "merged = merged[merged.season < 2022]\n",
    "merged.podium = merged.podium.map(lambda x: 1 if x == 1 else 0)\n",
    "merged = pd.get_dummies(merged, columns=['driver', 'constructor', 'circuit_id', 'country', 'nationality', 'stage']).drop(['date_of_birth', 'lat', 'long', 'date', 'season', 'round'], axis=1)"
   ]
  },
  {
   "cell_type": "code",
   "execution_count": 164,
   "metadata": {},
   "outputs": [],
   "source": [
    "processed = processed[processed.season < 2022]\n",
    "processed.podium = processed.podium.map(lambda x: 1 if x == 1 else 0)\n",
    "\n",
    "processed = pd.get_dummies(processed, columns=['stage']).drop([\n",
    "    'season', 'round', 'driver', 'constructor', 'circuit_id',\n",
    "    'qual_time', 'q_delta',\n",
    "    'stage_q1', 'stage_q2',\n",
    "    'driver_points_from', 'constructor_points_from', \n",
    "    'driver_points_after', 'constructor_points_after',\n",
    "    'driver_wins_after', 'constructor_wins_after',\n",
    "    'driver_standings_pos_after', 'constructor_standings_pos_after'], axis=1)"
   ]
  },
  {
   "cell_type": "code",
   "execution_count": 165,
   "metadata": {},
   "outputs": [
    {
     "data": {
      "text/plain": [
       "Index(['podium', 'qualifying_pos', 'starting_grid', 'driver_points_before',\n",
       "       'constructor_points_before', 'driver_points_per', 'points_percentage',\n",
       "       'driver_last_3', 'constructor_last_3', 'stage_q3'],\n",
       "      dtype='object')"
      ]
     },
     "execution_count": 165,
     "metadata": {},
     "output_type": "execute_result"
    }
   ],
   "source": [
    "processed.columns"
   ]
  },
  {
   "cell_type": "code",
   "execution_count": 166,
   "metadata": {},
   "outputs": [],
   "source": [
    "df = processed.copy()\n",
    "\n",
    "X = df.drop('podium', axis=1)\n",
    "y = df.podium\n",
    "\n",
    "# Select the top k best features using the f_regression method\n",
    "selector = SelectKBest(f_classif, k=9)\n",
    "selector.fit(X, y)\n",
    "\n",
    "# Get the names and scores of the selected features\n",
    "scores = selector.scores_\n",
    "feature_names = X.columns\n",
    "\n",
    "# Sort the features by score\n",
    "\n",
    "features = sorted(zip(scores, feature_names), reverse=True)\n",
    "\n",
    "scores, feature_names = zip(*sorted(zip(scores, feature_names), reverse=True))"
   ]
  },
  {
   "cell_type": "code",
   "execution_count": 167,
   "metadata": {},
   "outputs": [
    {
     "name": "stdout",
     "output_type": "stream",
     "text": [
      "                     feature    weight       std\n",
      "0          driver_points_per  0.301907  0.005017\n",
      "1  constructor_points_before  0.196333  0.005140\n",
      "2       driver_points_before  0.121361  0.008413\n",
      "3              starting_grid  0.089064  0.004086\n",
      "4                   stage_q3  0.051782  0.004937\n",
      "5          points_percentage  0.026971  0.004124\n",
      "6              driver_last_3  0.010656  0.001193\n",
      "7             qualifying_pos  0.000211  0.000143\n",
      "8         constructor_last_3  0.000011  0.000087\n"
     ]
    }
   ],
   "source": [
    "# linear regression feature importance\n",
    "import eli5\n",
    "from eli5.sklearn import PermutationImportance\n",
    "from sklearn.linear_model import LinearRegression\n",
    "\n",
    "# define and fit the model\n",
    "model = LinearRegression()\n",
    "model.fit(X, y)\n",
    "\n",
    "# Calculate the permutation importance of the features\n",
    "perm = PermutationImportance(model).fit(X, y)\n",
    "\n",
    "# Sort the features by importance\n",
    "imp_df = eli5.explain_weights_df(perm, feature_names=list(X.columns))\n",
    "imp_df = imp_df.sort_values(\"weight\", ascending=False)\n",
    "\n",
    "# Print the top k features\n",
    "print(imp_df[:15])"
   ]
  }
 ],
 "metadata": {
  "kernelspec": {
   "display_name": "Python 3.10.7 64-bit",
   "language": "python",
   "name": "python3"
  },
  "language_info": {
   "codemirror_mode": {
    "name": "ipython",
    "version": 3
   },
   "file_extension": ".py",
   "mimetype": "text/x-python",
   "name": "python",
   "nbconvert_exporter": "python",
   "pygments_lexer": "ipython3",
   "version": "3.11.0"
  },
  "orig_nbformat": 4,
  "vscode": {
   "interpreter": {
    "hash": "aee8b7b246df8f9039afb4144a1f6fd8d2ca17a180786b69acc140d282b71a49"
   }
  }
 },
 "nbformat": 4,
 "nbformat_minor": 2
}
