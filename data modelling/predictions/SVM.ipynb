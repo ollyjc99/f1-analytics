{
 "cells": [
  {
   "cell_type": "code",
   "execution_count": 74,
   "metadata": {},
   "outputs": [],
   "source": [
    "import pandas as pd\n",
    "import numpy as np\n",
    "import warnings\n",
    "\n",
    "from sklearn.svm import SVC\n",
    "from sklearn.preprocessing import StandardScaler\n",
    "from sklearn.metrics import precision_score\n",
    "from sklearn.feature_selection import RFE\n",
    "\n",
    "from sys import platform\n",
    "\n",
    "if platform == \"win32\":\n",
    "    path = 'C:/Users/olive/GitHub/f1-analytics/'\n",
    "elif platform == \"darwin\":\n",
    "    path = '~/Documents/GitHub/f1-analytics/'\n",
    "    # path = '/Users/oliverjcarter/Documents/GitHub/f1-analytics/'\n",
    "\n",
    "warnings.filterwarnings(\"ignore\", category=RuntimeWarning) \n",
    "pd.options.mode.chained_assignment = None  # default='warn'\n",
    "\n",
    "%matplotlib inline"
   ]
  },
  {
   "cell_type": "code",
   "execution_count": 75,
   "metadata": {},
   "outputs": [],
   "source": [
    "data = pd.read_csv(path+'data/ml_input.csv')\n",
    "parameters = pd.read_csv(path+'parameters/svm_classifier.csv')"
   ]
  },
  {
   "cell_type": "code",
   "execution_count": 76,
   "metadata": {},
   "outputs": [],
   "source": [
    "### Season to test results\n",
    "\n",
    "N = 2021"
   ]
  },
  {
   "cell_type": "code",
   "execution_count": 77,
   "metadata": {},
   "outputs": [],
   "source": [
    "params_to_drop = ['season', 'round', 'driver', 'constructor', 'circuit_id', 'podium', 'driver_points_from']"
   ]
  },
  {
   "cell_type": "code",
   "execution_count": 78,
   "metadata": {},
   "outputs": [],
   "source": [
    "df = data.copy()\n",
    "\n",
    "train = df[df.season < N]\n",
    "train.podium = df.podium.map(lambda x: 1 if x == 1 else 0)\n",
    "\n",
    "scaler = StandardScaler()\n",
    "X_train = train.drop(params_to_drop, axis=1)\n",
    "X_train = pd.DataFrame(scaler.fit_transform(X_train), columns=X_train.columns)\n",
    "\n",
    "y_train = np.asarray(train.podium.values)"
   ]
  },
  {
   "cell_type": "code",
   "execution_count": 79,
   "metadata": {},
   "outputs": [],
   "source": [
    "def get_predictions(model, X_train, y_train):\n",
    "    predictions = []\n",
    "    prob = []\n",
    "    \n",
    "    for circuit in df[df.season == N]['round'].unique():\n",
    "\n",
    "        test = df[(df.season == N) & (df['round'] == circuit)]\n",
    "        X_test = test.drop(params_to_drop, axis=1)\n",
    "        y_test = test.podium\n",
    "\n",
    "        # Scaling\n",
    "        X_test = pd.DataFrame(scaler.transform(X_test), columns=X_test.columns)\n",
    "\n",
    "        # Make Predictions\n",
    "        prediction_df = pd.DataFrame(model.predict_proba(X_test), columns=['proba_0', 'proba_1'])\n",
    "        prediction_df['actual'] = y_test.reset_index(drop=True)\n",
    "        prediction_df['predicted'] = prediction_df.proba_1.map(lambda x: 1 if x == prediction_df.proba_1.max() else 0)\n",
    "\n",
    "        predictions += list(prediction_df['predicted'].values)  \n",
    "        prob += list(prediction_df['proba_1'].values)\n",
    "\n",
    "        # Retrain model\n",
    "        # X_train = pd.concat([X_train, X_test])\n",
    "        # y_train = np.append(y_train, y_test)\n",
    "\n",
    "        # model.fit(X_train, y_train)\n",
    "\n",
    "    return predictions, prob"
   ]
  },
  {
   "cell_type": "code",
   "execution_count": 80,
   "metadata": {},
   "outputs": [
    {
     "data": {
      "text/html": [
       "<div>\n",
       "<style scoped>\n",
       "    .dataframe tbody tr th:only-of-type {\n",
       "        vertical-align: middle;\n",
       "    }\n",
       "\n",
       "    .dataframe tbody tr th {\n",
       "        vertical-align: top;\n",
       "    }\n",
       "\n",
       "    .dataframe thead th {\n",
       "        text-align: right;\n",
       "    }\n",
       "</style>\n",
       "<table border=\"1\" class=\"dataframe\">\n",
       "  <thead>\n",
       "    <tr style=\"text-align: right;\">\n",
       "      <th></th>\n",
       "      <th>model</th>\n",
       "      <th>gamma</th>\n",
       "      <th>C</th>\n",
       "      <th>kernel</th>\n",
       "      <th>score</th>\n",
       "    </tr>\n",
       "  </thead>\n",
       "  <tbody>\n",
       "    <tr>\n",
       "      <th>0</th>\n",
       "      <td>svm_classifier</td>\n",
       "      <td>0.100000</td>\n",
       "      <td>10.000000</td>\n",
       "      <td>rbf</td>\n",
       "      <td>0.736842</td>\n",
       "    </tr>\n",
       "    <tr>\n",
       "      <th>1</th>\n",
       "      <td>svm_classifier</td>\n",
       "      <td>0.100000</td>\n",
       "      <td>6.951928</td>\n",
       "      <td>rbf</td>\n",
       "      <td>0.736842</td>\n",
       "    </tr>\n",
       "    <tr>\n",
       "      <th>2</th>\n",
       "      <td>svm_classifier</td>\n",
       "      <td>0.069519</td>\n",
       "      <td>10.000000</td>\n",
       "      <td>rbf</td>\n",
       "      <td>0.736842</td>\n",
       "    </tr>\n",
       "    <tr>\n",
       "      <th>3</th>\n",
       "      <td>svm_classifier</td>\n",
       "      <td>0.000428</td>\n",
       "      <td>2.335721</td>\n",
       "      <td>linear</td>\n",
       "      <td>0.684211</td>\n",
       "    </tr>\n",
       "    <tr>\n",
       "      <th>4</th>\n",
       "      <td>svm_classifier</td>\n",
       "      <td>0.000298</td>\n",
       "      <td>2.335721</td>\n",
       "      <td>linear</td>\n",
       "      <td>0.684211</td>\n",
       "    </tr>\n",
       "  </tbody>\n",
       "</table>\n",
       "</div>"
      ],
      "text/plain": [
       "            model     gamma          C  kernel     score\n",
       "0  svm_classifier  0.100000  10.000000     rbf  0.736842\n",
       "1  svm_classifier  0.100000   6.951928     rbf  0.736842\n",
       "2  svm_classifier  0.069519  10.000000     rbf  0.736842\n",
       "3  svm_classifier  0.000428   2.335721  linear  0.684211\n",
       "4  svm_classifier  0.000298   2.335721  linear  0.684211"
      ]
     },
     "execution_count": 80,
     "metadata": {},
     "output_type": "execute_result"
    }
   ],
   "source": [
    "parameters.head()"
   ]
  },
  {
   "cell_type": "code",
   "execution_count": 81,
   "metadata": {},
   "outputs": [
    {
     "data": {
      "text/plain": [
       "model     svm_classifier\n",
       "gamma                0.1\n",
       "C                   10.0\n",
       "kernel               rbf\n",
       "score           0.736842\n",
       "Name: 0, dtype: object"
      ]
     },
     "execution_count": 81,
     "metadata": {},
     "output_type": "execute_result"
    }
   ],
   "source": [
    "params = parameters.iloc[0]\n",
    "\n",
    "gamma = params.gamma\n",
    "c = params.C\n",
    "kernel = params.kernel\n",
    "\n",
    "params"
   ]
  },
  {
   "cell_type": "code",
   "execution_count": 82,
   "metadata": {},
   "outputs": [],
   "source": [
    "test = df[(df.season == N)]\n",
    "\n",
    "model = SVC(probability=True, gamma=gamma, C=c, kernel=kernel)\n",
    "model.fit(X_train, y_train)\n",
    "\n",
    "predictions, probs = get_predictions(model, X_train, y_train)\n",
    "\n",
    "\n",
    "test['predicted_winner'] = predictions\n",
    "test['probability'] = probs"
   ]
  },
  {
   "cell_type": "code",
   "execution_count": 83,
   "metadata": {},
   "outputs": [
    {
     "name": "stdout",
     "output_type": "stream",
     "text": [
      "Outright Winner Accuracy: 0.74\n",
      "Top-Two Accuracy: 0.84\n",
      "Podium Accuracy: 0.95\n"
     ]
    }
   ],
   "source": [
    "rounds = test['round'].nunique()\n",
    "\n",
    "print(f'Outright Winner Accuracy: { round(test.query(\"predicted_winner == 1 & podium == 1\").shape[0] / rounds, 2) }')\n",
    "\n",
    "print(f'Top-Two Accuracy: { round(test.query(\"predicted_winner == 1 & podium <= 2\").shape[0] / rounds, 2) }')\n",
    "\n",
    "print(f'Podium Accuracy: { round(test.query(\"predicted_winner == 1 & podium <= 3\").shape[0] / rounds, 2) }')"
   ]
  },
  {
   "cell_type": "code",
   "execution_count": 87,
   "metadata": {},
   "outputs": [
    {
     "data": {
      "text/plain": [
       "19"
      ]
     },
     "execution_count": 87,
     "metadata": {},
     "output_type": "execute_result"
    }
   ],
   "source": [
    "test.query(\"predicted_winner == 1 & podium == 1\")\n",
    "rounds"
   ]
  },
  {
   "cell_type": "code",
   "execution_count": 84,
   "metadata": {},
   "outputs": [],
   "source": [
    "def highlight_row(row):\n",
    "    if row['podium'] == 1:\n",
    "        return ['background-color: limegreen'] * len(row)\n",
    "    elif 1 < row['podium'] <= 3:\n",
    "        return ['background-color: yellow; opacity: .95; color: black'] * len(row)\n",
    "    elif 3 < row['podium'] <= 10:\n",
    "        return ['background-color: orange'] * len(row)\n",
    "    elif row['podium'] > 10:\n",
    "        return ['background-color: #E34234'] * len(row)"
   ]
  },
  {
   "cell_type": "code",
   "execution_count": 85,
   "metadata": {},
   "outputs": [
    {
     "data": {
      "text/html": [
       "<style type=\"text/css\">\n",
       "#T_c2306_row0_col0, #T_c2306_row0_col1, #T_c2306_row0_col2, #T_c2306_row0_col3, #T_c2306_row0_col4, #T_c2306_row3_col0, #T_c2306_row3_col1, #T_c2306_row3_col2, #T_c2306_row3_col3, #T_c2306_row3_col4, #T_c2306_row4_col0, #T_c2306_row4_col1, #T_c2306_row4_col2, #T_c2306_row4_col3, #T_c2306_row4_col4, #T_c2306_row6_col0, #T_c2306_row6_col1, #T_c2306_row6_col2, #T_c2306_row6_col3, #T_c2306_row6_col4, #T_c2306_row7_col0, #T_c2306_row7_col1, #T_c2306_row7_col2, #T_c2306_row7_col3, #T_c2306_row7_col4, #T_c2306_row8_col0, #T_c2306_row8_col1, #T_c2306_row8_col2, #T_c2306_row8_col3, #T_c2306_row8_col4, #T_c2306_row10_col0, #T_c2306_row10_col1, #T_c2306_row10_col2, #T_c2306_row10_col3, #T_c2306_row10_col4, #T_c2306_row11_col0, #T_c2306_row11_col1, #T_c2306_row11_col2, #T_c2306_row11_col3, #T_c2306_row11_col4, #T_c2306_row12_col0, #T_c2306_row12_col1, #T_c2306_row12_col2, #T_c2306_row12_col3, #T_c2306_row12_col4, #T_c2306_row14_col0, #T_c2306_row14_col1, #T_c2306_row14_col2, #T_c2306_row14_col3, #T_c2306_row14_col4, #T_c2306_row15_col0, #T_c2306_row15_col1, #T_c2306_row15_col2, #T_c2306_row15_col3, #T_c2306_row15_col4, #T_c2306_row16_col0, #T_c2306_row16_col1, #T_c2306_row16_col2, #T_c2306_row16_col3, #T_c2306_row16_col4, #T_c2306_row17_col0, #T_c2306_row17_col1, #T_c2306_row17_col2, #T_c2306_row17_col3, #T_c2306_row17_col4, #T_c2306_row18_col0, #T_c2306_row18_col1, #T_c2306_row18_col2, #T_c2306_row18_col3, #T_c2306_row18_col4 {\n",
       "  color: white;\n",
       "  background-color: limegreen;\n",
       "}\n",
       "#T_c2306_row1_col0, #T_c2306_row1_col1, #T_c2306_row1_col2, #T_c2306_row1_col3, #T_c2306_row1_col4, #T_c2306_row2_col0, #T_c2306_row2_col1, #T_c2306_row2_col2, #T_c2306_row2_col3, #T_c2306_row2_col4, #T_c2306_row5_col0, #T_c2306_row5_col1, #T_c2306_row5_col2, #T_c2306_row5_col3, #T_c2306_row5_col4, #T_c2306_row13_col0, #T_c2306_row13_col1, #T_c2306_row13_col2, #T_c2306_row13_col3, #T_c2306_row13_col4 {\n",
       "  color: white;\n",
       "  background-color: yellow;\n",
       "  opacity: .95;\n",
       "  color: black;\n",
       "}\n",
       "#T_c2306_row9_col0, #T_c2306_row9_col1, #T_c2306_row9_col2, #T_c2306_row9_col3, #T_c2306_row9_col4 {\n",
       "  color: white;\n",
       "  background-color: orange;\n",
       "}\n",
       "</style>\n",
       "<table id=\"T_c2306\">\n",
       "  <thead>\n",
       "    <tr>\n",
       "      <th class=\"blank level0\" >&nbsp;</th>\n",
       "      <th id=\"T_c2306_level0_col0\" class=\"col_heading level0 col0\" >circuit_id</th>\n",
       "      <th id=\"T_c2306_level0_col1\" class=\"col_heading level0 col1\" >driver</th>\n",
       "      <th id=\"T_c2306_level0_col2\" class=\"col_heading level0 col2\" >podium</th>\n",
       "      <th id=\"T_c2306_level0_col3\" class=\"col_heading level0 col3\" >starting_grid</th>\n",
       "      <th id=\"T_c2306_level0_col4\" class=\"col_heading level0 col4\" >probability</th>\n",
       "    </tr>\n",
       "  </thead>\n",
       "  <tbody>\n",
       "    <tr>\n",
       "      <th id=\"T_c2306_level0_row0\" class=\"row_heading level0 row0\" >2764</th>\n",
       "      <td id=\"T_c2306_row0_col0\" class=\"data row0 col0\" >bahrain</td>\n",
       "      <td id=\"T_c2306_row0_col1\" class=\"data row0 col1\" >lewis_hamilton</td>\n",
       "      <td id=\"T_c2306_row0_col2\" class=\"data row0 col2\" >1</td>\n",
       "      <td id=\"T_c2306_row0_col3\" class=\"data row0 col3\" >2</td>\n",
       "      <td id=\"T_c2306_row0_col4\" class=\"data row0 col4\" >0.044949</td>\n",
       "    </tr>\n",
       "    <tr>\n",
       "      <th id=\"T_c2306_level0_row1\" class=\"row_heading level0 row1\" >2785</th>\n",
       "      <td id=\"T_c2306_row1_col0\" class=\"data row1 col0\" >imola</td>\n",
       "      <td id=\"T_c2306_row1_col1\" class=\"data row1 col1\" >lewis_hamilton</td>\n",
       "      <td id=\"T_c2306_row1_col2\" class=\"data row1 col2\" >2</td>\n",
       "      <td id=\"T_c2306_row1_col3\" class=\"data row1 col3\" >1</td>\n",
       "      <td id=\"T_c2306_row1_col4\" class=\"data row1 col4\" >0.076145</td>\n",
       "    </tr>\n",
       "    <tr>\n",
       "      <th id=\"T_c2306_level0_row2\" class=\"row_heading level0 row2\" >2806</th>\n",
       "      <td id=\"T_c2306_row2_col0\" class=\"data row2 col0\" >portimao</td>\n",
       "      <td id=\"T_c2306_row2_col1\" class=\"data row2 col1\" >valtteri_bottas</td>\n",
       "      <td id=\"T_c2306_row2_col2\" class=\"data row2 col2\" >3</td>\n",
       "      <td id=\"T_c2306_row2_col3\" class=\"data row2 col3\" >1</td>\n",
       "      <td id=\"T_c2306_row2_col4\" class=\"data row2 col4\" >0.044725</td>\n",
       "    </tr>\n",
       "    <tr>\n",
       "      <th id=\"T_c2306_level0_row3\" class=\"row_heading level0 row3\" >2824</th>\n",
       "      <td id=\"T_c2306_row3_col0\" class=\"data row3 col0\" >catalunya</td>\n",
       "      <td id=\"T_c2306_row3_col1\" class=\"data row3 col1\" >lewis_hamilton</td>\n",
       "      <td id=\"T_c2306_row3_col2\" class=\"data row3 col2\" >1</td>\n",
       "      <td id=\"T_c2306_row3_col3\" class=\"data row3 col3\" >1</td>\n",
       "      <td id=\"T_c2306_row3_col4\" class=\"data row3 col4\" >0.332615</td>\n",
       "    </tr>\n",
       "    <tr>\n",
       "      <th id=\"T_c2306_level0_row4\" class=\"row_heading level0 row4\" >2844</th>\n",
       "      <td id=\"T_c2306_row4_col0\" class=\"data row4 col0\" >monaco</td>\n",
       "      <td id=\"T_c2306_row4_col1\" class=\"data row4 col1\" >max_verstappen</td>\n",
       "      <td id=\"T_c2306_row4_col2\" class=\"data row4 col2\" >1</td>\n",
       "      <td id=\"T_c2306_row4_col3\" class=\"data row4 col3\" >2</td>\n",
       "      <td id=\"T_c2306_row4_col4\" class=\"data row4 col4\" >0.060279</td>\n",
       "    </tr>\n",
       "    <tr>\n",
       "      <th id=\"T_c2306_level0_row5\" class=\"row_heading level0 row5\" >2865</th>\n",
       "      <td id=\"T_c2306_row5_col0\" class=\"data row5 col0\" >baku</td>\n",
       "      <td id=\"T_c2306_row5_col1\" class=\"data row5 col1\" >pierre_gasly</td>\n",
       "      <td id=\"T_c2306_row5_col2\" class=\"data row5 col2\" >3</td>\n",
       "      <td id=\"T_c2306_row5_col3\" class=\"data row5 col3\" >4</td>\n",
       "      <td id=\"T_c2306_row5_col4\" class=\"data row5 col4\" >0.045412</td>\n",
       "    </tr>\n",
       "    <tr>\n",
       "      <th id=\"T_c2306_level0_row6\" class=\"row_heading level0 row6\" >2883</th>\n",
       "      <td id=\"T_c2306_row6_col0\" class=\"data row6 col0\" >ricard</td>\n",
       "      <td id=\"T_c2306_row6_col1\" class=\"data row6 col1\" >max_verstappen</td>\n",
       "      <td id=\"T_c2306_row6_col2\" class=\"data row6 col2\" >1</td>\n",
       "      <td id=\"T_c2306_row6_col3\" class=\"data row6 col3\" >1</td>\n",
       "      <td id=\"T_c2306_row6_col4\" class=\"data row6 col4\" >0.371076</td>\n",
       "    </tr>\n",
       "    <tr>\n",
       "      <th id=\"T_c2306_level0_row7\" class=\"row_heading level0 row7\" >2902</th>\n",
       "      <td id=\"T_c2306_row7_col0\" class=\"data row7 col0\" >red_bull_ring</td>\n",
       "      <td id=\"T_c2306_row7_col1\" class=\"data row7 col1\" >max_verstappen</td>\n",
       "      <td id=\"T_c2306_row7_col2\" class=\"data row7 col2\" >1</td>\n",
       "      <td id=\"T_c2306_row7_col3\" class=\"data row7 col3\" >1</td>\n",
       "      <td id=\"T_c2306_row7_col4\" class=\"data row7 col4\" >0.232066</td>\n",
       "    </tr>\n",
       "    <tr>\n",
       "      <th id=\"T_c2306_level0_row8\" class=\"row_heading level0 row8\" >2922</th>\n",
       "      <td id=\"T_c2306_row8_col0\" class=\"data row8 col0\" >red_bull_ring</td>\n",
       "      <td id=\"T_c2306_row8_col1\" class=\"data row8 col1\" >max_verstappen</td>\n",
       "      <td id=\"T_c2306_row8_col2\" class=\"data row8 col2\" >1</td>\n",
       "      <td id=\"T_c2306_row8_col3\" class=\"data row8 col3\" >1</td>\n",
       "      <td id=\"T_c2306_row8_col4\" class=\"data row8 col4\" >0.120340</td>\n",
       "    </tr>\n",
       "    <tr>\n",
       "      <th id=\"T_c2306_level0_row9\" class=\"row_heading level0 row9\" >2950</th>\n",
       "      <td id=\"T_c2306_row9_col0\" class=\"data row9 col0\" >hungaroring</td>\n",
       "      <td id=\"T_c2306_row9_col1\" class=\"data row9 col1\" >max_verstappen</td>\n",
       "      <td id=\"T_c2306_row9_col2\" class=\"data row9 col2\" >9</td>\n",
       "      <td id=\"T_c2306_row9_col3\" class=\"data row9 col3\" >3</td>\n",
       "      <td id=\"T_c2306_row9_col4\" class=\"data row9 col4\" >0.052198</td>\n",
       "    </tr>\n",
       "    <tr>\n",
       "      <th id=\"T_c2306_level0_row10\" class=\"row_heading level0 row10\" >2962</th>\n",
       "      <td id=\"T_c2306_row10_col0\" class=\"data row10 col0\" >spa</td>\n",
       "      <td id=\"T_c2306_row10_col1\" class=\"data row10 col1\" >max_verstappen</td>\n",
       "      <td id=\"T_c2306_row10_col2\" class=\"data row10 col2\" >1</td>\n",
       "      <td id=\"T_c2306_row10_col3\" class=\"data row10 col3\" >1</td>\n",
       "      <td id=\"T_c2306_row10_col4\" class=\"data row10 col4\" >0.070423</td>\n",
       "    </tr>\n",
       "    <tr>\n",
       "      <th id=\"T_c2306_level0_row11\" class=\"row_heading level0 row11\" >2982</th>\n",
       "      <td id=\"T_c2306_row11_col0\" class=\"data row11 col0\" >zandvoort</td>\n",
       "      <td id=\"T_c2306_row11_col1\" class=\"data row11 col1\" >max_verstappen</td>\n",
       "      <td id=\"T_c2306_row11_col2\" class=\"data row11 col2\" >1</td>\n",
       "      <td id=\"T_c2306_row11_col3\" class=\"data row11 col3\" >1</td>\n",
       "      <td id=\"T_c2306_row11_col4\" class=\"data row11 col4\" >0.097733</td>\n",
       "    </tr>\n",
       "    <tr>\n",
       "      <th id=\"T_c2306_level0_row12\" class=\"row_heading level0 row12\" >3000</th>\n",
       "      <td id=\"T_c2306_row12_col0\" class=\"data row12 col0\" >sochi</td>\n",
       "      <td id=\"T_c2306_row12_col1\" class=\"data row12 col1\" >lewis_hamilton</td>\n",
       "      <td id=\"T_c2306_row12_col2\" class=\"data row12 col2\" >1</td>\n",
       "      <td id=\"T_c2306_row12_col3\" class=\"data row12 col3\" >4</td>\n",
       "      <td id=\"T_c2306_row12_col4\" class=\"data row12 col4\" >0.087269</td>\n",
       "    </tr>\n",
       "    <tr>\n",
       "      <th id=\"T_c2306_level0_row13\" class=\"row_heading level0 row13\" >3021</th>\n",
       "      <td id=\"T_c2306_row13_col0\" class=\"data row13 col0\" >istanbul</td>\n",
       "      <td id=\"T_c2306_row13_col1\" class=\"data row13 col1\" >max_verstappen</td>\n",
       "      <td id=\"T_c2306_row13_col2\" class=\"data row13 col2\" >2</td>\n",
       "      <td id=\"T_c2306_row13_col3\" class=\"data row13 col3\" >2</td>\n",
       "      <td id=\"T_c2306_row13_col4\" class=\"data row13 col4\" >0.101460</td>\n",
       "    </tr>\n",
       "    <tr>\n",
       "      <th id=\"T_c2306_level0_row14\" class=\"row_heading level0 row14\" >3040</th>\n",
       "      <td id=\"T_c2306_row14_col0\" class=\"data row14 col0\" >americas</td>\n",
       "      <td id=\"T_c2306_row14_col1\" class=\"data row14 col1\" >max_verstappen</td>\n",
       "      <td id=\"T_c2306_row14_col2\" class=\"data row14 col2\" >1</td>\n",
       "      <td id=\"T_c2306_row14_col3\" class=\"data row14 col3\" >1</td>\n",
       "      <td id=\"T_c2306_row14_col4\" class=\"data row14 col4\" >0.265353</td>\n",
       "    </tr>\n",
       "    <tr>\n",
       "      <th id=\"T_c2306_level0_row15\" class=\"row_heading level0 row15\" >3060</th>\n",
       "      <td id=\"T_c2306_row15_col0\" class=\"data row15 col0\" >rodriguez</td>\n",
       "      <td id=\"T_c2306_row15_col1\" class=\"data row15 col1\" >max_verstappen</td>\n",
       "      <td id=\"T_c2306_row15_col2\" class=\"data row15 col2\" >1</td>\n",
       "      <td id=\"T_c2306_row15_col3\" class=\"data row15 col3\" >3</td>\n",
       "      <td id=\"T_c2306_row15_col4\" class=\"data row15 col4\" >0.334222</td>\n",
       "    </tr>\n",
       "    <tr>\n",
       "      <th id=\"T_c2306_level0_row16\" class=\"row_heading level0 row16\" >3080</th>\n",
       "      <td id=\"T_c2306_row16_col0\" class=\"data row16 col0\" >losail</td>\n",
       "      <td id=\"T_c2306_row16_col1\" class=\"data row16 col1\" >lewis_hamilton</td>\n",
       "      <td id=\"T_c2306_row16_col2\" class=\"data row16 col2\" >1</td>\n",
       "      <td id=\"T_c2306_row16_col3\" class=\"data row16 col3\" >1</td>\n",
       "      <td id=\"T_c2306_row16_col4\" class=\"data row16 col4\" >0.552799</td>\n",
       "    </tr>\n",
       "    <tr>\n",
       "      <th id=\"T_c2306_level0_row17\" class=\"row_heading level0 row17\" >3100</th>\n",
       "      <td id=\"T_c2306_row17_col0\" class=\"data row17 col0\" >jeddah</td>\n",
       "      <td id=\"T_c2306_row17_col1\" class=\"data row17 col1\" >lewis_hamilton</td>\n",
       "      <td id=\"T_c2306_row17_col2\" class=\"data row17 col2\" >1</td>\n",
       "      <td id=\"T_c2306_row17_col3\" class=\"data row17 col3\" >1</td>\n",
       "      <td id=\"T_c2306_row17_col4\" class=\"data row17 col4\" >0.569001</td>\n",
       "    </tr>\n",
       "    <tr>\n",
       "      <th id=\"T_c2306_level0_row18\" class=\"row_heading level0 row18\" >3120</th>\n",
       "      <td id=\"T_c2306_row18_col0\" class=\"data row18 col0\" >yas_marina</td>\n",
       "      <td id=\"T_c2306_row18_col1\" class=\"data row18 col1\" >max_verstappen</td>\n",
       "      <td id=\"T_c2306_row18_col2\" class=\"data row18 col2\" >1</td>\n",
       "      <td id=\"T_c2306_row18_col3\" class=\"data row18 col3\" >1</td>\n",
       "      <td id=\"T_c2306_row18_col4\" class=\"data row18 col4\" >0.419909</td>\n",
       "    </tr>\n",
       "  </tbody>\n",
       "</table>\n"
      ],
      "text/plain": [
       "<pandas.io.formats.style.Styler at 0x135bde810>"
      ]
     },
     "execution_count": 85,
     "metadata": {},
     "output_type": "execute_result"
    }
   ],
   "source": [
    "q = test.query('predicted_winner == 1')[['circuit_id', 'driver', 'podium', 'starting_grid', 'probability']]\n",
    "\n",
    "q.style.set_properties(color='white').apply(highlight_row, axis=1)"
   ]
  }
 ],
 "metadata": {
  "kernelspec": {
   "display_name": "Python 3.11.0 64-bit",
   "language": "python",
   "name": "python3"
  },
  "language_info": {
   "codemirror_mode": {
    "name": "ipython",
    "version": 3
   },
   "file_extension": ".py",
   "mimetype": "text/x-python",
   "name": "python",
   "nbconvert_exporter": "python",
   "pygments_lexer": "ipython3",
   "version": "3.11.0 (v3.11.0:deaf509e8f, Oct 24 2022, 14:43:23) [Clang 13.0.0 (clang-1300.0.29.30)]"
  },
  "orig_nbformat": 4,
  "vscode": {
   "interpreter": {
    "hash": "aee8b7b246df8f9039afb4144a1f6fd8d2ca17a180786b69acc140d282b71a49"
   }
  }
 },
 "nbformat": 4,
 "nbformat_minor": 2
}
