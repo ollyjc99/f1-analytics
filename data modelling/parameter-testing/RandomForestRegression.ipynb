{
 "cells": [
  {
   "cell_type": "code",
   "execution_count": 1,
   "metadata": {},
   "outputs": [],
   "source": [
    "import pandas as pd\n",
    "import numpy as np\n",
    "import warnings\n",
    "\n",
    "from sklearn.preprocessing import StandardScaler\n",
    "from sklearn.ensemble import RandomForestRegressor\n",
    "from sklearn.metrics import precision_score\n",
    "\n",
    "from sys import platform\n",
    "\n",
    "if platform == \"win32\":\n",
    "    path = 'C:/Users/olive/GitHub/f1-analytics/'\n",
    "elif platform == \"darwin\":\n",
    "    path = '~/Documents/GitHub/f1-analytics/'\n",
    "    # path = '/Users/oliverjcarter/Documents/GitHub/f1-analytics/'\n",
    "\n",
    "warnings.filterwarnings(\"ignore\", category=RuntimeWarning) \n",
    "pd.options.mode.chained_assignment = None  # default='warn'\n",
    "\n",
    "%matplotlib inline"
   ]
  },
  {
   "cell_type": "code",
   "execution_count": 2,
   "metadata": {},
   "outputs": [],
   "source": [
    "data = pd.read_csv(path+'data/ml_input.csv')\n",
    "merged = pd.read_csv(path+'data/merged.csv')"
   ]
  },
  {
   "cell_type": "code",
   "execution_count": 28,
   "metadata": {},
   "outputs": [],
   "source": [
    "### Season to test results\n",
    "\n",
    "N = 2021"
   ]
  },
  {
   "cell_type": "code",
   "execution_count": 29,
   "metadata": {},
   "outputs": [],
   "source": [
    "df = data.copy()\n",
    "\n",
    "train = df[df.season < N]\n",
    "\n",
    "scaler = StandardScaler()\n",
    "X_train = train.drop(['season', 'round', 'podium', 'driver_points_from_race'], axis=1)\n",
    "X_train = pd.DataFrame(scaler.fit_transform(X_train), columns=X_train.columns)\n",
    "\n",
    "y_train = np.asarray(train.driver_points_from_race.values)"
   ]
  },
  {
   "cell_type": "code",
   "execution_count": 30,
   "metadata": {},
   "outputs": [
    {
     "data": {
      "text/plain": [
       "Index(['driver_standings_pos', 'constructor_standings_pos', 'starting_grid',\n",
       "       'driver_points_last_3_races', 'driver_adrian_sutil',\n",
       "       'driver_alexander_albon', 'driver_alexander_rossi',\n",
       "       'driver_andre_lotterer', 'driver_antonio_giovinazzi',\n",
       "       'driver_brendon_hartley',\n",
       "       ...\n",
       "       'circuit_id_rodriguez', 'circuit_id_sepang', 'circuit_id_shanghai',\n",
       "       'circuit_id_silverstone', 'circuit_id_sochi', 'circuit_id_spa',\n",
       "       'circuit_id_suzuka', 'circuit_id_villeneuve', 'circuit_id_yas_marina',\n",
       "       'circuit_id_zandvoort'],\n",
       "      dtype='object', length=108)"
      ]
     },
     "execution_count": 30,
     "metadata": {},
     "output_type": "execute_result"
    }
   ],
   "source": [
    "X_train.columns"
   ]
  },
  {
   "cell_type": "code",
   "execution_count": 31,
   "metadata": {},
   "outputs": [],
   "source": [
    "comparison_dict ={'model':[],\n",
    "                  'criterion': [],\n",
    "                  'max_features': [],\n",
    "                  'max_depth': [],\n",
    "                  'score': []\n",
    "                  }"
   ]
  },
  {
   "cell_type": "code",
   "execution_count": 32,
   "metadata": {},
   "outputs": [],
   "source": [
    "def score_regression(X_train, y_train, model):\n",
    "    correct_predictions = 0\n",
    "    \n",
    "    for circuit in df[df.season == N]['round'].unique():\n",
    "\n",
    "        test = df[(df.season == N) & (df['round'] == circuit)]\n",
    "        X_test = test.drop(['season', 'round', 'podium', 'driver_points_from_race'], axis=1)\n",
    "        y_test = test.driver_points_from_race\n",
    "\n",
    "        #scaling\n",
    "        X_test = pd.DataFrame(scaler.transform(X_test), columns=X_test.columns)\n",
    "\n",
    "        # make predictions\n",
    "        prediction_df = pd.DataFrame(model.predict(X_test), columns=['predicted_points'])\n",
    "        prediction_df['actual_points'] = y_test.reset_index(drop=True)\n",
    "        prediction_df.sort_values('predicted_points', ascending=False, inplace=True)\n",
    "\n",
    "        prediction_df['predicted_winner'] = prediction_df.predicted_points.map(lambda x: 1 if x == prediction_df.predicted_points.max() else 0)\n",
    "        prediction_df['actual_winner'] = prediction_df.actual_points.map(lambda x: 1 if x == prediction_df.actual_points.max() else 0)\n",
    "\n",
    "        correct_predictions += precision_score(prediction_df.actual_winner, prediction_df.predicted_winner)\n",
    "\n",
    "        # Retrain model\n",
    "        X_train = pd.concat([X_train, X_test])\n",
    "        y_train = np.append(y_train, y_test)\n",
    "\n",
    "        model.fit(X_train, y_train)\n",
    "        \n",
    "    # return prediction score\n",
    "    return correct_predictions / df[df.season == N]['round'].nunique()"
   ]
  },
  {
   "cell_type": "code",
   "execution_count": 33,
   "metadata": {},
   "outputs": [],
   "source": [
    "# Random Forest Regressor\n",
    "\n",
    "test = merged.copy()\n",
    "test = test[['season', 'round', 'driver', 'starting_grid', 'podium']].query('season ==@N')\n",
    "\n",
    "params={'criterion': ['squared_error'],\n",
    "        'max_features': [0.8, 1.0],\n",
    "        'max_depth': list(map(int, (np.linspace(5, 55, 26))))\n",
    "        }\n",
    "\n",
    "for criterion in params['criterion']:\n",
    "    for max_features in params['max_features']:\n",
    "        for max_depth in params['max_depth']:\n",
    "\n",
    "            model_params = (criterion, max_features, max_depth)\n",
    "            model = RandomForestRegressor(criterion = criterion, max_features = max_features, max_depth = max_depth)\n",
    "            model.fit(X_train, y_train)\n",
    "            \n",
    "            score = score_regression(X_train, y_train, model)\n",
    "\n",
    "            comparison_dict['model'].append('random_forest_regressor')\n",
    "            comparison_dict['criterion'].append(criterion)\n",
    "            comparison_dict['max_features'].append(max_features)\n",
    "            comparison_dict['max_depth'].append(max_depth)\n",
    "            comparison_dict['score'].append(score)"
   ]
  },
  {
   "cell_type": "code",
   "execution_count": 35,
   "metadata": {},
   "outputs": [
    {
     "data": {
      "text/html": [
       "<div>\n",
       "<style scoped>\n",
       "    .dataframe tbody tr th:only-of-type {\n",
       "        vertical-align: middle;\n",
       "    }\n",
       "\n",
       "    .dataframe tbody tr th {\n",
       "        vertical-align: top;\n",
       "    }\n",
       "\n",
       "    .dataframe thead th {\n",
       "        text-align: right;\n",
       "    }\n",
       "</style>\n",
       "<table border=\"1\" class=\"dataframe\">\n",
       "  <thead>\n",
       "    <tr style=\"text-align: right;\">\n",
       "      <th></th>\n",
       "      <th>model</th>\n",
       "      <th>criterion</th>\n",
       "      <th>max_features</th>\n",
       "      <th>max_depth</th>\n",
       "      <th>score</th>\n",
       "    </tr>\n",
       "  </thead>\n",
       "  <tbody>\n",
       "    <tr>\n",
       "      <th>30</th>\n",
       "      <td>random_forest_regressor</td>\n",
       "      <td>squared_error</td>\n",
       "      <td>1.0</td>\n",
       "      <td>13</td>\n",
       "      <td>0.590909</td>\n",
       "    </tr>\n",
       "    <tr>\n",
       "      <th>34</th>\n",
       "      <td>random_forest_regressor</td>\n",
       "      <td>squared_error</td>\n",
       "      <td>1.0</td>\n",
       "      <td>21</td>\n",
       "      <td>0.590909</td>\n",
       "    </tr>\n",
       "    <tr>\n",
       "      <th>47</th>\n",
       "      <td>random_forest_regressor</td>\n",
       "      <td>squared_error</td>\n",
       "      <td>1.0</td>\n",
       "      <td>47</td>\n",
       "      <td>0.590909</td>\n",
       "    </tr>\n",
       "    <tr>\n",
       "      <th>11</th>\n",
       "      <td>random_forest_regressor</td>\n",
       "      <td>squared_error</td>\n",
       "      <td>0.8</td>\n",
       "      <td>27</td>\n",
       "      <td>0.590909</td>\n",
       "    </tr>\n",
       "    <tr>\n",
       "      <th>44</th>\n",
       "      <td>random_forest_regressor</td>\n",
       "      <td>squared_error</td>\n",
       "      <td>1.0</td>\n",
       "      <td>41</td>\n",
       "      <td>0.590909</td>\n",
       "    </tr>\n",
       "  </tbody>\n",
       "</table>\n",
       "</div>"
      ],
      "text/plain": [
       "                      model      criterion  max_features  max_depth     score\n",
       "30  random_forest_regressor  squared_error           1.0         13  0.590909\n",
       "34  random_forest_regressor  squared_error           1.0         21  0.590909\n",
       "47  random_forest_regressor  squared_error           1.0         47  0.590909\n",
       "11  random_forest_regressor  squared_error           0.8         27  0.590909\n",
       "44  random_forest_regressor  squared_error           1.0         41  0.590909"
      ]
     },
     "execution_count": 35,
     "metadata": {},
     "output_type": "execute_result"
    }
   ],
   "source": [
    "comparison_df = pd.DataFrame(comparison_dict)\n",
    "\n",
    "chosen_inputs = comparison_df.query('score > 0.5').sort_values('score', ascending=False)\n",
    "\n",
    "\n",
    "chosen_inputs.to_csv(path+'parameters/rf_regressor.csv', index=False)\n",
    "\n",
    "chosen_inputs.head()"
   ]
  }
 ],
 "metadata": {
  "kernelspec": {
   "display_name": "Python 3.11.0 64-bit",
   "language": "python",
   "name": "python3"
  },
  "language_info": {
   "codemirror_mode": {
    "name": "ipython",
    "version": 3
   },
   "file_extension": ".py",
   "mimetype": "text/x-python",
   "name": "python",
   "nbconvert_exporter": "python",
   "pygments_lexer": "ipython3",
   "version": "3.11.0"
  },
  "orig_nbformat": 4,
  "vscode": {
   "interpreter": {
    "hash": "aee8b7b246df8f9039afb4144a1f6fd8d2ca17a180786b69acc140d282b71a49"
   }
  }
 },
 "nbformat": 4,
 "nbformat_minor": 2
}
