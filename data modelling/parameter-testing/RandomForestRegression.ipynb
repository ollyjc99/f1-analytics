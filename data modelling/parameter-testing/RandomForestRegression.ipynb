{
 "cells": [
  {
   "cell_type": "code",
   "execution_count": 49,
   "metadata": {},
   "outputs": [],
   "source": [
    "import pandas as pd\n",
    "import numpy as np\n",
    "import warnings\n",
    "\n",
    "from sklearn import svm\n",
    "from sklearn.preprocessing import StandardScaler\n",
    "from sklearn.ensemble import RandomForestRegressor\n",
    "from sklearn.metrics import confusion_matrix, precision_score\n",
    "\n",
    "from sys import platform\n",
    "\n",
    "if platform == \"win32\":\n",
    "    path = 'C:/Users/olive/GitHub/f1-analytics/'\n",
    "elif platform == \"darwin\":\n",
    "    # path = '~/Documents/GitHub/f1-analytics/'\n",
    "    path = '/Users/oliverjcarter/Documents/GitHub/f1-analytics/'\n",
    "\n",
    "warnings.filterwarnings(\"ignore\", category=RuntimeWarning) \n",
    "pd.options.mode.chained_assignment = None  # default='warn'\n",
    "\n",
    "%matplotlib inline"
   ]
  },
  {
   "cell_type": "code",
   "execution_count": 50,
   "metadata": {},
   "outputs": [],
   "source": [
    "data = pd.read_csv(path+'data/ml_input.csv')\n",
    "merged = pd.read_csv(path+'data/merged.csv')"
   ]
  },
  {
   "cell_type": "code",
   "execution_count": 51,
   "metadata": {},
   "outputs": [],
   "source": [
    "### Season to test results\n",
    "\n",
    "N = 2022"
   ]
  },
  {
   "cell_type": "code",
   "execution_count": 52,
   "metadata": {},
   "outputs": [],
   "source": [
    "df = data.copy()\n",
    "df.podium = df.podium.map(lambda x: 1 if x == 1 else 0)\n",
    "\n",
    "train = df[df.season < N]\n",
    "\n",
    "scaler = StandardScaler()\n",
    "X_train = train.drop(['podium'], axis=1)\n",
    "X_train = pd.DataFrame(scaler.fit_transform(X_train), columns=X_train.columns)\n",
    "\n",
    "y_train = np.asarray(train.podium.values)"
   ]
  },
  {
   "cell_type": "code",
   "execution_count": 53,
   "metadata": {},
   "outputs": [],
   "source": [
    "comparison_dict ={'model':[],\n",
    "                  'criterion': [],\n",
    "                  'max_features': [],\n",
    "                  'max_depth': [],\n",
    "                  'score': []\n",
    "                  }"
   ]
  },
  {
   "cell_type": "code",
   "execution_count": 54,
   "metadata": {},
   "outputs": [],
   "source": [
    "def score_regression(model):\n",
    "    correct_predictions = 0\n",
    "    \n",
    "    for circuit in df[df.season == N]['round'].unique():\n",
    "\n",
    "        test = df[(df.season == N) & (df['round'] == circuit)]\n",
    "        X_test = test.drop(['podium'], axis=1)\n",
    "        y_test = test.podium\n",
    "\n",
    "        #scaling\n",
    "        X_test = pd.DataFrame(scaler.transform(X_test), columns=X_test.columns)\n",
    "\n",
    "        # make predictions\n",
    "        prediction_df = pd.DataFrame(model.predict(X_test), columns = ['results'])\n",
    "        prediction_df['podium'] = y_test.reset_index(drop=True)\n",
    "        prediction_df['actual'] = prediction_df.podium.map(lambda x: 1 if x == 1 else 0)\n",
    "        prediction_df.sort_values('results', ascending=False, inplace=True)\n",
    "        prediction_df.reset_index(inplace=True, drop=True)\n",
    "        prediction_df['predicted'] = prediction_df.index\n",
    "        prediction_df['predicted'] = prediction_df.predicted.map(lambda x: 1 if x == 0 else 0)\n",
    "\n",
    "        correct_predictions += precision_score(prediction_df.actual, prediction_df.predicted)\n",
    "\n",
    "    return correct_predictions / df[df.season == N]['round'].nunique()"
   ]
  },
  {
   "cell_type": "code",
   "execution_count": 55,
   "metadata": {},
   "outputs": [],
   "source": [
    "# Random Forest Regressor\n",
    "\n",
    "params={'criterion': ['squared_error'],\n",
    "        'max_features': [0.8, 1.0],\n",
    "        'max_depth': list(map(int, (np.linspace(5, 55, 26))))\n",
    "        }\n",
    "\n",
    "for criterion in params['criterion']:\n",
    "    for max_features in params['max_features']:\n",
    "        for max_depth in params['max_depth']:\n",
    "\n",
    "            model_params = (criterion, max_features, max_depth)\n",
    "            model = RandomForestRegressor(criterion = criterion, max_features = max_features, max_depth = max_depth)\n",
    "            model.fit(X_train, y_train)\n",
    "            \n",
    "            score = score_regression(model)\n",
    "            \n",
    "            comparison_dict['model'].append('random_forest_regressor')\n",
    "            comparison_dict['criterion'].append(criterion)\n",
    "            comparison_dict['max_features'].append(max_features)\n",
    "            comparison_dict['max_depth'].append(max_depth)\n",
    "            comparison_dict['score'].append(score)"
   ]
  },
  {
   "cell_type": "code",
   "execution_count": 56,
   "metadata": {},
   "outputs": [
    {
     "data": {
      "text/html": [
       "<div>\n",
       "<style scoped>\n",
       "    .dataframe tbody tr th:only-of-type {\n",
       "        vertical-align: middle;\n",
       "    }\n",
       "\n",
       "    .dataframe tbody tr th {\n",
       "        vertical-align: top;\n",
       "    }\n",
       "\n",
       "    .dataframe thead th {\n",
       "        text-align: right;\n",
       "    }\n",
       "</style>\n",
       "<table border=\"1\" class=\"dataframe\">\n",
       "  <thead>\n",
       "    <tr style=\"text-align: right;\">\n",
       "      <th></th>\n",
       "      <th>model</th>\n",
       "      <th>criterion</th>\n",
       "      <th>max_features</th>\n",
       "      <th>max_depth</th>\n",
       "      <th>score</th>\n",
       "    </tr>\n",
       "  </thead>\n",
       "  <tbody>\n",
       "    <tr>\n",
       "      <th>51</th>\n",
       "      <td>random_forest_regressor</td>\n",
       "      <td>squared_error</td>\n",
       "      <td>1.0</td>\n",
       "      <td>55</td>\n",
       "      <td>0.47619</td>\n",
       "    </tr>\n",
       "    <tr>\n",
       "      <th>10</th>\n",
       "      <td>random_forest_regressor</td>\n",
       "      <td>squared_error</td>\n",
       "      <td>0.8</td>\n",
       "      <td>25</td>\n",
       "      <td>0.47619</td>\n",
       "    </tr>\n",
       "    <tr>\n",
       "      <th>37</th>\n",
       "      <td>random_forest_regressor</td>\n",
       "      <td>squared_error</td>\n",
       "      <td>1.0</td>\n",
       "      <td>27</td>\n",
       "      <td>0.47619</td>\n",
       "    </tr>\n",
       "    <tr>\n",
       "      <th>25</th>\n",
       "      <td>random_forest_regressor</td>\n",
       "      <td>squared_error</td>\n",
       "      <td>0.8</td>\n",
       "      <td>55</td>\n",
       "      <td>0.47619</td>\n",
       "    </tr>\n",
       "    <tr>\n",
       "      <th>24</th>\n",
       "      <td>random_forest_regressor</td>\n",
       "      <td>squared_error</td>\n",
       "      <td>0.8</td>\n",
       "      <td>53</td>\n",
       "      <td>0.47619</td>\n",
       "    </tr>\n",
       "  </tbody>\n",
       "</table>\n",
       "</div>"
      ],
      "text/plain": [
       "                      model      criterion  max_features  max_depth    score\n",
       "51  random_forest_regressor  squared_error           1.0         55  0.47619\n",
       "10  random_forest_regressor  squared_error           0.8         25  0.47619\n",
       "37  random_forest_regressor  squared_error           1.0         27  0.47619\n",
       "25  random_forest_regressor  squared_error           0.8         55  0.47619\n",
       "24  random_forest_regressor  squared_error           0.8         53  0.47619"
      ]
     },
     "execution_count": 56,
     "metadata": {},
     "output_type": "execute_result"
    }
   ],
   "source": [
    "comparison_df = pd.DataFrame(comparison_dict)\n",
    "\n",
    "chosen_inputs = comparison_df.query('score > 0.3').sort_values('score', ascending=False)\n",
    "\n",
    "chosen_inputs.head()"
   ]
  },
  {
   "cell_type": "code",
   "execution_count": 57,
   "metadata": {},
   "outputs": [],
   "source": [
    "chosen_inputs.to_csv(path+'parameters/random-forest-regression.csv')"
   ]
  }
 ],
 "metadata": {
  "kernelspec": {
   "display_name": "Python 3.11.0 64-bit",
   "language": "python",
   "name": "python3"
  },
  "language_info": {
   "codemirror_mode": {
    "name": "ipython",
    "version": 3
   },
   "file_extension": ".py",
   "mimetype": "text/x-python",
   "name": "python",
   "nbconvert_exporter": "python",
   "pygments_lexer": "ipython3",
   "version": "3.11.0"
  },
  "orig_nbformat": 4,
  "vscode": {
   "interpreter": {
    "hash": "aee8b7b246df8f9039afb4144a1f6fd8d2ca17a180786b69acc140d282b71a49"
   }
  }
 },
 "nbformat": 4,
 "nbformat_minor": 2
}
