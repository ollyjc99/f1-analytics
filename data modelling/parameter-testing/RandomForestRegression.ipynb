{
 "cells": [
  {
   "cell_type": "code",
   "execution_count": 1,
   "metadata": {},
   "outputs": [],
   "source": [
    "import pandas as pd\n",
    "import numpy as np\n",
    "import warnings\n",
    "\n",
    "from sklearn import svm\n",
    "from sklearn.preprocessing import StandardScaler\n",
    "from sklearn.ensemble import RandomForestRegressor\n",
    "from sklearn.metrics import precision_score\n",
    "\n",
    "from sys import platform\n",
    "\n",
    "if platform == \"win32\":\n",
    "    path = 'C:/Users/olive/GitHub/f1-analytics/'\n",
    "elif platform == \"darwin\":\n",
    "    path = '~/Documents/GitHub/f1-analytics/'\n",
    "    # path = '/Users/oliverjcarter/Documents/GitHub/f1-analytics/'\n",
    "\n",
    "warnings.filterwarnings(\"ignore\", category=RuntimeWarning) \n",
    "pd.options.mode.chained_assignment = None  # default='warn'\n",
    "\n",
    "%matplotlib inline"
   ]
  },
  {
   "cell_type": "code",
   "execution_count": 2,
   "metadata": {},
   "outputs": [],
   "source": [
    "data = pd.read_csv(path+'data/ml_input.csv')\n",
    "merged = pd.read_csv(path+'data/merged.csv')"
   ]
  },
  {
   "cell_type": "code",
   "execution_count": 3,
   "metadata": {},
   "outputs": [],
   "source": [
    "### Season to test results\n",
    "\n",
    "N = 2022"
   ]
  },
  {
   "cell_type": "code",
   "execution_count": 66,
   "metadata": {},
   "outputs": [],
   "source": [
    "df = data.copy()\n",
    "\n",
    "train = df[df.season < N]\n",
    "\n",
    "scaler = StandardScaler()\n",
    "X_train = train.drop(['podium', 'driver_points_from_race', 'constructor_points_from_race', 'qualifying_pos'], axis=1)\n",
    "X_train = pd.DataFrame(scaler.fit_transform(X_train), columns=X_train.columns)\n",
    "\n",
    "y_train = np.asarray(train.driver_points_from_race.values)"
   ]
  },
  {
   "cell_type": "code",
   "execution_count": 67,
   "metadata": {},
   "outputs": [
    {
     "data": {
      "text/plain": [
       "Index(['season', 'round', 'driver_points', 'driver_wins',\n",
       "       'driver_standings_pos', 'constructor_points', 'constructor_wins',\n",
       "       'constructor_standings_pos', 'starting_grid', 'stage_q1', 'stage_q2',\n",
       "       'stage_q3', 'circuit_id_albert_park', 'circuit_id_americas',\n",
       "       'circuit_id_bahrain', 'circuit_id_baku', 'circuit_id_catalunya',\n",
       "       'circuit_id_hockenheimring', 'circuit_id_hungaroring',\n",
       "       'circuit_id_imola', 'circuit_id_interlagos', 'circuit_id_istanbul',\n",
       "       'circuit_id_jeddah', 'circuit_id_losail', 'circuit_id_marina_bay',\n",
       "       'circuit_id_miami', 'circuit_id_monaco', 'circuit_id_monza',\n",
       "       'circuit_id_mugello', 'circuit_id_nurburgring', 'circuit_id_portimao',\n",
       "       'circuit_id_red_bull_ring', 'circuit_id_ricard', 'circuit_id_rodriguez',\n",
       "       'circuit_id_sepang', 'circuit_id_shanghai', 'circuit_id_silverstone',\n",
       "       'circuit_id_sochi', 'circuit_id_spa', 'circuit_id_suzuka',\n",
       "       'circuit_id_villeneuve', 'circuit_id_yas_marina',\n",
       "       'circuit_id_zandvoort'],\n",
       "      dtype='object')"
      ]
     },
     "execution_count": 67,
     "metadata": {},
     "output_type": "execute_result"
    }
   ],
   "source": [
    "X_train.columns"
   ]
  },
  {
   "cell_type": "code",
   "execution_count": 68,
   "metadata": {},
   "outputs": [],
   "source": [
    "comparison_dict ={'model':[],\n",
    "                  'criterion': [],\n",
    "                  'max_features': [],\n",
    "                  'max_depth': [],\n",
    "                  'score': []\n",
    "                  }"
   ]
  },
  {
   "cell_type": "code",
   "execution_count": 69,
   "metadata": {},
   "outputs": [],
   "source": [
    "def score_regression(model):\n",
    "    correct_predictions = 0\n",
    "    # predictions = []\n",
    "    \n",
    "    for circuit in df[df.season == N]['round'].unique():\n",
    "\n",
    "        test = df[(df.season == N) & (df['round'] == circuit)]\n",
    "        X_test = test.drop(['podium', 'driver_points_from_race', 'constructor_points_from_race', 'qualifying_pos'], axis=1)\n",
    "        y_test = test.driver_points_from_race\n",
    "\n",
    "        #scaling\n",
    "        X_test = pd.DataFrame(scaler.transform(X_test), columns=X_test.columns)\n",
    "\n",
    "        # make predictions\n",
    "        prediction_df = pd.DataFrame(model.predict(X_test), columns=['predicted_points'])\n",
    "        prediction_df['actual_points'] = y_test.reset_index(drop=True)\n",
    "        prediction_df.sort_values('predicted_points', ascending=False, inplace=True)\n",
    "\n",
    "        prediction_df['predicted_winner'] = prediction_df.predicted_points.map(lambda x: 1 if x == prediction_df.predicted_points.max() else 0)\n",
    "        prediction_df['actual_winner'] = prediction_df.actual_points.map(lambda x: 1 if x == prediction_df.actual_points.max() else 0)\n",
    "        # predictions += list(prediction_df.predicted_points.values)\n",
    "\n",
    "        correct_predictions += precision_score(prediction_df.actual_winner, prediction_df.predicted_winner)\n",
    "    # return predictions\n",
    "    return correct_predictions / df[df.season == N]['round'].nunique()"
   ]
  },
  {
   "cell_type": "code",
   "execution_count": 70,
   "metadata": {},
   "outputs": [],
   "source": [
    "# l = [3,2,0]\n",
    "# all(l[i] >= l[i+1] for i in range(len(l) - 1))"
   ]
  },
  {
   "cell_type": "code",
   "execution_count": 71,
   "metadata": {},
   "outputs": [],
   "source": [
    "# Random Forest Regressor\n",
    "\n",
    "test = merged.copy()\n",
    "test = test[['season', 'round', 'driver', 'starting_grid', 'podium', 'driver_points_from_race']].query('season == 2022'\n",
    ")\n",
    "\n",
    "params={'criterion': ['squared_error'],\n",
    "        'max_features': [0.8, 1.0],\n",
    "        'max_depth': list(map(int, (np.linspace(5, 55, 26))))\n",
    "        }\n",
    "\n",
    "for criterion in params['criterion']:\n",
    "    for max_features in params['max_features']:\n",
    "        for max_depth in params['max_depth']:\n",
    "\n",
    "            model_params = (criterion, max_features, max_depth)\n",
    "            model = RandomForestRegressor(criterion = criterion, max_features = max_features, max_depth = max_depth)\n",
    "            model.fit(X_train, y_train)\n",
    "            \n",
    "            score = score_regression(model)\n",
    "            # test['predicted_points'] = score\n",
    "\n",
    "            comparison_dict['model'].append('random_forest_regressor')\n",
    "            comparison_dict['criterion'].append(criterion)\n",
    "            comparison_dict['max_features'].append(max_features)\n",
    "            comparison_dict['max_depth'].append(max_depth)\n",
    "            comparison_dict['score'].append(score)"
   ]
  },
  {
   "cell_type": "code",
   "execution_count": 72,
   "metadata": {},
   "outputs": [],
   "source": [
    "# test.query('round == 14').sort_values('predicted_points', ascending=False)"
   ]
  },
  {
   "cell_type": "code",
   "execution_count": 73,
   "metadata": {},
   "outputs": [
    {
     "data": {
      "text/html": [
       "<div>\n",
       "<style scoped>\n",
       "    .dataframe tbody tr th:only-of-type {\n",
       "        vertical-align: middle;\n",
       "    }\n",
       "\n",
       "    .dataframe tbody tr th {\n",
       "        vertical-align: top;\n",
       "    }\n",
       "\n",
       "    .dataframe thead th {\n",
       "        text-align: right;\n",
       "    }\n",
       "</style>\n",
       "<table border=\"1\" class=\"dataframe\">\n",
       "  <thead>\n",
       "    <tr style=\"text-align: right;\">\n",
       "      <th></th>\n",
       "      <th>model</th>\n",
       "      <th>criterion</th>\n",
       "      <th>max_features</th>\n",
       "      <th>max_depth</th>\n",
       "      <th>score</th>\n",
       "    </tr>\n",
       "  </thead>\n",
       "  <tbody>\n",
       "    <tr>\n",
       "      <th>1</th>\n",
       "      <td>random_forest_regressor</td>\n",
       "      <td>squared_error</td>\n",
       "      <td>0.8</td>\n",
       "      <td>7</td>\n",
       "      <td>0.545455</td>\n",
       "    </tr>\n",
       "    <tr>\n",
       "      <th>45</th>\n",
       "      <td>random_forest_regressor</td>\n",
       "      <td>squared_error</td>\n",
       "      <td>1.0</td>\n",
       "      <td>43</td>\n",
       "      <td>0.545455</td>\n",
       "    </tr>\n",
       "    <tr>\n",
       "      <th>51</th>\n",
       "      <td>random_forest_regressor</td>\n",
       "      <td>squared_error</td>\n",
       "      <td>1.0</td>\n",
       "      <td>55</td>\n",
       "      <td>0.500000</td>\n",
       "    </tr>\n",
       "    <tr>\n",
       "      <th>24</th>\n",
       "      <td>random_forest_regressor</td>\n",
       "      <td>squared_error</td>\n",
       "      <td>0.8</td>\n",
       "      <td>53</td>\n",
       "      <td>0.500000</td>\n",
       "    </tr>\n",
       "    <tr>\n",
       "      <th>22</th>\n",
       "      <td>random_forest_regressor</td>\n",
       "      <td>squared_error</td>\n",
       "      <td>0.8</td>\n",
       "      <td>49</td>\n",
       "      <td>0.500000</td>\n",
       "    </tr>\n",
       "  </tbody>\n",
       "</table>\n",
       "</div>"
      ],
      "text/plain": [
       "                      model      criterion  max_features  max_depth     score\n",
       "1   random_forest_regressor  squared_error           0.8          7  0.545455\n",
       "45  random_forest_regressor  squared_error           1.0         43  0.545455\n",
       "51  random_forest_regressor  squared_error           1.0         55  0.500000\n",
       "24  random_forest_regressor  squared_error           0.8         53  0.500000\n",
       "22  random_forest_regressor  squared_error           0.8         49  0.500000"
      ]
     },
     "execution_count": 73,
     "metadata": {},
     "output_type": "execute_result"
    }
   ],
   "source": [
    "comparison_df = pd.DataFrame(comparison_dict)\n",
    "\n",
    "chosen_inputs = comparison_df.query('score > 0.3').sort_values('score', ascending=False)\n",
    "\n",
    "chosen_inputs.head()"
   ]
  },
  {
   "cell_type": "code",
   "execution_count": 74,
   "metadata": {},
   "outputs": [],
   "source": [
    "# chosen_inputs.to_csv(path+'parameters/random-forest-regression.csv')"
   ]
  }
 ],
 "metadata": {
  "kernelspec": {
   "display_name": "Python 3.11.0 64-bit",
   "language": "python",
   "name": "python3"
  },
  "language_info": {
   "codemirror_mode": {
    "name": "ipython",
    "version": 3
   },
   "file_extension": ".py",
   "mimetype": "text/x-python",
   "name": "python",
   "nbconvert_exporter": "python",
   "pygments_lexer": "ipython3",
   "version": "3.11.0"
  },
  "orig_nbformat": 4,
  "vscode": {
   "interpreter": {
    "hash": "aee8b7b246df8f9039afb4144a1f6fd8d2ca17a180786b69acc140d282b71a49"
   }
  }
 },
 "nbformat": 4,
 "nbformat_minor": 2
}
