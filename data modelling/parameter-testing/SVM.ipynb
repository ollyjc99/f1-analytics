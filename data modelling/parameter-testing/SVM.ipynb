{
 "cells": [
  {
   "cell_type": "code",
   "execution_count": 19,
   "metadata": {},
   "outputs": [],
   "source": [
    "import pandas as pd\n",
    "import numpy as np\n",
    "import warnings\n",
    "\n",
    "from sklearn import svm\n",
    "from sklearn.preprocessing import StandardScaler\n",
    "from sklearn.metrics import precision_score\n",
    "\n",
    "from sys import platform\n",
    "\n",
    "if platform == \"win32\":\n",
    "    path = 'C:/Users/olive/GitHub/f1-analytics/'\n",
    "elif platform == \"darwin\":\n",
    "    # path = '~/Documents/GitHub/f1-analytics/'\n",
    "    path = '/Users/oliverjcarter/Documents/GitHub/f1-analytics/'\n",
    "\n",
    "warnings.filterwarnings(\"ignore\", category=RuntimeWarning) \n",
    "pd.options.mode.chained_assignment = None  # default='warn'\n",
    "\n",
    "%matplotlib inline"
   ]
  },
  {
   "cell_type": "code",
   "execution_count": 20,
   "metadata": {},
   "outputs": [],
   "source": [
    "data = pd.read_csv(path+'data/ml_input.csv')\n",
    "merged = pd.read_csv(path+'data/merged.csv')"
   ]
  },
  {
   "cell_type": "code",
   "execution_count": 21,
   "metadata": {},
   "outputs": [],
   "source": [
    "### Season to test results\n",
    "\n",
    "N = 2022"
   ]
  },
  {
   "cell_type": "code",
   "execution_count": 22,
   "metadata": {},
   "outputs": [],
   "source": [
    "comparison_dict = {\n",
    "    'model':[],\n",
    "    'gamma': [],\n",
    "    'C': [],\n",
    "    'kernel': [],\n",
    "    'score': []\n",
    "    }"
   ]
  },
  {
   "cell_type": "code",
   "execution_count": 23,
   "metadata": {},
   "outputs": [
    {
     "data": {
      "text/plain": [
       "Index(['season', 'round', 'podium', 'driver_points', 'driver_wins',\n",
       "       'driver_standings_pos', 'constructor_points', 'constructor_wins',\n",
       "       'constructor_standings_pos', 'q_delta', 'starting_grid',\n",
       "       'driver_points_per_race', 'driver_points_from_race',\n",
       "       'constructor_points_per_race', 'constructor_points_from_race',\n",
       "       'driver_points_last_3_races', 'driver_points_before_race', 'stage_q1',\n",
       "       'stage_q2', 'stage_q3', 'circuit_id_albert_park', 'circuit_id_americas',\n",
       "       'circuit_id_bahrain', 'circuit_id_baku', 'circuit_id_catalunya',\n",
       "       'circuit_id_hockenheimring', 'circuit_id_hungaroring',\n",
       "       'circuit_id_imola', 'circuit_id_interlagos', 'circuit_id_istanbul',\n",
       "       'circuit_id_jeddah', 'circuit_id_losail', 'circuit_id_marina_bay',\n",
       "       'circuit_id_miami', 'circuit_id_monaco', 'circuit_id_monza',\n",
       "       'circuit_id_mugello', 'circuit_id_nurburgring', 'circuit_id_portimao',\n",
       "       'circuit_id_red_bull_ring', 'circuit_id_ricard', 'circuit_id_rodriguez',\n",
       "       'circuit_id_sepang', 'circuit_id_shanghai', 'circuit_id_silverstone',\n",
       "       'circuit_id_sochi', 'circuit_id_spa', 'circuit_id_suzuka',\n",
       "       'circuit_id_villeneuve', 'circuit_id_yas_marina',\n",
       "       'circuit_id_zandvoort'],\n",
       "      dtype='object')"
      ]
     },
     "execution_count": 23,
     "metadata": {},
     "output_type": "execute_result"
    }
   ],
   "source": [
    "data.columns"
   ]
  },
  {
   "cell_type": "code",
   "execution_count": 24,
   "metadata": {},
   "outputs": [],
   "source": [
    "df = data.copy()\n",
    "df.podium = df.podium.map(lambda x: 1 if x == 1 else 0)\n",
    "\n",
    "train = df[df.season < N]\n",
    "\n",
    "scaler = StandardScaler()\n",
    "X_train = train.drop([\n",
    "    'podium',\n",
    "    'driver_points_from_race',\n",
    "    'constructor_points_from_race', \n",
    "    'driver_points_before_race'], axis=1)\n",
    "X_train = pd.DataFrame(scaler.fit_transform(X_train), columns=X_train.columns)\n",
    "\n",
    "y_train = np.asarray(train.podium.values)"
   ]
  },
  {
   "cell_type": "code",
   "execution_count": 25,
   "metadata": {},
   "outputs": [],
   "source": [
    "def score_classification(model):\n",
    "    correct_predictions = 0\n",
    "    \n",
    "    for circuit in df[df.season == N]['round'].unique():\n",
    "\n",
    "        test = df[(df.season == N) & (df['round'] == circuit)]\n",
    "        X_test = test.drop([\n",
    "            'podium',\n",
    "            'driver_points_from_race',\n",
    "            'constructor_points_from_race', \n",
    "            'driver_points_before_race'], axis=1)\n",
    "            \n",
    "        y_test = test.podium\n",
    "\n",
    "        # Scaling\n",
    "        X_test = pd.DataFrame(scaler.transform(X_test), columns=X_test.columns)\n",
    "\n",
    "        # Make Predictions\n",
    "        prediction_df = pd.DataFrame(model.predict_proba(X_test), columns=['proba_0', 'proba_1'])\n",
    "        prediction_df['actual'] = y_test.reset_index(drop=True)\n",
    "        prediction_df.sort_values('proba_1', ascending=False, inplace=True)\n",
    "        prediction_df.reset_index(inplace = True, drop=True)\n",
    "        prediction_df['predicted'] = prediction_df.index\n",
    "        prediction_df['predicted'] = prediction_df.predicted.map(lambda x: 1 if x == 0 else 0)\n",
    "\n",
    "        correct_predictions += precision_score(prediction_df.actual, prediction_df.predicted)\n",
    "\n",
    "    return correct_predictions / df[df.season == N]['round'].nunique()"
   ]
  },
  {
   "cell_type": "code",
   "execution_count": 26,
   "metadata": {},
   "outputs": [],
   "source": [
    "# Support Vector Machines\n",
    "\n",
    "params={'gamma': np.logspace(-4, -1, 20),\n",
    "        'C': np.logspace(-2, 1, 20),\n",
    "        'kernel': ['linear', 'poly', 'rbf', 'sigmoid']} \n",
    "\n",
    "for gamma in params['gamma']:\n",
    "    for c in params['C']:\n",
    "        for kernel in params['kernel']:\n",
    "            model_params = (gamma, c, kernel)\n",
    "            model = svm.SVC(probability=True, gamma=gamma, C=c, kernel=kernel)\n",
    "            model.fit(X_train, y_train)\n",
    "            \n",
    "            model_score = score_classification(model)\n",
    "            \n",
    "            comparison_dict['model'].append('svm_classifier')\n",
    "            comparison_dict['gamma'].append(gamma)\n",
    "            comparison_dict['C'].append(c)\n",
    "            comparison_dict['kernel'].append(kernel)\n",
    "            comparison_dict['score'].append(model_score)"
   ]
  },
  {
   "cell_type": "code",
   "execution_count": 27,
   "metadata": {},
   "outputs": [
    {
     "data": {
      "text/html": [
       "<div>\n",
       "<style scoped>\n",
       "    .dataframe tbody tr th:only-of-type {\n",
       "        vertical-align: middle;\n",
       "    }\n",
       "\n",
       "    .dataframe tbody tr th {\n",
       "        vertical-align: top;\n",
       "    }\n",
       "\n",
       "    .dataframe thead th {\n",
       "        text-align: right;\n",
       "    }\n",
       "</style>\n",
       "<table border=\"1\" class=\"dataframe\">\n",
       "  <thead>\n",
       "    <tr style=\"text-align: right;\">\n",
       "      <th></th>\n",
       "      <th>model</th>\n",
       "      <th>gamma</th>\n",
       "      <th>C</th>\n",
       "      <th>kernel</th>\n",
       "      <th>score</th>\n",
       "    </tr>\n",
       "  </thead>\n",
       "  <tbody>\n",
       "    <tr>\n",
       "      <th>186</th>\n",
       "      <td>svm_classifier</td>\n",
       "      <td>0.000207</td>\n",
       "      <td>0.088587</td>\n",
       "      <td>rbf</td>\n",
       "      <td>0.681818</td>\n",
       "    </tr>\n",
       "    <tr>\n",
       "      <th>727</th>\n",
       "      <td>svm_classifier</td>\n",
       "      <td>0.002637</td>\n",
       "      <td>0.014384</td>\n",
       "      <td>sigmoid</td>\n",
       "      <td>0.681818</td>\n",
       "    </tr>\n",
       "    <tr>\n",
       "      <th>182</th>\n",
       "      <td>svm_classifier</td>\n",
       "      <td>0.000207</td>\n",
       "      <td>0.061585</td>\n",
       "      <td>rbf</td>\n",
       "      <td>0.681818</td>\n",
       "    </tr>\n",
       "    <tr>\n",
       "      <th>509</th>\n",
       "      <td>svm_classifier</td>\n",
       "      <td>0.000886</td>\n",
       "      <td>0.127427</td>\n",
       "      <td>poly</td>\n",
       "      <td>0.636364</td>\n",
       "    </tr>\n",
       "    <tr>\n",
       "      <th>329</th>\n",
       "      <td>svm_classifier</td>\n",
       "      <td>0.000428</td>\n",
       "      <td>0.020691</td>\n",
       "      <td>poly</td>\n",
       "      <td>0.636364</td>\n",
       "    </tr>\n",
       "    <tr>\n",
       "      <th>...</th>\n",
       "      <td>...</td>\n",
       "      <td>...</td>\n",
       "      <td>...</td>\n",
       "      <td>...</td>\n",
       "      <td>...</td>\n",
       "    </tr>\n",
       "    <tr>\n",
       "      <th>344</th>\n",
       "      <td>svm_classifier</td>\n",
       "      <td>0.000428</td>\n",
       "      <td>0.088587</td>\n",
       "      <td>linear</td>\n",
       "      <td>0.045455</td>\n",
       "    </tr>\n",
       "    <tr>\n",
       "      <th>1368</th>\n",
       "      <td>svm_classifier</td>\n",
       "      <td>0.048329</td>\n",
       "      <td>0.020691</td>\n",
       "      <td>linear</td>\n",
       "      <td>0.045455</td>\n",
       "    </tr>\n",
       "    <tr>\n",
       "      <th>648</th>\n",
       "      <td>svm_classifier</td>\n",
       "      <td>0.001833</td>\n",
       "      <td>0.020691</td>\n",
       "      <td>linear</td>\n",
       "      <td>0.045455</td>\n",
       "    </tr>\n",
       "    <tr>\n",
       "      <th>200</th>\n",
       "      <td>svm_classifier</td>\n",
       "      <td>0.000207</td>\n",
       "      <td>0.379269</td>\n",
       "      <td>linear</td>\n",
       "      <td>0.000000</td>\n",
       "    </tr>\n",
       "    <tr>\n",
       "      <th>972</th>\n",
       "      <td>svm_classifier</td>\n",
       "      <td>0.007848</td>\n",
       "      <td>0.029764</td>\n",
       "      <td>linear</td>\n",
       "      <td>0.000000</td>\n",
       "    </tr>\n",
       "  </tbody>\n",
       "</table>\n",
       "<p>1600 rows × 5 columns</p>\n",
       "</div>"
      ],
      "text/plain": [
       "               model     gamma         C   kernel     score\n",
       "186   svm_classifier  0.000207  0.088587      rbf  0.681818\n",
       "727   svm_classifier  0.002637  0.014384  sigmoid  0.681818\n",
       "182   svm_classifier  0.000207  0.061585      rbf  0.681818\n",
       "509   svm_classifier  0.000886  0.127427     poly  0.636364\n",
       "329   svm_classifier  0.000428  0.020691     poly  0.636364\n",
       "...              ...       ...       ...      ...       ...\n",
       "344   svm_classifier  0.000428  0.088587   linear  0.045455\n",
       "1368  svm_classifier  0.048329  0.020691   linear  0.045455\n",
       "648   svm_classifier  0.001833  0.020691   linear  0.045455\n",
       "200   svm_classifier  0.000207  0.379269   linear  0.000000\n",
       "972   svm_classifier  0.007848  0.029764   linear  0.000000\n",
       "\n",
       "[1600 rows x 5 columns]"
      ]
     },
     "execution_count": 27,
     "metadata": {},
     "output_type": "execute_result"
    }
   ],
   "source": [
    "comparison_df = pd.DataFrame(comparison_dict)\n",
    "\n",
    "comparison_df.sort_values('score', ascending=False)"
   ]
  },
  {
   "cell_type": "code",
   "execution_count": 1,
   "metadata": {},
   "outputs": [
    {
     "ename": "NameError",
     "evalue": "name 'comparison_df' is not defined",
     "output_type": "error",
     "traceback": [
      "\u001b[0;31m---------------------------------------------------------------------------\u001b[0m",
      "\u001b[0;31mNameError\u001b[0m                                 Traceback (most recent call last)",
      "Cell \u001b[0;32mIn [1], line 1\u001b[0m\n\u001b[0;32m----> 1\u001b[0m chosen_inputs \u001b[39m=\u001b[39m comparison_df\u001b[39m.\u001b[39mquery(\u001b[39m'\u001b[39m\u001b[39mscore > 0.5\u001b[39m\u001b[39m'\u001b[39m)\u001b[39m.\u001b[39msort_values(\u001b[39m'\u001b[39m\u001b[39mscore\u001b[39m\u001b[39m'\u001b[39m, ascending\u001b[39m=\u001b[39m\u001b[39mFalse\u001b[39;00m)\n\u001b[1;32m      3\u001b[0m chosen_inputs\u001b[39m.\u001b[39mto_csv(path\u001b[39m+\u001b[39m\u001b[39m'\u001b[39m\u001b[39mparameters/svm_classifier.csv\u001b[39m\u001b[39m'\u001b[39m)\n",
      "\u001b[0;31mNameError\u001b[0m: name 'comparison_df' is not defined"
     ]
    }
   ],
   "source": [
    "chosen_inputs = comparison_df.query('score > 0.5').sort_values('score', ascending=False)\n",
    "\n",
    "chosen_inputs.to_csv(path+'parameters/svm_classifier.csv')"
   ]
  },
  {
   "cell_type": "code",
   "execution_count": 29,
   "metadata": {},
   "outputs": [],
   "source": [
    "# total = max(df[df.season == N]['round'].unique())\n",
    "# missing = list(set([i for i in range(1, total + 1)]) - set(df[df.season == N]['round'].unique()))\n",
    "\n",
    "# print('Missing rounds: {}'.format(missing))"
   ]
  }
 ],
 "metadata": {
  "kernelspec": {
   "display_name": "Python 3.11.0 64-bit",
   "language": "python",
   "name": "python3"
  },
  "language_info": {
   "codemirror_mode": {
    "name": "ipython",
    "version": 3
   },
   "file_extension": ".py",
   "mimetype": "text/x-python",
   "name": "python",
   "nbconvert_exporter": "python",
   "pygments_lexer": "ipython3",
   "version": "3.11.0"
  },
  "orig_nbformat": 4,
  "vscode": {
   "interpreter": {
    "hash": "aee8b7b246df8f9039afb4144a1f6fd8d2ca17a180786b69acc140d282b71a49"
   }
  }
 },
 "nbformat": 4,
 "nbformat_minor": 2
}
