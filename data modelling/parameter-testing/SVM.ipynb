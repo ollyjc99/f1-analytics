{
 "cells": [
  {
   "cell_type": "code",
   "execution_count": 1,
   "metadata": {},
   "outputs": [],
   "source": [
    "import pandas as pd\n",
    "import numpy as np\n",
    "import warnings\n",
    "\n",
    "from sklearn import svm\n",
    "from sklearn.preprocessing import StandardScaler\n",
    "from sklearn.metrics import precision_score\n",
    "\n",
    "from sys import platform\n",
    "\n",
    "if platform == \"win32\":\n",
    "    path = 'C:/Users/olive/GitHub/f1-analytics/'\n",
    "elif platform == \"darwin\":\n",
    "    path = '~/Documents/GitHub/f1-analytics/'\n",
    "    # path = '/Users/oliverjcarter/Documents/GitHub/f1-analytics/'\n",
    "\n",
    "warnings.filterwarnings(\"ignore\", category=RuntimeWarning) \n",
    "pd.options.mode.chained_assignment = None  # default='warn'\n",
    "\n",
    "%matplotlib inline"
   ]
  },
  {
   "cell_type": "code",
   "execution_count": 2,
   "metadata": {},
   "outputs": [],
   "source": [
    "data = pd.read_csv(path+'data/ml_input.csv')\n",
    "processed = pd.read_csv(path+'data/processed.csv')"
   ]
  },
  {
   "cell_type": "code",
   "execution_count": 3,
   "metadata": {},
   "outputs": [],
   "source": [
    "params_to_drop = ['season', 'round', 'podium', 'driver_points_from']"
   ]
  },
  {
   "cell_type": "code",
   "execution_count": 4,
   "metadata": {},
   "outputs": [],
   "source": [
    "### Season to test results\n",
    "\n",
    "N = 2021"
   ]
  },
  {
   "cell_type": "code",
   "execution_count": 5,
   "metadata": {},
   "outputs": [],
   "source": [
    "comparison_dict = {\n",
    "    'model':[],\n",
    "    'gamma': [],\n",
    "    'C': [],\n",
    "    'kernel': [],\n",
    "    'score': []\n",
    "    }"
   ]
  },
  {
   "cell_type": "code",
   "execution_count": 6,
   "metadata": {},
   "outputs": [],
   "source": [
    "df = data.copy()\n",
    "df.podium = df.podium.map(lambda x: 1 if x == 1 else 0)\n",
    "\n",
    "train = df[df.season < N]\n",
    "\n",
    "scaler = StandardScaler()\n",
    "X_train = train.drop(params_to_drop, axis=1)\n",
    "X_train = pd.DataFrame(scaler.fit_transform(X_train), columns=X_train.columns)\n",
    "\n",
    "y_train = np.asarray(train.podium.values)"
   ]
  },
  {
   "cell_type": "code",
   "execution_count": 7,
   "metadata": {},
   "outputs": [],
   "source": [
    "def score_classification(model):\n",
    "    correct_predictions = 0\n",
    "    \n",
    "    for circuit in df[df.season == N]['round'].unique():\n",
    "\n",
    "        test = df[(df.season == N) & (df['round'] == circuit)]\n",
    "        X_test = test.drop(params_to_drop, axis=1)\n",
    "        y_test = test.podium\n",
    "\n",
    "        # Scaling\n",
    "        X_test = pd.DataFrame(scaler.transform(X_test), columns=X_test.columns)\n",
    "\n",
    "        # Make Predictions\n",
    "        prediction_df = pd.DataFrame(model.predict_proba(X_test), columns=['proba_0', 'proba_1'])\n",
    "        prediction_df['actual'] = y_test.reset_index(drop=True)\n",
    "        prediction_df['predicted'] = prediction_df.proba_1.map(lambda x: 1 if x == prediction_df.proba_1.max() else 0)\n",
    "\n",
    "        correct_predictions += precision_score(prediction_df.actual, prediction_df.predicted)\n",
    "\n",
    "    return correct_predictions / df[df.season == N]['round'].nunique()"
   ]
  },
  {
   "cell_type": "code",
   "execution_count": 8,
   "metadata": {},
   "outputs": [],
   "source": [
    "# Support Vector Machines\n",
    "\n",
    "params={'gamma': np.logspace(-4, -1, 20),\n",
    "        'C': np.logspace(-2, 1, 20),\n",
    "        'kernel': ['linear', 'poly', 'rbf', 'sigmoid']} \n",
    "\n",
    "for gamma in params['gamma']:\n",
    "    for c in params['C']:\n",
    "        for kernel in params['kernel']:\n",
    "            model_params = (gamma, c, kernel)\n",
    "            model = svm.SVC(probability=True, gamma=gamma, C=c, kernel=kernel)\n",
    "            model.fit(X_train, y_train)\n",
    "            \n",
    "            model_score = score_classification(model)\n",
    "            \n",
    "            comparison_dict['model'].append('svm_classifier')\n",
    "            comparison_dict['gamma'].append(gamma)\n",
    "            comparison_dict['C'].append(c)\n",
    "            comparison_dict['kernel'].append(kernel)\n",
    "            comparison_dict['score'].append(model_score)"
   ]
  },
  {
   "cell_type": "code",
   "execution_count": 9,
   "metadata": {},
   "outputs": [
    {
     "data": {
      "text/html": [
       "<div>\n",
       "<style scoped>\n",
       "    .dataframe tbody tr th:only-of-type {\n",
       "        vertical-align: middle;\n",
       "    }\n",
       "\n",
       "    .dataframe tbody tr th {\n",
       "        vertical-align: top;\n",
       "    }\n",
       "\n",
       "    .dataframe thead th {\n",
       "        text-align: right;\n",
       "    }\n",
       "</style>\n",
       "<table border=\"1\" class=\"dataframe\">\n",
       "  <thead>\n",
       "    <tr style=\"text-align: right;\">\n",
       "      <th></th>\n",
       "      <th>model</th>\n",
       "      <th>gamma</th>\n",
       "      <th>C</th>\n",
       "      <th>kernel</th>\n",
       "      <th>score</th>\n",
       "    </tr>\n",
       "  </thead>\n",
       "  <tbody>\n",
       "    <tr>\n",
       "      <th>1413</th>\n",
       "      <td>svm_classifier</td>\n",
       "      <td>0.048329</td>\n",
       "      <td>1.128838</td>\n",
       "      <td>poly</td>\n",
       "      <td>0.526316</td>\n",
       "    </tr>\n",
       "    <tr>\n",
       "      <th>1481</th>\n",
       "      <td>svm_classifier</td>\n",
       "      <td>0.069519</td>\n",
       "      <td>0.379269</td>\n",
       "      <td>poly</td>\n",
       "      <td>0.526316</td>\n",
       "    </tr>\n",
       "    <tr>\n",
       "      <th>1345</th>\n",
       "      <td>svm_classifier</td>\n",
       "      <td>0.033598</td>\n",
       "      <td>3.359818</td>\n",
       "      <td>poly</td>\n",
       "      <td>0.526316</td>\n",
       "    </tr>\n",
       "    <tr>\n",
       "      <th>1549</th>\n",
       "      <td>svm_classifier</td>\n",
       "      <td>0.100000</td>\n",
       "      <td>0.127427</td>\n",
       "      <td>poly</td>\n",
       "      <td>0.526316</td>\n",
       "    </tr>\n",
       "    <tr>\n",
       "      <th>1277</th>\n",
       "      <td>svm_classifier</td>\n",
       "      <td>0.023357</td>\n",
       "      <td>10.000000</td>\n",
       "      <td>poly</td>\n",
       "      <td>0.526316</td>\n",
       "    </tr>\n",
       "    <tr>\n",
       "      <th>...</th>\n",
       "      <td>...</td>\n",
       "      <td>...</td>\n",
       "      <td>...</td>\n",
       "      <td>...</td>\n",
       "      <td>...</td>\n",
       "    </tr>\n",
       "    <tr>\n",
       "      <th>5</th>\n",
       "      <td>svm_classifier</td>\n",
       "      <td>0.000100</td>\n",
       "      <td>0.014384</td>\n",
       "      <td>poly</td>\n",
       "      <td>0.051570</td>\n",
       "    </tr>\n",
       "    <tr>\n",
       "      <th>85</th>\n",
       "      <td>svm_classifier</td>\n",
       "      <td>0.000144</td>\n",
       "      <td>0.014384</td>\n",
       "      <td>poly</td>\n",
       "      <td>0.051570</td>\n",
       "    </tr>\n",
       "    <tr>\n",
       "      <th>89</th>\n",
       "      <td>svm_classifier</td>\n",
       "      <td>0.000144</td>\n",
       "      <td>0.020691</td>\n",
       "      <td>poly</td>\n",
       "      <td>0.051570</td>\n",
       "    </tr>\n",
       "    <tr>\n",
       "      <th>1</th>\n",
       "      <td>svm_classifier</td>\n",
       "      <td>0.000100</td>\n",
       "      <td>0.010000</td>\n",
       "      <td>poly</td>\n",
       "      <td>0.051570</td>\n",
       "    </tr>\n",
       "    <tr>\n",
       "      <th>9</th>\n",
       "      <td>svm_classifier</td>\n",
       "      <td>0.000100</td>\n",
       "      <td>0.020691</td>\n",
       "      <td>poly</td>\n",
       "      <td>0.051570</td>\n",
       "    </tr>\n",
       "  </tbody>\n",
       "</table>\n",
       "<p>1600 rows × 5 columns</p>\n",
       "</div>"
      ],
      "text/plain": [
       "               model     gamma          C kernel     score\n",
       "1413  svm_classifier  0.048329   1.128838   poly  0.526316\n",
       "1481  svm_classifier  0.069519   0.379269   poly  0.526316\n",
       "1345  svm_classifier  0.033598   3.359818   poly  0.526316\n",
       "1549  svm_classifier  0.100000   0.127427   poly  0.526316\n",
       "1277  svm_classifier  0.023357  10.000000   poly  0.526316\n",
       "...              ...       ...        ...    ...       ...\n",
       "5     svm_classifier  0.000100   0.014384   poly  0.051570\n",
       "85    svm_classifier  0.000144   0.014384   poly  0.051570\n",
       "89    svm_classifier  0.000144   0.020691   poly  0.051570\n",
       "1     svm_classifier  0.000100   0.010000   poly  0.051570\n",
       "9     svm_classifier  0.000100   0.020691   poly  0.051570\n",
       "\n",
       "[1600 rows x 5 columns]"
      ]
     },
     "execution_count": 9,
     "metadata": {},
     "output_type": "execute_result"
    }
   ],
   "source": [
    "comparison_df = pd.DataFrame(comparison_dict)\n",
    "\n",
    "comparison_df.sort_values('score', ascending=False)"
   ]
  },
  {
   "cell_type": "code",
   "execution_count": 10,
   "metadata": {},
   "outputs": [],
   "source": [
    "chosen_inputs = comparison_df.query('score > 0.5').sort_values('score', ascending=False)\n",
    "\n",
    "chosen_inputs.to_csv(path+'parameters/svm_classifier.csv', index=False)"
   ]
  },
  {
   "cell_type": "code",
   "execution_count": 11,
   "metadata": {},
   "outputs": [],
   "source": [
    "# total = max(df[df.season == N]['round'].unique())\n",
    "# missing = list(set([i for i in range(1, total + 1)]) - set(df[df.season == N]['round'].unique()))\n",
    "\n",
    "# print('Missing rounds: {}'.format(missing))"
   ]
  }
 ],
 "metadata": {
  "kernelspec": {
   "display_name": "Python 3.11.0 64-bit",
   "language": "python",
   "name": "python3"
  },
  "language_info": {
   "codemirror_mode": {
    "name": "ipython",
    "version": 3
   },
   "file_extension": ".py",
   "mimetype": "text/x-python",
   "name": "python",
   "nbconvert_exporter": "python",
   "pygments_lexer": "ipython3",
   "version": "3.11.0"
  },
  "orig_nbformat": 4,
  "vscode": {
   "interpreter": {
    "hash": "aee8b7b246df8f9039afb4144a1f6fd8d2ca17a180786b69acc140d282b71a49"
   }
  }
 },
 "nbformat": 4,
 "nbformat_minor": 2
}
