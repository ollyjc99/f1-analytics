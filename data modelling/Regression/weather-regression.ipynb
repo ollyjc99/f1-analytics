{
 "cells": [
  {
   "cell_type": "code",
   "execution_count": 13,
   "metadata": {},
   "outputs": [],
   "source": [
    "import pandas as pd\n",
    "import numpy as np\n",
    "from scipy import sparse   \n",
    "\n",
    "from sklearn.preprocessing import LabelBinarizer\n",
    "import matplotlib.pyplot as plt\n",
    "import warnings\n",
    "\n",
    "from sys import platform\n",
    "\n",
    "if platform == \"win32\":\n",
    "    path = 'C:/Users/olive/GitHub/f1-analytics/'\n",
    "elif platform == \"darwin\":\n",
    "    # path = '~/Documents/GitHub/f1-analytics/'\n",
    "    path = '/Users/oliverjcarter/Documents/GitHub/f1-analytics/'\n",
    "\n",
    "warnings.filterwarnings(\"ignore\", category=RuntimeWarning) \n",
    "pd.options.mode.chained_assignment = None  # default='warn'\n",
    "\n",
    "%matplotlib inline"
   ]
  },
  {
   "cell_type": "code",
   "execution_count": 4,
   "metadata": {},
   "outputs": [],
   "source": [
    "### Load race and mereged DataFrames\n",
    "\n",
    "weather = pd.read_csv(path+'data/weather.csv')\n",
    "\n",
    "training_set = weather.query('coco.notnull()')"
   ]
  },
  {
   "cell_type": "code",
   "execution_count": 5,
   "metadata": {},
   "outputs": [
    {
     "name": "stdout",
     "output_type": "stream",
     "text": [
      "conditions\n",
      "Clear                11\n",
      "Cloudy               11\n",
      "Fair                 19\n",
      "Fog                   3\n",
      "Heavy Rain Shower     2\n",
      "Light Rain            5\n",
      "Overcast              5\n",
      "Rain                  2\n",
      "Rain Shower           2\n",
      "Thunderstorm          1\n",
      "dtype: int64\n"
     ]
    }
   ],
   "source": [
    "print(training_set.groupby('conditions').size())"
   ]
  },
  {
   "cell_type": "code",
   "execution_count": 14,
   "metadata": {},
   "outputs": [
    {
     "name": "stdout",
     "output_type": "stream",
     "text": [
      "  (0, 5)\t1\n",
      "  (1, 3)\t1\n",
      "  (2, 9)\t1\n",
      "  (3, 2)\t1\n",
      "  (4, 1)\t1\n",
      "  (5, 8)\t1\n",
      "  (6, 7)\t1\n",
      "  (7, 0)\t1\n",
      "  (8, 6)\t1\n",
      "  (9, 4)\t1\n"
     ]
    }
   ],
   "source": [
    "labels = np.array(training_set.conditions.unique())\n",
    "y_dense = LabelBinarizer().fit_transform(labels)\n",
    "y_sparse = sparse.csr_matrix(y_dense)\n",
    "print(y_sparse)"
   ]
  }
 ],
 "metadata": {
  "kernelspec": {
   "display_name": "Python 3.11.0 64-bit",
   "language": "python",
   "name": "python3"
  },
  "language_info": {
   "codemirror_mode": {
    "name": "ipython",
    "version": 3
   },
   "file_extension": ".py",
   "mimetype": "text/x-python",
   "name": "python",
   "nbconvert_exporter": "python",
   "pygments_lexer": "ipython3",
   "version": "3.11.0"
  },
  "orig_nbformat": 4,
  "vscode": {
   "interpreter": {
    "hash": "aee8b7b246df8f9039afb4144a1f6fd8d2ca17a180786b69acc140d282b71a49"
   }
  }
 },
 "nbformat": 4,
 "nbformat_minor": 2
}
