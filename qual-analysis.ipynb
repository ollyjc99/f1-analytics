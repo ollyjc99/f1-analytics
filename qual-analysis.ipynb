{
 "cells": [
  {
   "cell_type": "code",
   "execution_count": 8,
   "metadata": {},
   "outputs": [
    {
     "name": "stdout",
     "output_type": "stream",
     "text": [
      "%pylab is deprecated, use %matplotlib inline and import the required libraries.\n",
      "Populating the interactive namespace from numpy and matplotlib\n"
     ]
    }
   ],
   "source": [
    "%pylab inline\n",
    "import pandas as pd\n",
    "import matplotlib.pyplot as plt\n",
    "import numpy as np"
   ]
  },
  {
   "cell_type": "code",
   "execution_count": 3,
   "metadata": {},
   "outputs": [
    {
     "data": {
      "text/html": [
       "<div>\n",
       "<style scoped>\n",
       "    .dataframe tbody tr th:only-of-type {\n",
       "        vertical-align: middle;\n",
       "    }\n",
       "\n",
       "    .dataframe tbody tr th {\n",
       "        vertical-align: top;\n",
       "    }\n",
       "\n",
       "    .dataframe thead th {\n",
       "        text-align: right;\n",
       "    }\n",
       "</style>\n",
       "<table border=\"1\" class=\"dataframe\">\n",
       "  <thead>\n",
       "    <tr style=\"text-align: right;\">\n",
       "      <th></th>\n",
       "      <th>grid</th>\n",
       "      <th>driver</th>\n",
       "      <th>constructor</th>\n",
       "      <th>season</th>\n",
       "      <th>round</th>\n",
       "      <th>qual_time</th>\n",
       "      <th>q_delta</th>\n",
       "    </tr>\n",
       "  </thead>\n",
       "  <tbody>\n",
       "    <tr>\n",
       "      <th>0</th>\n",
       "      <td>1</td>\n",
       "      <td>Valtteri  Bottas  BOT</td>\n",
       "      <td>Mercedes</td>\n",
       "      <td>2020</td>\n",
       "      <td>1</td>\n",
       "      <td>62.939</td>\n",
       "      <td>0.000</td>\n",
       "    </tr>\n",
       "    <tr>\n",
       "      <th>1</th>\n",
       "      <td>2</td>\n",
       "      <td>Max  Verstappen  VER</td>\n",
       "      <td>Red Bull Racing Honda</td>\n",
       "      <td>2020</td>\n",
       "      <td>1</td>\n",
       "      <td>63.477</td>\n",
       "      <td>0.538</td>\n",
       "    </tr>\n",
       "    <tr>\n",
       "      <th>2</th>\n",
       "      <td>3</td>\n",
       "      <td>Lando  Norris  NOR</td>\n",
       "      <td>McLaren Renault</td>\n",
       "      <td>2020</td>\n",
       "      <td>1</td>\n",
       "      <td>63.626</td>\n",
       "      <td>0.687</td>\n",
       "    </tr>\n",
       "    <tr>\n",
       "      <th>3</th>\n",
       "      <td>4</td>\n",
       "      <td>Alexander  Albon  ALB</td>\n",
       "      <td>Red Bull Racing Honda</td>\n",
       "      <td>2020</td>\n",
       "      <td>1</td>\n",
       "      <td>63.868</td>\n",
       "      <td>0.929</td>\n",
       "    </tr>\n",
       "    <tr>\n",
       "      <th>4</th>\n",
       "      <td>5</td>\n",
       "      <td>Lewis  Hamilton  HAM</td>\n",
       "      <td>Mercedes</td>\n",
       "      <td>2020</td>\n",
       "      <td>1</td>\n",
       "      <td>62.951</td>\n",
       "      <td>0.012</td>\n",
       "    </tr>\n",
       "  </tbody>\n",
       "</table>\n",
       "</div>"
      ],
      "text/plain": [
       "   grid                 driver            constructor  season  round  \\\n",
       "0     1  Valtteri  Bottas  BOT               Mercedes    2020      1   \n",
       "1     2   Max  Verstappen  VER  Red Bull Racing Honda    2020      1   \n",
       "2     3     Lando  Norris  NOR        McLaren Renault    2020      1   \n",
       "3     4  Alexander  Albon  ALB  Red Bull Racing Honda    2020      1   \n",
       "4     5   Lewis  Hamilton  HAM               Mercedes    2020      1   \n",
       "\n",
       "   qual_time  q_delta  \n",
       "0     62.939    0.000  \n",
       "1     63.477    0.538  \n",
       "2     63.626    0.687  \n",
       "3     63.868    0.929  \n",
       "4     62.951    0.012  "
      ]
     },
     "execution_count": 3,
     "metadata": {},
     "output_type": "execute_result"
    }
   ],
   "source": [
    "data = pd.read_csv('data/qualifying.csv')\n",
    "\n",
    "data.head()"
   ]
  },
  {
   "cell_type": "code",
   "execution_count": 32,
   "metadata": {},
   "outputs": [
    {
     "data": {
      "text/plain": [
       "<matplotlib.collections.PathCollection at 0x121a62020>"
      ]
     },
     "execution_count": 32,
     "metadata": {},
     "output_type": "execute_result"
    },
    {
     "data": {
      "image/png": "[encoded data removed]",
      "text/plain": [
       "<Figure size 800x400 with 1 Axes>"
      ]
     },
     "metadata": {},
     "output_type": "display_data"
    }
   ],
   "source": [
    "s_2020 = data.query('season == 2020')\n",
    "q_times_by_round= s_2020.groupby('round').agg('qual_time')\n",
    "\n",
    "desc = q_times_by_round.describe()\n",
    "\n",
    "fig, axs = plt.subplots(1, dpi=80)\n",
    "fig.set_size_inches(10, 5)\n",
    "\n",
    "x = s_2020['round'].values\n",
    "y = s_2020['qual_time'].values\n",
    "\n",
    "axs.set_title('')\n",
    "axs.set_xlabel('Round')\n",
    "axs.set_ylabel('Time in seconds')\n",
    "axs.set_xticks(np.unique(x))\n",
    "axs.scatter(x, y)"
   ]
  }
 ],
 "metadata": {
  "kernelspec": {
   "display_name": "Python 3.10.7 64-bit",
   "language": "python",
   "name": "python3"
  },
  "language_info": {
   "codemirror_mode": {
    "name": "ipython",
    "version": 3
   },
   "file_extension": ".py",
   "mimetype": "text/x-python",
   "name": "python",
   "nbconvert_exporter": "python",
   "pygments_lexer": "ipython3",
   "version": "3.10.7"
  },
  "orig_nbformat": 4,
  "vscode": {
   "interpreter": {
    "hash": "aee8b7b246df8f9039afb4144a1f6fd8d2ca17a180786b69acc140d282b71a49"
   }
  }
 },
 "nbformat": 4,
 "nbformat_minor": 2
}
