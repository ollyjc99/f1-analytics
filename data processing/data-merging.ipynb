{
 "cells": [
  {
   "cell_type": "code",
   "execution_count": 1,
   "metadata": {},
   "outputs": [],
   "source": [
    "import pandas as pd\n",
    "\n",
    "from sys import platform\n",
    "\n",
    "if platform == \"win32\":\n",
    "    path = 'C:/Users/olive/GitHub/f1-analytics/'\n",
    "elif platform == \"darwin\":\n",
    "    path = '~/Documents/GitHub/f1-analytics/'\n",
    "    # path = '/Users/oliverjcarter/Documents/GitHub/f1-analytics/'"
   ]
  },
  {
   "cell_type": "code",
   "execution_count": 2,
   "metadata": {},
   "outputs": [],
   "source": [
    "def format_time(x):\n",
    "    if not any(i in x for i in ['DNF', 'DNS']):\n",
    "        if ':' in x:\n",
    "            return round(float(str(x).split(':')[1]) + (60 * float(str(x).split(':')[0])), 3) if x != 0 else 0\n",
    "        else:\n",
    "            return(round(float(x), 3))\n",
    "    else:\n",
    "        return x"
   ]
  },
  {
   "cell_type": "code",
   "execution_count": 3,
   "metadata": {},
   "outputs": [],
   "source": [
    "races = pd.read_csv(path+'data/races.csv')\n",
    "qualifying = pd.read_csv(path+'data/qualifying.csv')\n",
    "constructors = pd.read_csv(path+'data/constructor_standings.csv')\n",
    "drivers = pd.read_csv(path+'data/driver_standings.csv')\n",
    "results = pd.read_csv(path+'data/results.csv')\n",
    "starting_grid = pd.read_csv(path+'data/starting-grid.csv')\n",
    "\n",
    "### Redundant until new weather collection method is implemented\n",
    "# weather = pd.read_csv(path+'data/weather.csv')"
   ]
  },
  {
   "cell_type": "code",
   "execution_count": 5,
   "metadata": {},
   "outputs": [],
   "source": [
    "starting_grid = starting_grid.drop(['driver', 'constructor'], axis=1)"
   ]
  },
  {
   "cell_type": "code",
   "execution_count": 10,
   "metadata": {},
   "outputs": [
    {
     "data": {
      "text/html": [
       "<div>\n",
       "<style scoped>\n",
       "    .dataframe tbody tr th:only-of-type {\n",
       "        vertical-align: middle;\n",
       "    }\n",
       "\n",
       "    .dataframe tbody tr th {\n",
       "        vertical-align: top;\n",
       "    }\n",
       "\n",
       "    .dataframe thead th {\n",
       "        text-align: right;\n",
       "    }\n",
       "</style>\n",
       "<table border=\"1\" class=\"dataframe\">\n",
       "  <thead>\n",
       "    <tr style=\"text-align: right;\">\n",
       "      <th></th>\n",
       "      <th>season</th>\n",
       "      <th>round</th>\n",
       "      <th>circuit_id</th>\n",
       "      <th>driver</th>\n",
       "      <th>date_of_birth</th>\n",
       "      <th>nationality</th>\n",
       "      <th>constructor</th>\n",
       "      <th>grid</th>\n",
       "      <th>time</th>\n",
       "      <th>status</th>\n",
       "      <th>points</th>\n",
       "      <th>podium</th>\n",
       "      <th>fastest_lap</th>\n",
       "    </tr>\n",
       "  </thead>\n",
       "  <tbody>\n",
       "    <tr>\n",
       "      <th>424</th>\n",
       "      <td>2015</td>\n",
       "      <td>1</td>\n",
       "      <td>albert_park</td>\n",
       "      <td>bottas</td>\n",
       "      <td>1989-08-28</td>\n",
       "      <td>Finnish</td>\n",
       "      <td>williams</td>\n",
       "      <td>0</td>\n",
       "      <td>NaN</td>\n",
       "      <td>Withdrew</td>\n",
       "      <td>0.0</td>\n",
       "      <td>18</td>\n",
       "      <td>NaN</td>\n",
       "    </tr>\n",
       "    <tr>\n",
       "      <th>444</th>\n",
       "      <td>2015</td>\n",
       "      <td>2</td>\n",
       "      <td>sepang</td>\n",
       "      <td>stevens</td>\n",
       "      <td>1991-06-28</td>\n",
       "      <td>British</td>\n",
       "      <td>manor</td>\n",
       "      <td>0</td>\n",
       "      <td>NaN</td>\n",
       "      <td>Fuel system</td>\n",
       "      <td>0.0</td>\n",
       "      <td>20</td>\n",
       "      <td>NaN</td>\n",
       "    </tr>\n",
       "    <tr>\n",
       "      <th>514</th>\n",
       "      <td>2015</td>\n",
       "      <td>6</td>\n",
       "      <td>monaco</td>\n",
       "      <td>sainz</td>\n",
       "      <td>1994-09-01</td>\n",
       "      <td>Spanish</td>\n",
       "      <td>toro_rosso</td>\n",
       "      <td>0</td>\n",
       "      <td>6583476.0</td>\n",
       "      <td>Finished</td>\n",
       "      <td>1.0</td>\n",
       "      <td>10</td>\n",
       "      <td>1:19.816</td>\n",
       "    </tr>\n",
       "    <tr>\n",
       "      <th>911</th>\n",
       "      <td>2016</td>\n",
       "      <td>6</td>\n",
       "      <td>monaco</td>\n",
       "      <td>nasr</td>\n",
       "      <td>1992-08-21</td>\n",
       "      <td>Brazilian</td>\n",
       "      <td>sauber</td>\n",
       "      <td>0</td>\n",
       "      <td>NaN</td>\n",
       "      <td>Retired</td>\n",
       "      <td>0.0</td>\n",
       "      <td>17</td>\n",
       "      <td>1:21.889</td>\n",
       "    </tr>\n",
       "    <tr>\n",
       "      <th>912</th>\n",
       "      <td>2016</td>\n",
       "      <td>6</td>\n",
       "      <td>monaco</td>\n",
       "      <td>max_verstappen</td>\n",
       "      <td>1997-09-30</td>\n",
       "      <td>Dutch</td>\n",
       "      <td>red_bull</td>\n",
       "      <td>0</td>\n",
       "      <td>NaN</td>\n",
       "      <td>Accident</td>\n",
       "      <td>0.0</td>\n",
       "      <td>18</td>\n",
       "      <td>1:26.563</td>\n",
       "    </tr>\n",
       "  </tbody>\n",
       "</table>\n",
       "</div>"
      ],
      "text/plain": [
       "     season  round   circuit_id          driver date_of_birth nationality  \\\n",
       "424    2015      1  albert_park          bottas    1989-08-28     Finnish   \n",
       "444    2015      2       sepang         stevens    1991-06-28     British   \n",
       "514    2015      6       monaco           sainz    1994-09-01     Spanish   \n",
       "911    2016      6       monaco            nasr    1992-08-21   Brazilian   \n",
       "912    2016      6       monaco  max_verstappen    1997-09-30       Dutch   \n",
       "\n",
       "    constructor  grid       time       status  points  podium fastest_lap  \n",
       "424    williams     0        NaN     Withdrew     0.0      18         NaN  \n",
       "444       manor     0        NaN  Fuel system     0.0      20         NaN  \n",
       "514  toro_rosso     0  6583476.0     Finished     1.0      10    1:19.816  \n",
       "911      sauber     0        NaN      Retired     0.0      17    1:21.889  \n",
       "912    red_bull     0        NaN     Accident     0.0      18    1:26.563  "
      ]
     },
     "execution_count": 10,
     "metadata": {},
     "output_type": "execute_result"
    }
   ],
   "source": [
    "results.query('grid == 0').head()"
   ]
  },
  {
   "cell_type": "code",
   "execution_count": 23,
   "metadata": {},
   "outputs": [],
   "source": [
    "laps1 = pd.read_csv(path+'data/laps-2014-2017.csv')\n",
    "laps2 = pd.read_csv(path+'data/laps-2017-22.csv')"
   ]
  },
  {
   "cell_type": "code",
   "execution_count": 5,
   "metadata": {},
   "outputs": [
    {
     "data": {
      "text/plain": [
       "(168937, 6)"
      ]
     },
     "execution_count": 5,
     "metadata": {},
     "output_type": "execute_result"
    }
   ],
   "source": [
    "laps = pd.concat([laps1, laps2]).drop_duplicates()\n",
    "\n",
    "laps.shape"
   ]
  },
  {
   "cell_type": "code",
   "execution_count": 6,
   "metadata": {},
   "outputs": [
    {
     "data": {
      "text/html": [
       "<div>\n",
       "<style scoped>\n",
       "    .dataframe tbody tr th:only-of-type {\n",
       "        vertical-align: middle;\n",
       "    }\n",
       "\n",
       "    .dataframe tbody tr th {\n",
       "        vertical-align: top;\n",
       "    }\n",
       "\n",
       "    .dataframe thead th {\n",
       "        text-align: right;\n",
       "    }\n",
       "</style>\n",
       "<table border=\"1\" class=\"dataframe\">\n",
       "  <thead>\n",
       "    <tr style=\"text-align: right;\">\n",
       "      <th></th>\n",
       "      <th>season</th>\n",
       "      <th>round</th>\n",
       "      <th>lap</th>\n",
       "      <th>driver</th>\n",
       "      <th>position</th>\n",
       "      <th>time</th>\n",
       "    </tr>\n",
       "  </thead>\n",
       "  <tbody>\n",
       "  </tbody>\n",
       "</table>\n",
       "</div>"
      ],
      "text/plain": [
       "Empty DataFrame\n",
       "Columns: [season, round, lap, driver, position, time]\n",
       "Index: []"
      ]
     },
     "execution_count": 6,
     "metadata": {},
     "output_type": "execute_result"
    }
   ],
   "source": [
    "laps[laps.duplicated()]"
   ]
  },
  {
   "cell_type": "code",
   "execution_count": 7,
   "metadata": {},
   "outputs": [],
   "source": [
    "laps['time'] = laps.time.apply(lambda x: format_time(str(x)))"
   ]
  },
  {
   "cell_type": "code",
   "execution_count": 8,
   "metadata": {},
   "outputs": [],
   "source": [
    "# laps.to_csv(path+'data/laps.csv', index=False)"
   ]
  },
  {
   "cell_type": "code",
   "execution_count": 22,
   "metadata": {},
   "outputs": [],
   "source": [
    "def lookup (df, team, points):\n",
    "    df['lookup1'] = df.season.astype(str) + df[team] + df['round'].astype(str)\n",
    "    df['lookup2'] = df.season.astype(str) + df[team] + (df['round']-1).astype(str)\n",
    "    new_df = df.merge(df[['lookup1', points]], how = 'left', left_on='lookup2',right_on='lookup1')\n",
    "    new_df.drop(['lookup1_x', 'lookup2', 'lookup1_y'], axis = 1, inplace = True)\n",
    "    new_df.rename(columns = {points+'_x': points+'_after_race', points+'_y': points}, inplace = True)\n",
    "    new_df[points].fillna(0, inplace = True)\n",
    "    return new_df"
   ]
  },
  {
   "cell_type": "code",
   "execution_count": 23,
   "metadata": {},
   "outputs": [],
   "source": [
    "for col in ['driver_points', 'driver_wins', 'driver_standings_pos']:\n",
    "    drivers = lookup(drivers, 'driver', col)\n",
    "\n",
    "# drivers.drop(['driver_points_after_race', 'driver_wins_after_race', 'driver_standings_pos_after_race'], axis=1, inplace=True)"
   ]
  },
  {
   "cell_type": "code",
   "execution_count": 24,
   "metadata": {},
   "outputs": [],
   "source": [
    "for col in ['constructor_points', 'constructor_wins', 'constructor_standings_pos']:\n",
    "    constructors = lookup(constructors, 'constructor', col)\n",
    "\n",
    "# constructors.drop(['constructor_points_after_race', 'constructor_wins_after_race', 'constructor_standings_pos_after_race'], axis=1, inplace=True)"
   ]
  },
  {
   "cell_type": "code",
   "execution_count": 11,
   "metadata": {},
   "outputs": [
    {
     "ename": "NameError",
     "evalue": "name 'laps' is not defined",
     "output_type": "error",
     "traceback": [
      "\u001b[0;31m---------------------------------------------------------------------------\u001b[0m",
      "\u001b[0;31mNameError\u001b[0m                                 Traceback (most recent call last)",
      "Cell \u001b[0;32mIn [11], line 1\u001b[0m\n\u001b[0;32m----> 1\u001b[0m mean_time \u001b[39m=\u001b[39m laps\u001b[39m.\u001b[39mgroupby([\u001b[39m'\u001b[39m\u001b[39mseason\u001b[39m\u001b[39m'\u001b[39m, \u001b[39m'\u001b[39m\u001b[39mround\u001b[39m\u001b[39m'\u001b[39m, \u001b[39m'\u001b[39m\u001b[39mdriver\u001b[39m\u001b[39m'\u001b[39m])\u001b[39m.\u001b[39magg({\u001b[39m'\u001b[39m\u001b[39mtime\u001b[39m\u001b[39m'\u001b[39m: \u001b[39m'\u001b[39m\u001b[39mmean\u001b[39m\u001b[39m'\u001b[39m})\u001b[39m.\u001b[39mreset_index()\n\u001b[1;32m      2\u001b[0m mean_time[\u001b[39m'\u001b[39m\u001b[39mtime\u001b[39m\u001b[39m'\u001b[39m] \u001b[39m=\u001b[39m mean_time\u001b[39m.\u001b[39mtime\u001b[39m.\u001b[39mapply(\u001b[39mlambda\u001b[39;00m x: \u001b[39mround\u001b[39m(x, \u001b[39m3\u001b[39m))\n",
      "\u001b[0;31mNameError\u001b[0m: name 'laps' is not defined"
     ]
    }
   ],
   "source": [
    "mean_time = laps.groupby(['season', 'round', 'driver']).agg({'time': 'mean'}).reset_index()\n",
    "mean_time['time'] = mean_time.time.apply(lambda x: round(x, 3))"
   ]
  },
  {
   "cell_type": "code",
   "execution_count": 39,
   "metadata": {},
   "outputs": [
    {
     "data": {
      "text/plain": [
       "(3589, 30)"
      ]
     },
     "execution_count": 39,
     "metadata": {},
     "output_type": "execute_result"
    }
   ],
   "source": [
    "df1 = pd.merge(races, results, how='inner', on=['season', 'round', 'circuit_id']).drop(['url','points', 'status', 'time', 'grid'], axis=1)\n",
    "df2 = pd.merge(df1, drivers, how='left', on=['season', 'round', 'driver']) \n",
    "df3 = pd.merge(df2, constructors, how='left', on=['season', 'round', 'constructor'])\n",
    "df4 = pd.merge(df3, starting_grid, how='inner', on=['season', 'round', 'no'])\n",
    "df4.rename(columns = {'grid': 'starting_grid'}, inplace=True)\n",
    "\n",
    "final_df = pd.merge(df4, qualifying, how='inner', on=['season', 'round', 'circuit_id', 'driver']).drop(['fastest_lap'], axis=1)\n",
    "final_df.rename(columns = {'fastest_time': 'qual_time', 'grid': 'qualifying_pos'}, inplace=True)\n",
    "\n",
    "final_df.shape"
   ]
  },
  {
   "cell_type": "code",
   "execution_count": 59,
   "metadata": {},
   "outputs": [],
   "source": [
    "# final_df['fastest_lap'] = final_df['fastest_lap'].apply(lambda x: format_time(str(x)))"
   ]
  },
  {
   "cell_type": "code",
   "execution_count": 60,
   "metadata": {},
   "outputs": [
    {
     "data": {
      "text/html": [
       "<div>\n",
       "<style scoped>\n",
       "    .dataframe tbody tr th:only-of-type {\n",
       "        vertical-align: middle;\n",
       "    }\n",
       "\n",
       "    .dataframe tbody tr th {\n",
       "        vertical-align: top;\n",
       "    }\n",
       "\n",
       "    .dataframe thead th {\n",
       "        text-align: right;\n",
       "    }\n",
       "</style>\n",
       "<table border=\"1\" class=\"dataframe\">\n",
       "  <thead>\n",
       "    <tr style=\"text-align: right;\">\n",
       "      <th></th>\n",
       "      <th>fastest_lap</th>\n",
       "      <th>qual_time</th>\n",
       "    </tr>\n",
       "  </thead>\n",
       "  <tbody>\n",
       "    <tr>\n",
       "      <th>0</th>\n",
       "      <td>92.478</td>\n",
       "      <td>104.595</td>\n",
       "    </tr>\n",
       "    <tr>\n",
       "      <th>1</th>\n",
       "      <td>93.066</td>\n",
       "      <td>105.745</td>\n",
       "    </tr>\n",
       "    <tr>\n",
       "      <th>2</th>\n",
       "      <td>92.917</td>\n",
       "      <td>104.437</td>\n",
       "    </tr>\n",
       "    <tr>\n",
       "      <th>3</th>\n",
       "      <td>93.186</td>\n",
       "      <td>105.819</td>\n",
       "    </tr>\n",
       "    <tr>\n",
       "      <th>4</th>\n",
       "      <td>92.616</td>\n",
       "      <td>108.147</td>\n",
       "    </tr>\n",
       "  </tbody>\n",
       "</table>\n",
       "</div>"
      ],
      "text/plain": [
       "   fastest_lap  qual_time\n",
       "0       92.478    104.595\n",
       "1       93.066    105.745\n",
       "2       92.917    104.437\n",
       "3       93.186    105.819\n",
       "4       92.616    108.147"
      ]
     },
     "execution_count": 60,
     "metadata": {},
     "output_type": "execute_result"
    }
   ],
   "source": [
    "# final_df[['fastest_lap', 'qual_time']].head()"
   ]
  },
  {
   "cell_type": "code",
   "execution_count": 33,
   "metadata": {},
   "outputs": [
    {
     "data": {
      "text/plain": [
       "Index(['season', 'round', 'circuit_id', 'country', 'lat', 'long', 'date',\n",
       "       'driver', 'no', 'date_of_birth', 'nationality', 'constructor', 'podium',\n",
       "       'driver_points_after_race', 'driver_wins_after_race',\n",
       "       'driver_standings_pos_after_race', 'driver_points', 'driver_wins',\n",
       "       'driver_standings_pos', 'constructor_points_after_race',\n",
       "       'constructor_wins_after_race', 'constructor_standings_pos_after_race',\n",
       "       'constructor_points', 'constructor_wins', 'constructor_standings_pos',\n",
       "       'starting_grid', 'qualifying_pos', 'qual_time', 'stage', 'q_delta'],\n",
       "      dtype='object')"
      ]
     },
     "execution_count": 33,
     "metadata": {},
     "output_type": "execute_result"
    }
   ],
   "source": [
    "final_df.columns"
   ]
  },
  {
   "cell_type": "code",
   "execution_count": 40,
   "metadata": {},
   "outputs": [
    {
     "data": {
      "text/plain": [
       "(32, 6)"
      ]
     },
     "execution_count": 40,
     "metadata": {},
     "output_type": "execute_result"
    }
   ],
   "source": [
    "null_cols = final_df.columns[final_df.isna().any()].tolist()\n",
    "\n",
    "null_rows = final_df[final_df.isna().any(axis=1)]\n",
    "null_rows = null_rows[['season', 'round', 'driver', 'podium', 'qual_time', 'stage']]\n",
    "\n",
    "null_rows.shape"
   ]
  },
  {
   "cell_type": "code",
   "execution_count": 41,
   "metadata": {},
   "outputs": [
    {
     "data": {
      "text/plain": [
       "(3557, 30)"
      ]
     },
     "execution_count": 41,
     "metadata": {},
     "output_type": "execute_result"
    }
   ],
   "source": [
    "# fill/drop nulls\n",
    "### Data is being lossed here\n",
    "\n",
    "for col in ['driver_points', 'driver_wins', 'driver_standings_pos', 'constructor_points', \n",
    "            'constructor_wins', 'constructor_standings_pos']:\n",
    "            \n",
    "    final_df[col].fillna(0, inplace=True)\n",
    "    final_df[col] = final_df[col].map(lambda x: int(x))\n",
    "    \n",
    "final_df.dropna(inplace=True)\n",
    "\n",
    "final_df.shape"
   ]
  },
  {
   "cell_type": "code",
   "execution_count": 20,
   "metadata": {},
   "outputs": [],
   "source": [
    "final_df.to_csv(path+'data/merged.csv', index=False)"
   ]
  }
 ],
 "metadata": {
  "kernelspec": {
   "display_name": "Python 3.10.7 64-bit",
   "language": "python",
   "name": "python3"
  },
  "language_info": {
   "codemirror_mode": {
    "name": "ipython",
    "version": 3
   },
   "file_extension": ".py",
   "mimetype": "text/x-python",
   "name": "python",
   "nbconvert_exporter": "python",
   "pygments_lexer": "ipython3",
   "version": "3.11.0"
  },
  "orig_nbformat": 4,
  "vscode": {
   "interpreter": {
    "hash": "aee8b7b246df8f9039afb4144a1f6fd8d2ca17a180786b69acc140d282b71a49"
   }
  }
 },
 "nbformat": 4,
 "nbformat_minor": 2
}
