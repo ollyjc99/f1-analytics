{
 "cells": [
  {
   "cell_type": "code",
   "execution_count": 1,
   "metadata": {},
   "outputs": [],
   "source": [
    "import pandas as pd\n",
    "\n",
    "from sys import platform\n",
    "\n",
    "if platform == \"win32\":\n",
    "    path = 'C:/Users/olive/GitHub/f1-analytics/'\n",
    "elif platform == \"darwin\":\n",
    "    path = '~/Documents/GitHub/f1-analytics/'\n",
    "    # path = '/Users/oliverjcarter/Documents/GitHub/f1-analytics/'"
   ]
  },
  {
   "cell_type": "code",
   "execution_count": 2,
   "metadata": {},
   "outputs": [],
   "source": [
    "def format_time(x):\n",
    "    if not any(i in x for i in ['DNF', 'DNS']):\n",
    "        if ':' in x:\n",
    "            return round(float(str(x).split(':')[1]) + (60 * float(str(x).split(':')[0])), 3) if x != 0 else 0\n",
    "        else:\n",
    "            return(round(float(x), 3))\n",
    "    else:\n",
    "        return x"
   ]
  },
  {
   "cell_type": "code",
   "execution_count": 3,
   "metadata": {},
   "outputs": [],
   "source": [
    "races = pd.read_csv(path+'data/races.csv')\n",
    "qualifying = pd.read_csv(path+'data/qualifying.csv')\n",
    "constructors = pd.read_csv(path+'data/constructor_standings.csv')\n",
    "drivers = pd.read_csv(path+'data/driver_standings.csv')\n",
    "results = pd.read_csv(path+'data/results.csv')\n",
    "\n",
    "### Redundant until new weather collection method is implemented\n",
    "# weather = pd.read_csv(path+'data/weather.csv')"
   ]
  },
  {
   "cell_type": "code",
   "execution_count": 4,
   "metadata": {},
   "outputs": [],
   "source": [
    "laps1 = pd.read_csv(path+'data/laps-2014-2017.csv')\n",
    "laps2 = pd.read_csv(path+'data/laps-2017-22.csv')"
   ]
  },
  {
   "cell_type": "code",
   "execution_count": 5,
   "metadata": {},
   "outputs": [
    {
     "data": {
      "text/plain": [
       "(168937, 6)"
      ]
     },
     "execution_count": 5,
     "metadata": {},
     "output_type": "execute_result"
    }
   ],
   "source": [
    "laps = pd.concat([laps1, laps2]).drop_duplicates()\n",
    "\n",
    "laps.shape"
   ]
  },
  {
   "cell_type": "code",
   "execution_count": 6,
   "metadata": {},
   "outputs": [
    {
     "data": {
      "text/html": [
       "<div>\n",
       "<style scoped>\n",
       "    .dataframe tbody tr th:only-of-type {\n",
       "        vertical-align: middle;\n",
       "    }\n",
       "\n",
       "    .dataframe tbody tr th {\n",
       "        vertical-align: top;\n",
       "    }\n",
       "\n",
       "    .dataframe thead th {\n",
       "        text-align: right;\n",
       "    }\n",
       "</style>\n",
       "<table border=\"1\" class=\"dataframe\">\n",
       "  <thead>\n",
       "    <tr style=\"text-align: right;\">\n",
       "      <th></th>\n",
       "      <th>season</th>\n",
       "      <th>round</th>\n",
       "      <th>lap</th>\n",
       "      <th>driver</th>\n",
       "      <th>position</th>\n",
       "      <th>time</th>\n",
       "    </tr>\n",
       "  </thead>\n",
       "  <tbody>\n",
       "  </tbody>\n",
       "</table>\n",
       "</div>"
      ],
      "text/plain": [
       "Empty DataFrame\n",
       "Columns: [season, round, lap, driver, position, time]\n",
       "Index: []"
      ]
     },
     "execution_count": 6,
     "metadata": {},
     "output_type": "execute_result"
    }
   ],
   "source": [
    "laps[laps.duplicated()]"
   ]
  },
  {
   "cell_type": "code",
   "execution_count": 7,
   "metadata": {},
   "outputs": [],
   "source": [
    "laps['time'] = laps.time.apply(lambda x: format_time(str(x)))"
   ]
  },
  {
   "cell_type": "code",
   "execution_count": 34,
   "metadata": {},
   "outputs": [],
   "source": [
    "# laps.to_csv(path+'data/laps.csv', index=False)"
   ]
  },
  {
   "cell_type": "code",
   "execution_count": 8,
   "metadata": {},
   "outputs": [],
   "source": [
    "def lookup (df, team, points):\n",
    "    df['lookup1'] = df.season.astype(str) + df[team] + df['round'].astype(str)\n",
    "    df['lookup2'] = df.season.astype(str) + df[team] + (df['round']-1).astype(str)\n",
    "    new_df = df.merge(df[['lookup1', points]], how = 'left', left_on='lookup2',right_on='lookup1')\n",
    "    new_df.drop(['lookup1_x', 'lookup2', 'lookup1_y'], axis = 1, inplace = True)\n",
    "    new_df.rename(columns = {points+'_x': points+'_after_race', points+'_y': points}, inplace = True)\n",
    "    new_df[points].fillna(0, inplace = True)\n",
    "    return new_df"
   ]
  },
  {
   "cell_type": "code",
   "execution_count": 9,
   "metadata": {},
   "outputs": [],
   "source": [
    "for col in ['driver_points', 'driver_wins', 'driver_standings_pos']:\n",
    "    drivers = lookup(drivers, 'driver', col)\n",
    "\n",
    "drivers.drop(['driver_points_after_race', 'driver_wins_after_race', 'driver_standings_pos_after_race'], axis=1, inplace=True)"
   ]
  },
  {
   "cell_type": "code",
   "execution_count": 10,
   "metadata": {},
   "outputs": [],
   "source": [
    "for col in ['constructor_points', 'constructor_wins', 'constructor_standings_pos']:\n",
    "    constructors = lookup(constructors, 'constructor', col)\n",
    "\n",
    "constructors.drop(['constructor_points_after_race', 'constructor_wins_after_race', 'constructor_standings_pos_after_race'], axis=1, inplace=True)"
   ]
  },
  {
   "cell_type": "code",
   "execution_count": 11,
   "metadata": {},
   "outputs": [],
   "source": [
    "mean_time = laps.groupby(['season', 'round', 'driver']).agg({'time': 'mean'}).reset_index()\n",
    "mean_time['time'] = mean_time.time.apply(lambda x: round(x, 3))"
   ]
  },
  {
   "cell_type": "code",
   "execution_count": 33,
   "metadata": {},
   "outputs": [
    {
     "data": {
      "text/plain": [
       "(3671, 24)"
      ]
     },
     "execution_count": 33,
     "metadata": {},
     "output_type": "execute_result"
    }
   ],
   "source": [
    "df1 = pd.merge(races, results, how='inner', on=['season', 'round', 'circuit_id']).drop(['url','points', 'status', 'time', 'grid'], axis=1)\n",
    "df2 = pd.merge(df1, drivers, how='left', on=['season', 'round', 'driver']) \n",
    "df3 = pd.merge(df2, constructors, how='left', on=['season', 'round', 'constructor'])\n",
    "df4 = pd.merge(df3, mean_time, how='left', on=['season', 'round', 'driver'])\n",
    "\n",
    "merged_df = pd.merge(df4, qualifying, how='inner', on=['season', 'round', 'circuit_id', 'driver'])\n",
    "merged_df.rename(columns = {'time': 'average_pace', 'fastest_time': 'qual_time'}, inplace=True)\n",
    "\n",
    "merged_df.shape"
   ]
  },
  {
   "cell_type": "code",
   "execution_count": 34,
   "metadata": {},
   "outputs": [],
   "source": [
    "merged_df['fastest_lap'] = merged_df['fastest_lap'].apply(lambda x: format_time(str(x)))"
   ]
  },
  {
   "cell_type": "code",
   "execution_count": 35,
   "metadata": {},
   "outputs": [
    {
     "data": {
      "text/html": [
       "<div>\n",
       "<style scoped>\n",
       "    .dataframe tbody tr th:only-of-type {\n",
       "        vertical-align: middle;\n",
       "    }\n",
       "\n",
       "    .dataframe tbody tr th {\n",
       "        vertical-align: top;\n",
       "    }\n",
       "\n",
       "    .dataframe thead th {\n",
       "        text-align: right;\n",
       "    }\n",
       "</style>\n",
       "<table border=\"1\" class=\"dataframe\">\n",
       "  <thead>\n",
       "    <tr style=\"text-align: right;\">\n",
       "      <th></th>\n",
       "      <th>fastest_lap</th>\n",
       "      <th>qual_time</th>\n",
       "      <th>average_pace</th>\n",
       "    </tr>\n",
       "  </thead>\n",
       "  <tbody>\n",
       "    <tr>\n",
       "      <th>0</th>\n",
       "      <td>92.478</td>\n",
       "      <td>104.595</td>\n",
       "      <td>97.872</td>\n",
       "    </tr>\n",
       "    <tr>\n",
       "      <th>1</th>\n",
       "      <td>93.066</td>\n",
       "      <td>105.745</td>\n",
       "      <td>98.342</td>\n",
       "    </tr>\n",
       "    <tr>\n",
       "      <th>2</th>\n",
       "      <td>92.917</td>\n",
       "      <td>104.437</td>\n",
       "      <td>98.399</td>\n",
       "    </tr>\n",
       "    <tr>\n",
       "      <th>3</th>\n",
       "      <td>93.186</td>\n",
       "      <td>105.819</td>\n",
       "      <td>98.491</td>\n",
       "    </tr>\n",
       "    <tr>\n",
       "      <th>4</th>\n",
       "      <td>92.616</td>\n",
       "      <td>108.147</td>\n",
       "      <td>98.708</td>\n",
       "    </tr>\n",
       "  </tbody>\n",
       "</table>\n",
       "</div>"
      ],
      "text/plain": [
       "   fastest_lap  qual_time  average_pace\n",
       "0       92.478    104.595        97.872\n",
       "1       93.066    105.745        98.342\n",
       "2       92.917    104.437        98.399\n",
       "3       93.186    105.819        98.491\n",
       "4       92.616    108.147        98.708"
      ]
     },
     "execution_count": 35,
     "metadata": {},
     "output_type": "execute_result"
    }
   ],
   "source": [
    "merged_df[['fastest_lap', 'qual_time', 'average_pace']].head()"
   ]
  },
  {
   "cell_type": "code",
   "execution_count": 36,
   "metadata": {},
   "outputs": [
    {
     "data": {
      "text/html": [
       "<div>\n",
       "<style scoped>\n",
       "    .dataframe tbody tr th:only-of-type {\n",
       "        vertical-align: middle;\n",
       "    }\n",
       "\n",
       "    .dataframe tbody tr th {\n",
       "        vertical-align: top;\n",
       "    }\n",
       "\n",
       "    .dataframe thead th {\n",
       "        text-align: right;\n",
       "    }\n",
       "</style>\n",
       "<table border=\"1\" class=\"dataframe\">\n",
       "  <thead>\n",
       "    <tr style=\"text-align: right;\">\n",
       "      <th></th>\n",
       "      <th>season</th>\n",
       "      <th>round</th>\n",
       "      <th>driver</th>\n",
       "      <th>grid</th>\n",
       "      <th>podium</th>\n",
       "      <th>fastest_lap</th>\n",
       "    </tr>\n",
       "  </thead>\n",
       "  <tbody>\n",
       "    <tr>\n",
       "      <th>405</th>\n",
       "      <td>2015</td>\n",
       "      <td>1</td>\n",
       "      <td>hamilton</td>\n",
       "      <td>1</td>\n",
       "      <td>1</td>\n",
       "      <td>90.945</td>\n",
       "    </tr>\n",
       "    <tr>\n",
       "      <th>406</th>\n",
       "      <td>2015</td>\n",
       "      <td>1</td>\n",
       "      <td>rosberg</td>\n",
       "      <td>2</td>\n",
       "      <td>2</td>\n",
       "      <td>91.092</td>\n",
       "    </tr>\n",
       "    <tr>\n",
       "      <th>408</th>\n",
       "      <td>2015</td>\n",
       "      <td>1</td>\n",
       "      <td>massa</td>\n",
       "      <td>3</td>\n",
       "      <td>4</td>\n",
       "      <td>91.719</td>\n",
       "    </tr>\n",
       "    <tr>\n",
       "      <th>407</th>\n",
       "      <td>2015</td>\n",
       "      <td>1</td>\n",
       "      <td>vettel</td>\n",
       "      <td>4</td>\n",
       "      <td>3</td>\n",
       "      <td>91.457</td>\n",
       "    </tr>\n",
       "    <tr>\n",
       "      <th>416</th>\n",
       "      <td>2015</td>\n",
       "      <td>1</td>\n",
       "      <td>raikkonen</td>\n",
       "      <td>5</td>\n",
       "      <td>12</td>\n",
       "      <td>91.426</td>\n",
       "    </tr>\n",
       "    <tr>\n",
       "      <th>422</th>\n",
       "      <td>2015</td>\n",
       "      <td>1</td>\n",
       "      <td>bottas</td>\n",
       "      <td>6</td>\n",
       "      <td>18</td>\n",
       "      <td>NaN</td>\n",
       "    </tr>\n",
       "    <tr>\n",
       "      <th>410</th>\n",
       "      <td>2015</td>\n",
       "      <td>1</td>\n",
       "      <td>ricciardo</td>\n",
       "      <td>7</td>\n",
       "      <td>6</td>\n",
       "      <td>92.797</td>\n",
       "    </tr>\n",
       "    <tr>\n",
       "      <th>413</th>\n",
       "      <td>2015</td>\n",
       "      <td>1</td>\n",
       "      <td>sainz</td>\n",
       "      <td>8</td>\n",
       "      <td>9</td>\n",
       "      <td>92.872</td>\n",
       "    </tr>\n",
       "    <tr>\n",
       "      <th>418</th>\n",
       "      <td>2015</td>\n",
       "      <td>1</td>\n",
       "      <td>grosjean</td>\n",
       "      <td>9</td>\n",
       "      <td>14</td>\n",
       "      <td>NaN</td>\n",
       "    </tr>\n",
       "    <tr>\n",
       "      <th>419</th>\n",
       "      <td>2015</td>\n",
       "      <td>1</td>\n",
       "      <td>maldonado</td>\n",
       "      <td>10</td>\n",
       "      <td>15</td>\n",
       "      <td>NaN</td>\n",
       "    </tr>\n",
       "    <tr>\n",
       "      <th>409</th>\n",
       "      <td>2015</td>\n",
       "      <td>1</td>\n",
       "      <td>nasr</td>\n",
       "      <td>11</td>\n",
       "      <td>5</td>\n",
       "      <td>92.612</td>\n",
       "    </tr>\n",
       "    <tr>\n",
       "      <th>417</th>\n",
       "      <td>2015</td>\n",
       "      <td>1</td>\n",
       "      <td>max_verstappen</td>\n",
       "      <td>12</td>\n",
       "      <td>13</td>\n",
       "      <td>94.295</td>\n",
       "    </tr>\n",
       "    <tr>\n",
       "      <th>420</th>\n",
       "      <td>2015</td>\n",
       "      <td>1</td>\n",
       "      <td>kvyat</td>\n",
       "      <td>13</td>\n",
       "      <td>16</td>\n",
       "      <td>NaN</td>\n",
       "    </tr>\n",
       "    <tr>\n",
       "      <th>411</th>\n",
       "      <td>2015</td>\n",
       "      <td>1</td>\n",
       "      <td>hulkenberg</td>\n",
       "      <td>14</td>\n",
       "      <td>7</td>\n",
       "      <td>91.970</td>\n",
       "    </tr>\n",
       "    <tr>\n",
       "      <th>414</th>\n",
       "      <td>2015</td>\n",
       "      <td>1</td>\n",
       "      <td>perez</td>\n",
       "      <td>15</td>\n",
       "      <td>10</td>\n",
       "      <td>91.959</td>\n",
       "    </tr>\n",
       "    <tr>\n",
       "      <th>412</th>\n",
       "      <td>2015</td>\n",
       "      <td>1</td>\n",
       "      <td>ericsson</td>\n",
       "      <td>16</td>\n",
       "      <td>8</td>\n",
       "      <td>91.560</td>\n",
       "    </tr>\n",
       "    <tr>\n",
       "      <th>415</th>\n",
       "      <td>2015</td>\n",
       "      <td>1</td>\n",
       "      <td>button</td>\n",
       "      <td>17</td>\n",
       "      <td>11</td>\n",
       "      <td>93.338</td>\n",
       "    </tr>\n",
       "    <tr>\n",
       "      <th>421</th>\n",
       "      <td>2015</td>\n",
       "      <td>1</td>\n",
       "      <td>kevin_magnussen</td>\n",
       "      <td>18</td>\n",
       "      <td>17</td>\n",
       "      <td>NaN</td>\n",
       "    </tr>\n",
       "  </tbody>\n",
       "</table>\n",
       "</div>"
      ],
      "text/plain": [
       "     season  round           driver  grid  podium  fastest_lap\n",
       "405    2015      1         hamilton     1       1       90.945\n",
       "406    2015      1          rosberg     2       2       91.092\n",
       "408    2015      1            massa     3       4       91.719\n",
       "407    2015      1           vettel     4       3       91.457\n",
       "416    2015      1        raikkonen     5      12       91.426\n",
       "422    2015      1           bottas     6      18          NaN\n",
       "410    2015      1        ricciardo     7       6       92.797\n",
       "413    2015      1            sainz     8       9       92.872\n",
       "418    2015      1         grosjean     9      14          NaN\n",
       "419    2015      1        maldonado    10      15          NaN\n",
       "409    2015      1             nasr    11       5       92.612\n",
       "417    2015      1   max_verstappen    12      13       94.295\n",
       "420    2015      1            kvyat    13      16          NaN\n",
       "411    2015      1       hulkenberg    14       7       91.970\n",
       "414    2015      1            perez    15      10       91.959\n",
       "412    2015      1         ericsson    16       8       91.560\n",
       "415    2015      1           button    17      11       93.338\n",
       "421    2015      1  kevin_magnussen    18      17          NaN"
      ]
     },
     "execution_count": 36,
     "metadata": {},
     "output_type": "execute_result"
    }
   ],
   "source": [
    "merged_df[['season','round','driver','grid', 'podium','fastest_lap']].query('season == 2015 & round == 1').sort_values('grid')"
   ]
  },
  {
   "cell_type": "code",
   "execution_count": 29,
   "metadata": {},
   "outputs": [
    {
     "data": {
      "text/plain": [
       "Index(['season', 'round', 'circuit_id', 'country', 'lat', 'long', 'date',\n",
       "       'driver', 'date_of_birth', 'nationality', 'constructor', 'podium',\n",
       "       'fastest_lap', 'driver_points', 'driver_wins', 'driver_standings_pos',\n",
       "       'constructor_points', 'constructor_wins', 'constructor_standings_pos',\n",
       "       'average_pace', 'grid', 'qual_time', 'stage', 'q_delta'],\n",
       "      dtype='object')"
      ]
     },
     "execution_count": 29,
     "metadata": {},
     "output_type": "execute_result"
    }
   ],
   "source": [
    "merged_df.columns"
   ]
  },
  {
   "cell_type": "code",
   "execution_count": 55,
   "metadata": {},
   "outputs": [],
   "source": [
    "null_cols = merged_df.columns[merged_df.isna().any()].tolist()\n",
    "# merged_df.query()\n",
    "null_rows = merged_df[merged_df.isna().any(axis=1)]\n",
    "null_rows = null_rows[['season', 'round', 'driver', 'podium', 'average_pace', 'qual_time','fastest_lap', 'stage']]"
   ]
  },
  {
   "cell_type": "code",
   "execution_count": 56,
   "metadata": {},
   "outputs": [
    {
     "data": {
      "text/html": [
       "<div>\n",
       "<style scoped>\n",
       "    .dataframe tbody tr th:only-of-type {\n",
       "        vertical-align: middle;\n",
       "    }\n",
       "\n",
       "    .dataframe tbody tr th {\n",
       "        vertical-align: top;\n",
       "    }\n",
       "\n",
       "    .dataframe thead th {\n",
       "        text-align: right;\n",
       "    }\n",
       "</style>\n",
       "<table border=\"1\" class=\"dataframe\">\n",
       "  <thead>\n",
       "    <tr style=\"text-align: right;\">\n",
       "      <th></th>\n",
       "      <th>season</th>\n",
       "      <th>round</th>\n",
       "      <th>driver</th>\n",
       "      <th>podium</th>\n",
       "      <th>average_pace</th>\n",
       "      <th>qual_time</th>\n",
       "      <th>fastest_lap</th>\n",
       "      <th>stage</th>\n",
       "    </tr>\n",
       "  </thead>\n",
       "  <tbody>\n",
       "    <tr>\n",
       "      <th>15</th>\n",
       "      <td>2014</td>\n",
       "      <td>1</td>\n",
       "      <td>maldonado</td>\n",
       "      <td>16</td>\n",
       "      <td>104.033</td>\n",
       "      <td>NaN</td>\n",
       "      <td>94.766</td>\n",
       "      <td>NaN</td>\n",
       "    </tr>\n",
       "    <tr>\n",
       "      <th>19</th>\n",
       "      <td>2014</td>\n",
       "      <td>1</td>\n",
       "      <td>massa</td>\n",
       "      <td>20</td>\n",
       "      <td>NaN</td>\n",
       "      <td>108.079</td>\n",
       "      <td>100.287</td>\n",
       "      <td>q3</td>\n",
       "    </tr>\n",
       "    <tr>\n",
       "      <th>20</th>\n",
       "      <td>2014</td>\n",
       "      <td>1</td>\n",
       "      <td>kobayashi</td>\n",
       "      <td>21</td>\n",
       "      <td>NaN</td>\n",
       "      <td>105.867</td>\n",
       "      <td>NaN</td>\n",
       "      <td>q2</td>\n",
       "    </tr>\n",
       "    <tr>\n",
       "      <th>21</th>\n",
       "      <td>2014</td>\n",
       "      <td>1</td>\n",
       "      <td>ricciardo</td>\n",
       "      <td>22</td>\n",
       "      <td>98.302</td>\n",
       "      <td>104.548</td>\n",
       "      <td>NaN</td>\n",
       "      <td>q3</td>\n",
       "    </tr>\n",
       "    <tr>\n",
       "      <th>43</th>\n",
       "      <td>2014</td>\n",
       "      <td>2</td>\n",
       "      <td>perez</td>\n",
       "      <td>22</td>\n",
       "      <td>NaN</td>\n",
       "      <td>122.511</td>\n",
       "      <td>NaN</td>\n",
       "      <td>q2</td>\n",
       "    </tr>\n",
       "    <tr>\n",
       "      <th>...</th>\n",
       "      <td>...</td>\n",
       "      <td>...</td>\n",
       "      <td>...</td>\n",
       "      <td>...</td>\n",
       "      <td>...</td>\n",
       "      <td>...</td>\n",
       "      <td>...</td>\n",
       "      <td>...</td>\n",
       "    </tr>\n",
       "    <tr>\n",
       "      <th>3609</th>\n",
       "      <td>2022</td>\n",
       "      <td>18</td>\n",
       "      <td>sainz</td>\n",
       "      <td>19</td>\n",
       "      <td>NaN</td>\n",
       "      <td>89.361</td>\n",
       "      <td>NaN</td>\n",
       "      <td>q3</td>\n",
       "    </tr>\n",
       "    <tr>\n",
       "      <th>3610</th>\n",
       "      <td>2022</td>\n",
       "      <td>18</td>\n",
       "      <td>albon</td>\n",
       "      <td>20</td>\n",
       "      <td>NaN</td>\n",
       "      <td>91.311</td>\n",
       "      <td>NaN</td>\n",
       "      <td>q1</td>\n",
       "    </tr>\n",
       "    <tr>\n",
       "      <th>3630</th>\n",
       "      <td>2022</td>\n",
       "      <td>19</td>\n",
       "      <td>sainz</td>\n",
       "      <td>20</td>\n",
       "      <td>115.016</td>\n",
       "      <td>94.356</td>\n",
       "      <td>NaN</td>\n",
       "      <td>q3</td>\n",
       "    </tr>\n",
       "    <tr>\n",
       "      <th>3669</th>\n",
       "      <td>2022</td>\n",
       "      <td>21</td>\n",
       "      <td>kevin_magnussen</td>\n",
       "      <td>19</td>\n",
       "      <td>NaN</td>\n",
       "      <td>71.674</td>\n",
       "      <td>NaN</td>\n",
       "      <td>q3</td>\n",
       "    </tr>\n",
       "    <tr>\n",
       "      <th>3670</th>\n",
       "      <td>2022</td>\n",
       "      <td>21</td>\n",
       "      <td>ricciardo</td>\n",
       "      <td>20</td>\n",
       "      <td>NaN</td>\n",
       "      <td>72.140</td>\n",
       "      <td>NaN</td>\n",
       "      <td>q2</td>\n",
       "    </tr>\n",
       "  </tbody>\n",
       "</table>\n",
       "<p>681 rows × 8 columns</p>\n",
       "</div>"
      ],
      "text/plain": [
       "      season  round           driver  podium  average_pace  qual_time  \\\n",
       "15      2014      1        maldonado      16       104.033        NaN   \n",
       "19      2014      1            massa      20           NaN    108.079   \n",
       "20      2014      1        kobayashi      21           NaN    105.867   \n",
       "21      2014      1        ricciardo      22        98.302    104.548   \n",
       "43      2014      2            perez      22           NaN    122.511   \n",
       "...      ...    ...              ...     ...           ...        ...   \n",
       "3609    2022     18            sainz      19           NaN     89.361   \n",
       "3610    2022     18            albon      20           NaN     91.311   \n",
       "3630    2022     19            sainz      20       115.016     94.356   \n",
       "3669    2022     21  kevin_magnussen      19           NaN     71.674   \n",
       "3670    2022     21        ricciardo      20           NaN     72.140   \n",
       "\n",
       "      fastest_lap stage  \n",
       "15         94.766   NaN  \n",
       "19        100.287    q3  \n",
       "20            NaN    q2  \n",
       "21            NaN    q3  \n",
       "43            NaN    q2  \n",
       "...           ...   ...  \n",
       "3609          NaN    q3  \n",
       "3610          NaN    q1  \n",
       "3630          NaN    q3  \n",
       "3669          NaN    q3  \n",
       "3670          NaN    q2  \n",
       "\n",
       "[681 rows x 8 columns]"
      ]
     },
     "execution_count": 56,
     "metadata": {},
     "output_type": "execute_result"
    }
   ],
   "source": [
    "null_rows"
   ]
  },
  {
   "cell_type": "code",
   "execution_count": 31,
   "metadata": {},
   "outputs": [
    {
     "data": {
      "text/plain": [
       "(2990, 24)"
      ]
     },
     "execution_count": 31,
     "metadata": {},
     "output_type": "execute_result"
    }
   ],
   "source": [
    "# fill/drop nulls\n",
    "### Data is being lossed here\n",
    "\n",
    "for col in ['driver_points', 'driver_wins', 'driver_standings_pos', 'constructor_points', \n",
    "            'constructor_wins', 'constructor_standings_pos']:\n",
    "    merged_df[col].fillna(0, inplace=True)\n",
    "    merged_df[col] = merged_df[col].map(lambda x: int(x))\n",
    "    \n",
    "merged_df.dropna(inplace=True)\n",
    "\n",
    "merged_df.shape"
   ]
  },
  {
   "cell_type": "code",
   "execution_count": 18,
   "metadata": {},
   "outputs": [],
   "source": [
    "from dateutil.relativedelta import *\n",
    "\n",
    "merged_df['date_of_birth'] = pd.to_datetime(merged_df.date_of_birth)\n",
    "merged_df['driver_age'] = merged_df.apply(lambda x: relativedelta(pd.to_datetime(x['date']), x['date_of_birth']).years, axis=1)\n",
    "merged_df.drop(['date_of_birth'], axis=1, inplace = True)"
   ]
  },
  {
   "cell_type": "code",
   "execution_count": 19,
   "metadata": {},
   "outputs": [],
   "source": [
    "merged_df.to_csv(path+'data/merged.csv', index=False)"
   ]
  }
 ],
 "metadata": {
  "kernelspec": {
   "display_name": "Python 3.10.7 64-bit",
   "language": "python",
   "name": "python3"
  },
  "language_info": {
   "codemirror_mode": {
    "name": "ipython",
    "version": 3
   },
   "file_extension": ".py",
   "mimetype": "text/x-python",
   "name": "python",
   "nbconvert_exporter": "python",
   "pygments_lexer": "ipython3",
   "version": "3.11.0"
  },
  "orig_nbformat": 4,
  "vscode": {
   "interpreter": {
    "hash": "aee8b7b246df8f9039afb4144a1f6fd8d2ca17a180786b69acc140d282b71a49"
   }
  }
 },
 "nbformat": 4,
 "nbformat_minor": 2
}
