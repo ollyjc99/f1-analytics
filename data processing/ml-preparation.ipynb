{
 "cells": [
  {
   "cell_type": "code",
   "execution_count": 1,
   "metadata": {},
   "outputs": [],
   "source": [
    "import pandas as pd\n",
    "\n",
    "from sys import platform\n",
    "\n",
    "if platform == \"win32\":\n",
    "    path = 'C:/Users/olive/GitHub/f1-analytics/'\n",
    "elif platform == \"darwin\":\n",
    "    path = '~/Documents/GitHub/f1-analytics/'\n",
    "    # path = '/Users/oliverjcarter/Documents/GitHub/f1-analytics/'"
   ]
  },
  {
   "cell_type": "code",
   "execution_count": 2,
   "metadata": {},
   "outputs": [
    {
     "data": {
      "text/plain": [
       "0       92.478\n",
       "1       93.066\n",
       "2       92.917\n",
       "3       93.186\n",
       "4       92.616\n",
       "         ...  \n",
       "3457    75.327\n",
       "3458    75.613\n",
       "3459    75.327\n",
       "3460    75.508\n",
       "3461    75.855\n",
       "Name: fastest_lap, Length: 3462, dtype: float64"
      ]
     },
     "execution_count": 2,
     "metadata": {},
     "output_type": "execute_result"
    }
   ],
   "source": [
    "merged_df = pd.read_csv(path+'data/merged.csv')\n",
    "merged_df['fastest_lap']"
   ]
  },
  {
   "cell_type": "code",
   "execution_count": 3,
   "metadata": {},
   "outputs": [
    {
     "data": {
      "text/plain": [
       "Index(['season', 'round', 'circuit_id', 'country', 'lat', 'long', 'date',\n",
       "       'driver', 'nationality', 'constructor', 'podium', 'fastest_lap',\n",
       "       'driver_points_after_race', 'driver_wins_after_race',\n",
       "       'driver_standings_pos_after_race', 'driver_points', 'driver_wins',\n",
       "       'driver_standings_pos', 'constructor_points_after_race',\n",
       "       'constructor_wins_after_race', 'constructor_standings_pos_after_race',\n",
       "       'constructor_points', 'constructor_wins', 'constructor_standings_pos',\n",
       "       'grid', 'qual_time', 'stage', 'q_delta', 'driver_age'],\n",
       "      dtype='object')"
      ]
     },
     "execution_count": 3,
     "metadata": {},
     "output_type": "execute_result"
    }
   ],
   "source": [
    "merged_df.columns"
   ]
  },
  {
   "cell_type": "code",
   "execution_count": 4,
   "metadata": {},
   "outputs": [
    {
     "data": {
      "text/plain": [
       "(3462, 45)"
      ]
     },
     "execution_count": 4,
     "metadata": {},
     "output_type": "execute_result"
    }
   ],
   "source": [
    "# dummies_df = pd.get_dummies(merged_df.drop(['lat', 'long', 'country', 'driver_age', 'nationality', 'date', 'fastest_lap'],axis=1), columns=['circuit_id', 'stage', 'constructor', 'driver'])\n",
    "dummies_df = pd.get_dummies(merged_df.drop(['lat', 'long', 'country', 'driver_age', 'nationality', 'date', 'fastest_lap', 'constructor','q_delta', 'driver', 'constructor_points_after_race','driver_points_after_race','driver_wins_after_race','constructor_wins_after_race','driver_standings_pos_after_race','constructor_standings_pos_after_race'],axis=1), columns=['circuit_id', 'stage'])\n",
    "\n",
    "\n",
    "dummies_df.to_csv(path+'data/ml_input.csv', index=False)\n",
    "dummies_df.shape"
   ]
  }
 ],
 "metadata": {
  "kernelspec": {
   "display_name": "Python 3.10.7 64-bit",
   "language": "python",
   "name": "python3"
  },
  "language_info": {
   "codemirror_mode": {
    "name": "ipython",
    "version": 3
   },
   "file_extension": ".py",
   "mimetype": "text/x-python",
   "name": "python",
   "nbconvert_exporter": "python",
   "pygments_lexer": "ipython3",
   "version": "3.11.0"
  },
  "orig_nbformat": 4,
  "vscode": {
   "interpreter": {
    "hash": "aee8b7b246df8f9039afb4144a1f6fd8d2ca17a180786b69acc140d282b71a49"
   }
  }
 },
 "nbformat": 4,
 "nbformat_minor": 2
}
