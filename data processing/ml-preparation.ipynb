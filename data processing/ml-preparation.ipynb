{
 "cells": [
  {
   "cell_type": "code",
   "execution_count": 13,
   "metadata": {},
   "outputs": [],
   "source": [
    "import pandas as pd\n",
    "import numpy as np\n",
    "\n",
    "from sys import platform\n",
    "\n",
    "if platform == \"win32\":\n",
    "    path = 'C:/Users/olive/GitHub/f1-analytics/'\n",
    "elif platform == \"darwin\":\n",
    "    path = '~/Documents/GitHub/f1-analytics/'\n",
    "    # path = '/Users/oliverjcarter/Documents/GitHub/f1-analytics/'"
   ]
  },
  {
   "cell_type": "code",
   "execution_count": 14,
   "metadata": {},
   "outputs": [],
   "source": [
    "merged_df = pd.read_csv(path+'data/processed.csv')"
   ]
  },
  {
   "cell_type": "code",
   "execution_count": 15,
   "metadata": {},
   "outputs": [
    {
     "name": "stdout",
     "output_type": "stream",
     "text": [
      "[0.9, 0.9125, 0.9249999999999999, 0.9374999999999999, 0.9499999999999998, 0.9624999999999998, 0.9749999999999998, 0.9874999999999997, 1]\n"
     ]
    }
   ],
   "source": [
    "n = merged_df.season.nunique()\n",
    "lis = list(np.arange(0.9, 1, .1/8))\n",
    "lis += [1]\n",
    "print(lis)"
   ]
  },
  {
   "cell_type": "code",
   "execution_count": 16,
   "metadata": {},
   "outputs": [
    {
     "data": {
      "text/plain": [
       "Index(['season', 'round', 'circuit_id', 'driver', 'constructor', 'podium',\n",
       "       'driver_points_after_race', 'driver_points', 'driver_wins',\n",
       "       'driver_standings_pos', 'constructor_points_after_race',\n",
       "       'constructor_points', 'constructor_wins', 'constructor_standings_pos',\n",
       "       'qualifying_pos', 'qual_time', 'stage', 'q_delta', 'starting_grid',\n",
       "       'driver_points_per_race', 'driver_points_from_race',\n",
       "       'constructor_points_per_race', 'constructor_points_from_race',\n",
       "       'driver_points_last_3_races', 'driver_points_before_race'],\n",
       "      dtype='object')"
      ]
     },
     "execution_count": 16,
     "metadata": {},
     "output_type": "execute_result"
    }
   ],
   "source": [
    "merged_df.columns"
   ]
  },
  {
   "cell_type": "code",
   "execution_count": 17,
   "metadata": {},
   "outputs": [],
   "source": [
    "df = merged_df.drop([\n",
    "    'constructor_points_after_race', 'constructor_wins', 'constructor_points', 'constructor_points_from_race',\n",
    "    'driver_points_after_race', 'driver_wins', 'driver_points_per_race', 'driver_points', 'driver_points_before_race',\n",
    "    'qual_time', 'qualifying_pos', 'q_delta'\n",
    "    ] ,axis=1)"
   ]
  },
  {
   "cell_type": "code",
   "execution_count": 18,
   "metadata": {},
   "outputs": [
    {
     "data": {
      "text/plain": [
       "Index(['season', 'round', 'circuit_id', 'driver', 'constructor', 'podium',\n",
       "       'driver_standings_pos', 'constructor_standings_pos', 'stage',\n",
       "       'starting_grid', 'driver_points_from_race',\n",
       "       'constructor_points_per_race', 'driver_points_last_3_races'],\n",
       "      dtype='object')"
      ]
     },
     "execution_count": 18,
     "metadata": {},
     "output_type": "execute_result"
    }
   ],
   "source": [
    "df.columns"
   ]
  },
  {
   "cell_type": "code",
   "execution_count": 19,
   "metadata": {},
   "outputs": [
    {
     "data": {
      "text/plain": [
       "(3619, 113)"
      ]
     },
     "execution_count": 19,
     "metadata": {},
     "output_type": "execute_result"
    }
   ],
   "source": [
    "dummies_df = pd.get_dummies(df, columns=['driver', 'constructor', 'stage', 'circuit_id'])\n",
    "\n",
    "\n",
    "dummies_df.to_csv(path+'data/ml_input.csv', index=False)\n",
    "dummies_df.shape"
   ]
  }
 ],
 "metadata": {
  "kernelspec": {
   "display_name": "Python 3.10.7 64-bit",
   "language": "python",
   "name": "python3"
  },
  "language_info": {
   "codemirror_mode": {
    "name": "ipython",
    "version": 3
   },
   "file_extension": ".py",
   "mimetype": "text/x-python",
   "name": "python",
   "nbconvert_exporter": "python",
   "pygments_lexer": "ipython3",
   "version": "3.11.0"
  },
  "orig_nbformat": 4,
  "vscode": {
   "interpreter": {
    "hash": "aee8b7b246df8f9039afb4144a1f6fd8d2ca17a180786b69acc140d282b71a49"
   }
  }
 },
 "nbformat": 4,
 "nbformat_minor": 2
}
