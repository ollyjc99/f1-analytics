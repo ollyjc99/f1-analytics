{
 "cells": [
  {
   "cell_type": "code",
   "execution_count": 5,
   "metadata": {},
   "outputs": [],
   "source": [
    "import pandas as pd\n",
    "import numpy as np\n",
    "\n",
    "from sys import platform\n",
    "\n",
    "if platform == \"win32\":\n",
    "    path = 'C:/Users/olive/GitHub/f1-analytics/'\n",
    "elif platform == \"darwin\":\n",
    "    path = '~/Documents/GitHub/f1-analytics/'\n",
    "    # path = '/Users/oliverjcarter/Documents/GitHub/f1-analytics/'"
   ]
  },
  {
   "cell_type": "code",
   "execution_count": 6,
   "metadata": {},
   "outputs": [],
   "source": [
    "df = pd.read_csv(path+'data/processed.csv')"
   ]
  },
  {
   "cell_type": "code",
   "execution_count": 7,
   "metadata": {},
   "outputs": [
    {
     "data": {
      "text/plain": [
       "Index(['season', 'round', 'circuit_id', 'driver', 'constructor', 'podium',\n",
       "       'qualifying_pos', 'stage', 'q_delta', 'starting_grid',\n",
       "       'driver_wins_before', 'driver_points_before', 'driver_standings_before',\n",
       "       'constructor_wins_before', 'constructor_points_before',\n",
       "       'constructor_standings_before', 'driver_points_from',\n",
       "       'driver_points_per', 'constructor_points_per', 'points_percentage',\n",
       "       'driver_last_3', 'constructor_last_3'],\n",
       "      dtype='object')"
      ]
     },
     "execution_count": 7,
     "metadata": {},
     "output_type": "execute_result"
    }
   ],
   "source": [
    "df.columns"
   ]
  },
  {
   "cell_type": "code",
   "execution_count": 8,
   "metadata": {},
   "outputs": [],
   "source": [
    "features = [\n",
    "    'season', 'round', 'podium', 'driver_points_from',\n",
    "    'qualifying_pos', 'starting_grid', 'driver_lewis_hamilton',\n",
    "    'stage_q3', 'constructor_mercedes', 'driver_points_per', 'constructor_ferrari',\n",
    "    'driver_max_verstappen', 'constructor_points_before', 'constructor_red_bull',\n",
    "    'driver_sebastian_vettel', 'driver_points_before', 'driver_wins_before',\n",
    "    'driver_valtteri_bottas', 'driver_sergio_perez', \n",
    "    'constructor_standings_before', 'constructor_wins_before'\n",
    "    ]"
   ]
  },
  {
   "cell_type": "code",
   "execution_count": 9,
   "metadata": {},
   "outputs": [
    {
     "data": {
      "text/plain": [
       "(3485, 21)"
      ]
     },
     "execution_count": 9,
     "metadata": {},
     "output_type": "execute_result"
    }
   ],
   "source": [
    "dummies_df = pd.get_dummies(df, columns=['stage', 'driver', 'constructor']).drop(['circuit_id'], axis=1)\n",
    "\n",
    "dummies_df = dummies_df[features]\n",
    "\n",
    "\n",
    "dummies_df.to_csv(path+'data/ml_input.csv', index=False)\n",
    "dummies_df.shape"
   ]
  }
 ],
 "metadata": {
  "kernelspec": {
   "display_name": "Python 3.10.7 64-bit",
   "language": "python",
   "name": "python3"
  },
  "language_info": {
   "codemirror_mode": {
    "name": "ipython",
    "version": 3
   },
   "file_extension": ".py",
   "mimetype": "text/x-python",
   "name": "python",
   "nbconvert_exporter": "python",
   "pygments_lexer": "ipython3",
   "version": "3.11.0"
  },
  "orig_nbformat": 4,
  "vscode": {
   "interpreter": {
    "hash": "aee8b7b246df8f9039afb4144a1f6fd8d2ca17a180786b69acc140d282b71a49"
   }
  }
 },
 "nbformat": 4,
 "nbformat_minor": 2
}
