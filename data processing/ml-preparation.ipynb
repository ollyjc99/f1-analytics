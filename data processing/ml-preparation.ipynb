{
 "cells": [
  {
   "cell_type": "code",
   "execution_count": 2,
   "metadata": {},
   "outputs": [],
   "source": [
    "import pandas as pd\n",
    "\n",
    "from sys import platform\n",
    "\n",
    "if platform == \"win32\":\n",
    "    path = 'C:/Users/olive/GitHub/f1-analytics/'\n",
    "elif platform == \"darwin\":\n",
    "    # path = '~/Documents/GitHub/f1-analytics/'\n",
    "    path = '/Users/oliverjcarter/Documents/GitHub/f1-analytics/'"
   ]
  },
  {
   "cell_type": "code",
   "execution_count": 3,
   "metadata": {},
   "outputs": [
    {
     "data": {
      "text/plain": [
       "0       1:32.478\n",
       "1       1:33.066\n",
       "2       1:32.917\n",
       "3       1:33.186\n",
       "4       1:32.616\n",
       "          ...   \n",
       "3457    1:15.327\n",
       "3458    1:15.613\n",
       "3459    1:15.327\n",
       "3460    1:15.508\n",
       "3461    1:15.855\n",
       "Name: fastest_lap, Length: 3462, dtype: object"
      ]
     },
     "execution_count": 3,
     "metadata": {},
     "output_type": "execute_result"
    }
   ],
   "source": [
    "merged_df = pd.read_csv(path+'data/merged.csv')\n",
    "merged_df['fastest_lap']"
   ]
  },
  {
   "cell_type": "code",
   "execution_count": 10,
   "metadata": {},
   "outputs": [
    {
     "data": {
      "text/plain": [
       "Index(['season', 'round', 'circuit_id', 'country', 'lat', 'long', 'date',\n",
       "       'driver', 'nationality', 'constructor', 'grid', 'podium', 'fastest_lap',\n",
       "       'driver_points', 'driver_wins', 'driver_standings_pos',\n",
       "       'constructor_points', 'constructor_wins', 'constructor_standings_pos',\n",
       "       'fastest_time', 'stage', 'q_delta', 'driver_age'],\n",
       "      dtype='object')"
      ]
     },
     "execution_count": 10,
     "metadata": {},
     "output_type": "execute_result"
    }
   ],
   "source": [
    "merged_df.columns"
   ]
  },
  {
   "cell_type": "code",
   "execution_count": 11,
   "metadata": {},
   "outputs": [
    {
     "data": {
      "text/plain": [
       "(3462, 45)"
      ]
     },
     "execution_count": 11,
     "metadata": {},
     "output_type": "execute_result"
    }
   ],
   "source": [
    "# dummies_df = pd.get_dummies(merged_df.drop(['lat', 'long', 'country', 'driver_age', 'nationality', 'date', 'fastest_lap'],axis=1), columns=['circuit_id', 'stage', 'constructor', 'driver'])\n",
    "dummies_df = pd.get_dummies(merged_df.drop(['lat', 'long', 'country', 'driver_age', 'nationality', 'date', 'fastest_lap', 'constructor','q_delta', 'driver'],axis=1), columns=['circuit_id', 'stage'])\n",
    "\n",
    "\n",
    "dummies_df.to_csv(path+'data/ml_input.csv', index=False)\n",
    "dummies_df.shape"
   ]
  }
 ],
 "metadata": {
  "kernelspec": {
   "display_name": "Python 3.10.7 64-bit",
   "language": "python",
   "name": "python3"
  },
  "language_info": {
   "codemirror_mode": {
    "name": "ipython",
    "version": 3
   },
   "file_extension": ".py",
   "mimetype": "text/x-python",
   "name": "python",
   "nbconvert_exporter": "python",
   "pygments_lexer": "ipython3",
   "version": "3.11.0"
  },
  "orig_nbformat": 4,
  "vscode": {
   "interpreter": {
    "hash": "aee8b7b246df8f9039afb4144a1f6fd8d2ca17a180786b69acc140d282b71a49"
   }
  }
 },
 "nbformat": 4,
 "nbformat_minor": 2
}
