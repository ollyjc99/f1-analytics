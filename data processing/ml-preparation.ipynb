{
 "cells": [
  {
   "cell_type": "code",
   "execution_count": 6,
   "metadata": {},
   "outputs": [],
   "source": [
    "import pandas as pd\n",
    "\n",
    "from sys import platform\n",
    "\n",
    "if platform == \"win32\":\n",
    "    path = 'C:/Users/olive/GitHub/f1-analytics/'\n",
    "elif platform == \"darwin\":\n",
    "    path = '~/Documents/GitHub/f1-analytics/'\n",
    "    # path = '/Users/oliverjcarter/Documents/GitHub/f1-analytics/'"
   ]
  },
  {
   "cell_type": "code",
   "execution_count": 7,
   "metadata": {},
   "outputs": [],
   "source": [
    "merged_df = pd.read_csv(path+'data/merged.csv')"
   ]
  },
  {
   "cell_type": "code",
   "execution_count": 8,
   "metadata": {},
   "outputs": [
    {
     "data": {
      "text/plain": [
       "Index(['season', 'round', 'circuit_id', 'country', 'lat', 'long', 'date',\n",
       "       'driver', 'date_of_birth', 'nationality', 'constructor', 'podium',\n",
       "       'driver_points_after_race', 'driver_wins_after_race',\n",
       "       'driver_standings_pos_after_race', 'driver_points', 'driver_wins',\n",
       "       'driver_standings_pos', 'constructor_points_after_race',\n",
       "       'constructor_wins_after_race', 'constructor_standings_pos_after_race',\n",
       "       'constructor_points', 'constructor_wins', 'constructor_standings_pos',\n",
       "       'qualifying_pos', 'qual_time', 'stage', 'q_delta', 'starting_grid'],\n",
       "      dtype='object')"
      ]
     },
     "execution_count": 8,
     "metadata": {},
     "output_type": "execute_result"
    }
   ],
   "source": [
    "merged_df.columns"
   ]
  },
  {
   "cell_type": "code",
   "execution_count": 9,
   "metadata": {},
   "outputs": [
    {
     "data": {
      "text/plain": [
       "(3619, 14)"
      ]
     },
     "execution_count": 9,
     "metadata": {},
     "output_type": "execute_result"
    }
   ],
   "source": [
    "dummies_df = pd.get_dummies(merged_df.drop(['lat', 'long', 'country', 'nationality', 'date', 'constructor','q_delta', 'driver', 'constructor_points_after_race','driver_points_after_race','driver_wins_after_race','constructor_wins_after_race','driver_standings_pos_after_race','constructor_standings_pos_after_race','qual_time', 'date_of_birth', 'circuit_id'],axis=1), columns=['stage'])\n",
    "\n",
    "\n",
    "dummies_df.to_csv(path+'data/ml_input.csv', index=False)\n",
    "dummies_df.shape"
   ]
  }
 ],
 "metadata": {
  "kernelspec": {
   "display_name": "Python 3.10.7 64-bit",
   "language": "python",
   "name": "python3"
  },
  "language_info": {
   "codemirror_mode": {
    "name": "ipython",
    "version": 3
   },
   "file_extension": ".py",
   "mimetype": "text/x-python",
   "name": "python",
   "nbconvert_exporter": "python",
   "pygments_lexer": "ipython3",
   "version": "3.11.0"
  },
  "orig_nbformat": 4,
  "vscode": {
   "interpreter": {
    "hash": "aee8b7b246df8f9039afb4144a1f6fd8d2ca17a180786b69acc140d282b71a49"
   }
  }
 },
 "nbformat": 4,
 "nbformat_minor": 2
}
