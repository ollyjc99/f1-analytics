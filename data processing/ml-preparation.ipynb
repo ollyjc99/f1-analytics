{
 "cells": [
  {
   "cell_type": "code",
   "execution_count": 1,
   "metadata": {},
   "outputs": [],
   "source": [
    "import pandas as pd\n",
    "import numpy as np\n",
    "\n",
    "from sys import platform\n",
    "\n",
    "if platform == \"win32\":\n",
    "    path = 'C:/Users/olive/GitHub/f1-analytics/'\n",
    "elif platform == \"darwin\":\n",
    "    path = '~/Documents/GitHub/f1-analytics/'\n",
    "    # path = '/Users/oliverjcarter/Documents/GitHub/f1-analytics/'"
   ]
  },
  {
   "cell_type": "code",
   "execution_count": 2,
   "metadata": {},
   "outputs": [],
   "source": [
    "df = pd.read_csv(path+'data/processed.csv')"
   ]
  },
  {
   "cell_type": "code",
   "execution_count": 3,
   "metadata": {},
   "outputs": [
    {
     "data": {
      "text/plain": [
       "Index(['season', 'round', 'circuit_id', 'driver', 'constructor', 'podium',\n",
       "       'driver_points_after', 'driver_wins_after',\n",
       "       'driver_standings_pos_after', 'constructor_points_after',\n",
       "       'constructor_wins_after', 'constructor_standings_pos_after',\n",
       "       'qualifying_pos', 'qual_time', 'stage', 'q_delta', 'starting_grid',\n",
       "       'driver_points_before', 'constructor_points_before',\n",
       "       'driver_points_from', 'constructor_points_from', 'driver_points_per',\n",
       "       'points_percentage', 'driver_last_3', 'constructor_last_3'],\n",
       "      dtype='object')"
      ]
     },
     "execution_count": 3,
     "metadata": {},
     "output_type": "execute_result"
    }
   ],
   "source": [
    "df.columns"
   ]
  },
  {
   "cell_type": "code",
   "execution_count": 12,
   "metadata": {},
   "outputs": [],
   "source": [
    "df1 = df.drop([\n",
    "    'constructor_wins_after', \n",
    "    'constructor_points_after', \n",
    "    'constructor_points_from',\n",
    "    'driver_points_after', \n",
    "    'driver_wins_after', \n",
    "    'driver_standings_pos_after',\n",
    "    'constructor_standings_pos_after',\n",
    "    'qualifying_pos',\n",
    "    'qual_time'], axis=1)"
   ]
  },
  {
   "cell_type": "code",
   "execution_count": 13,
   "metadata": {},
   "outputs": [
    {
     "data": {
      "text/plain": [
       "Index(['season', 'round', 'circuit_id', 'driver', 'constructor', 'podium',\n",
       "       'stage', 'q_delta', 'starting_grid', 'driver_points_before',\n",
       "       'constructor_points_before', 'driver_points_from', 'driver_points_per',\n",
       "       'points_percentage', 'driver_last_3', 'constructor_last_3'],\n",
       "      dtype='object')"
      ]
     },
     "execution_count": 13,
     "metadata": {},
     "output_type": "execute_result"
    }
   ],
   "source": [
    "df1.columns"
   ]
  },
  {
   "cell_type": "code",
   "execution_count": 15,
   "metadata": {},
   "outputs": [
    {
     "data": {
      "text/plain": [
       "(3485, 116)"
      ]
     },
     "execution_count": 15,
     "metadata": {},
     "output_type": "execute_result"
    }
   ],
   "source": [
    "dummies_df = pd.get_dummies(df1, columns=['driver', 'constructor', 'stage', 'circuit_id'])\n",
    "\n",
    "\n",
    "dummies_df.to_csv(path+'data/ml_input.csv', index=False)\n",
    "dummies_df.shape"
   ]
  }
 ],
 "metadata": {
  "kernelspec": {
   "display_name": "Python 3.10.7 64-bit",
   "language": "python",
   "name": "python3"
  },
  "language_info": {
   "codemirror_mode": {
    "name": "ipython",
    "version": 3
   },
   "file_extension": ".py",
   "mimetype": "text/x-python",
   "name": "python",
   "nbconvert_exporter": "python",
   "pygments_lexer": "ipython3",
   "version": "3.11.0"
  },
  "orig_nbformat": 4,
  "vscode": {
   "interpreter": {
    "hash": "aee8b7b246df8f9039afb4144a1f6fd8d2ca17a180786b69acc140d282b71a49"
   }
  }
 },
 "nbformat": 4,
 "nbformat_minor": 2
}
