{
 "cells": [
  {
   "cell_type": "code",
   "execution_count": 1,
   "metadata": {},
   "outputs": [
    {
     "name": "stdout",
     "output_type": "stream",
     "text": [
      "%pylab is deprecated, use %matplotlib inline and import the required libraries.\n",
      "Populating the interactive namespace from numpy and matplotlib\n"
     ]
    }
   ],
   "source": [
    "%pylab inline\n",
    "import pandas as pd\n",
    "from sys import platform\n",
    "import matplotlib.pyplot as plt\n",
    "import numpy as np\n",
    "from scipy import stats\n",
    "from geopy.geocoders import Nominatim\n",
    "import folium\n",
    "\n",
    "if platform == \"win32\":\n",
    "    path = 'C:/Users/olive/GitHub/f1-analytics/'\n",
    "elif platform == \"darwin\":\n",
    "    path = '~/Documents/GitHub/f1-analytics/'"
   ]
  },
  {
   "cell_type": "code",
   "execution_count": 61,
   "metadata": {},
   "outputs": [],
   "source": [
    "### Load race and mereged DataFrames\n",
    "\n",
    "weather = pd.read_csv(path + 'data/weather.csv')\n",
    "\n",
    "weather = weather.query('season == 2021')"
   ]
  },
  {
   "cell_type": "code",
   "execution_count": 62,
   "metadata": {},
   "outputs": [],
   "source": [
    "warm = weather.warm.value_counts()\n",
    "cold = weather.cold.value_counts()\n",
    "dry = weather.dry.value_counts()\n",
    "wet = weather.wet.value_counts()\n",
    "cloudy = weather.cloudy.value_counts()\n",
    "\n",
    "total_count = weather.shape[0]"
   ]
  },
  {
   "cell_type": "code",
   "execution_count": 69,
   "metadata": {},
   "outputs": [
    {
     "data": {
      "text/html": [
       "<div>\n",
       "<style scoped>\n",
       "    .dataframe tbody tr th:only-of-type {\n",
       "        vertical-align: middle;\n",
       "    }\n",
       "\n",
       "    .dataframe tbody tr th {\n",
       "        vertical-align: top;\n",
       "    }\n",
       "\n",
       "    .dataframe thead th {\n",
       "        text-align: right;\n",
       "    }\n",
       "</style>\n",
       "<table border=\"1\" class=\"dataframe\">\n",
       "  <thead>\n",
       "    <tr style=\"text-align: right;\">\n",
       "      <th></th>\n",
       "      <th>season</th>\n",
       "      <th>round</th>\n",
       "      <th>circuit_id</th>\n",
       "      <th>weather</th>\n",
       "      <th>warm</th>\n",
       "      <th>cold</th>\n",
       "      <th>dry</th>\n",
       "      <th>wet</th>\n",
       "      <th>cloudy</th>\n",
       "    </tr>\n",
       "  </thead>\n",
       "  <tbody>\n",
       "    <tr>\n",
       "      <th>18</th>\n",
       "      <td>2021</td>\n",
       "      <td>2</td>\n",
       "      <td>imola</td>\n",
       "      <td>Wet at start, drying during race, 9 °C (48 °F)</td>\n",
       "      <td>False</td>\n",
       "      <td>False</td>\n",
       "      <td>False</td>\n",
       "      <td>True</td>\n",
       "      <td>False</td>\n",
       "    </tr>\n",
       "    <tr>\n",
       "      <th>27</th>\n",
       "      <td>2021</td>\n",
       "      <td>11</td>\n",
       "      <td>hungaroring</td>\n",
       "      <td>Rain and sunny. Ambient: 26 to 29 °C (79 to 84...</td>\n",
       "      <td>False</td>\n",
       "      <td>False</td>\n",
       "      <td>False</td>\n",
       "      <td>True</td>\n",
       "      <td>False</td>\n",
       "    </tr>\n",
       "    <tr>\n",
       "      <th>28</th>\n",
       "      <td>2021</td>\n",
       "      <td>12</td>\n",
       "      <td>spa</td>\n",
       "      <td>Wet, persistent rain</td>\n",
       "      <td>False</td>\n",
       "      <td>False</td>\n",
       "      <td>False</td>\n",
       "      <td>True</td>\n",
       "      <td>False</td>\n",
       "    </tr>\n",
       "    <tr>\n",
       "      <th>31</th>\n",
       "      <td>2021</td>\n",
       "      <td>15</td>\n",
       "      <td>sochi</td>\n",
       "      <td>Cloudy and rainy</td>\n",
       "      <td>False</td>\n",
       "      <td>False</td>\n",
       "      <td>False</td>\n",
       "      <td>True</td>\n",
       "      <td>True</td>\n",
       "    </tr>\n",
       "    <tr>\n",
       "      <th>32</th>\n",
       "      <td>2021</td>\n",
       "      <td>16</td>\n",
       "      <td>istanbul</td>\n",
       "      <td>Overcast with intermittent rain</td>\n",
       "      <td>False</td>\n",
       "      <td>False</td>\n",
       "      <td>False</td>\n",
       "      <td>True</td>\n",
       "      <td>True</td>\n",
       "    </tr>\n",
       "  </tbody>\n",
       "</table>\n",
       "</div>"
      ],
      "text/plain": [
       "    season  round   circuit_id  \\\n",
       "18    2021      2        imola   \n",
       "27    2021     11  hungaroring   \n",
       "28    2021     12          spa   \n",
       "31    2021     15        sochi   \n",
       "32    2021     16     istanbul   \n",
       "\n",
       "                                              weather   warm   cold    dry  \\\n",
       "18     Wet at start, drying during race, 9 °C (48 °F)  False  False  False   \n",
       "27  Rain and sunny. Ambient: 26 to 29 °C (79 to 84...  False  False  False   \n",
       "28                               Wet, persistent rain  False  False  False   \n",
       "31                                   Cloudy and rainy  False  False  False   \n",
       "32                    Overcast with intermittent rain  False  False  False   \n",
       "\n",
       "     wet  cloudy  \n",
       "18  True   False  \n",
       "27  True   False  \n",
       "28  True   False  \n",
       "31  True    True  \n",
       "32  True    True  "
      ]
     },
     "execution_count": 69,
     "metadata": {},
     "output_type": "execute_result"
    }
   ],
   "source": [
    "weather.query('wet == True')"
   ]
  },
  {
   "cell_type": "code",
   "execution_count": 64,
   "metadata": {},
   "outputs": [
    {
     "data": {
      "image/png": "[encoded data removed]",
      "text/plain": [
       "<Figure size 800x400 with 1 Axes>"
      ]
     },
     "metadata": {},
     "output_type": "display_data"
    }
   ],
   "source": [
    "fig, axs = plt.subplots(1, dpi=80)\n",
    "fig.set_size_inches(10, 5)\n",
    "\n",
    "labels = 'Dry', 'Wet'\n",
    "sizes = wet.values\n",
    "\n",
    "axs.set_title('Ratio of Dry to Wet races')\n",
    "axs.set_xlabel('')\n",
    "axs.set_ylabel('')\n",
    "axs.pie(sizes, labels=labels,autopct='%1.1f%%')\n",
    "plt.show()"
   ]
  },
  {
   "cell_type": "code",
   "execution_count": 65,
   "metadata": {},
   "outputs": [
    {
     "data": {
      "image/png": "[encoded data removed]",
      "text/plain": [
       "<Figure size 800x400 with 1 Axes>"
      ]
     },
     "metadata": {},
     "output_type": "display_data"
    }
   ],
   "source": [
    "fig, axs = plt.subplots(1, dpi=80)\n",
    "fig.set_size_inches(10, 5)\n",
    "\n",
    "labels = 'Cold', 'Warm'\n",
    "sizes = warm.values\n",
    "\n",
    "axs.set_title('Ratio of Warm to Cold races')\n",
    "axs.set_xlabel('')\n",
    "axs.set_ylabel('')\n",
    "axs.pie(sizes, labels=labels,autopct='%1.1f%%')\n",
    "plt.show()"
   ]
  }
 ],
 "metadata": {
  "kernelspec": {
   "display_name": "Python 3.10.7 64-bit",
   "language": "python",
   "name": "python3"
  },
  "language_info": {
   "codemirror_mode": {
    "name": "ipython",
    "version": 3
   },
   "file_extension": ".py",
   "mimetype": "text/x-python",
   "name": "python",
   "nbconvert_exporter": "python",
   "pygments_lexer": "ipython3",
   "version": "3.10.7"
  },
  "orig_nbformat": 4,
  "vscode": {
   "interpreter": {
    "hash": "aee8b7b246df8f9039afb4144a1f6fd8d2ca17a180786b69acc140d282b71a49"
   }
  }
 },
 "nbformat": 4,
 "nbformat_minor": 2
}
