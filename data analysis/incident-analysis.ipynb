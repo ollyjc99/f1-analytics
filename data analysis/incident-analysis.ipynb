{
 "cells": [
  {
   "cell_type": "code",
   "execution_count": 2,
   "metadata": {},
   "outputs": [
    {
     "name": "stdout",
     "output_type": "stream",
     "text": [
      "%pylab is deprecated, use %matplotlib inline and import the required libraries.\n",
      "Populating the interactive namespace from numpy and matplotlib\n"
     ]
    }
   ],
   "source": [
    "%pylab inline\n",
    "import pandas as pd\n",
    "from sys import platform\n",
    "import matplotlib.pyplot as plt\n",
    "import numpy as np\n",
    "from scipy import stats\n",
    "from geopy.geocoders import Nominatim\n",
    "import folium\n",
    "\n",
    "if platform == \"win32\":\n",
    "    path = 'C:/Users/olive/GitHub/f1-analytics/'\n",
    "elif platform == \"darwin\":\n",
    "    path = '~/Documents/GitHub/f1-analytics/'\n",
    "    "
   ]
  },
  {
   "cell_type": "code",
   "execution_count": 3,
   "metadata": {},
   "outputs": [],
   "source": [
    "### Load race and mereged DataFrames\n",
    "\n",
    "data = pd.read_csv(path + 'data/results.csv')\n",
    "merged = pd.read_csv(path + 'data/merged.csv')"
   ]
  },
  {
   "cell_type": "code",
   "execution_count": 13,
   "metadata": {},
   "outputs": [],
   "source": [
    "incidents = data.query(\n",
    "    'status != \"Finished\"'\n",
    ").agg({\n",
    "    'status': 'unique'\n",
    "}).value_counts()"
   ]
  },
  {
   "cell_type": "code",
   "execution_count": 14,
   "metadata": {},
   "outputs": [
    {
     "data": {
      "text/plain": [
       "[Suspension, Electronics, Wheel, Fuel pressure, Brakes, Engine, Overheating, +1 Lap, +2 Laps, Collision damage, +5 Laps, Accident, Collision, Power Unit, Retired, Debris, Exhaust, Puncture, Radiator, Gearbox, Illness, Water pressure, Withdrew, Transmission, Electrical, +3 Laps, Wheel nut, Driveshaft, Turbo, Disqualified, Hydraulics, Oil leak, Rear wing, Mechanical, Power loss, Damage]    1\n",
       "dtype: int64"
      ]
     },
     "execution_count": 14,
     "metadata": {},
     "output_type": "execute_result"
    }
   ],
   "source": [
    "incidents"
   ]
  }
 ],
 "metadata": {
  "kernelspec": {
   "display_name": "Python 3.10.7 64-bit",
   "language": "python",
   "name": "python3"
  },
  "language_info": {
   "codemirror_mode": {
    "name": "ipython",
    "version": 3
   },
   "file_extension": ".py",
   "mimetype": "text/x-python",
   "name": "python",
   "nbconvert_exporter": "python",
   "pygments_lexer": "ipython3",
   "version": "3.10.7"
  },
  "orig_nbformat": 4,
  "vscode": {
   "interpreter": {
    "hash": "aee8b7b246df8f9039afb4144a1f6fd8d2ca17a180786b69acc140d282b71a49"
   }
  }
 },
 "nbformat": 4,
 "nbformat_minor": 2
}
