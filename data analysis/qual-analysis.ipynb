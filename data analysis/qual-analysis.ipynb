{
 "cells": [
  {
   "cell_type": "code",
   "execution_count": null,
   "metadata": {},
   "outputs": [],
   "source": [
    "%pylab inline\n",
    "import pandas as pd\n",
    "import matplotlib.pyplot as plt\n",
    "import numpy as np\n",
    "from scipy import stats\n",
    "from sys import platform\n",
    "\n",
    "if platform == \"win32\":\n",
    "    path = 'C:/Users/olive/GitHub/f1-analytics/'\n",
    "elif platform == \"darwin\":\n",
    "    path = '~/Documents/GitHub/f1-analytics/'"
   ]
  },
  {
   "cell_type": "code",
   "execution_count": null,
   "metadata": {},
   "outputs": [],
   "source": [
    "data = pd.read_csv(path+'data/qualifying.csv')\n",
    "merged = pd.read_csv(path+'data/merged.csv')"
   ]
  },
  {
   "cell_type": "code",
   "execution_count": null,
   "metadata": {},
   "outputs": [],
   "source": [
    "s20 = data.query('season == 2020')\n",
    "\n",
    "d = s20['qual_time'].describe()\n",
    "print(f\"Min: { d['min'] } Max: {d['max']}\")"
   ]
  },
  {
   "cell_type": "code",
   "execution_count": null,
   "metadata": {},
   "outputs": [],
   "source": [
    "s20.query('qual_time >= 100')"
   ]
  },
  {
   "cell_type": "code",
   "execution_count": null,
   "metadata": {},
   "outputs": [],
   "source": [
    "s20 = data.query('season == 2020')\n",
    "q_times_by_round = s20.groupby('round').agg('qual_time')\n",
    "\n",
    "x = s20['round'].values\n",
    "y = s20['qual_time'].values\n",
    "\n",
    "fig, axs = plt.subplots(1, dpi=80)\n",
    "fig.set_size_inches(10, 5)\n",
    "\n",
    "axs.set_title('')\n",
    "axs.set_xlabel('Round')\n",
    "axs.set_ylabel('Time in seconds')\n",
    "axs.set_xticks(np.unique(x))\n",
    "axs.scatter(x, y)"
   ]
  },
  {
   "cell_type": "code",
   "execution_count": null,
   "metadata": {},
   "outputs": [],
   "source": [
    "s21 = data.query('season == 2021')\n",
    "\n",
    "fig, axs = plt.subplots(1, dpi=80)\n",
    "fig.set_size_inches(10, 5)\n",
    "\n",
    "axs.set_title('Standard Deviation of Qualifying Times')\n",
    "axs.set_xlabel('Round')\n",
    "axs.set_ylabel('Time in seconds')\n",
    "axs.set_xticks(np.unique(s21['round']))\n",
    "\n",
    "for i in range(1, len(np.unique(s21['round'])) + 1):\n",
    "    r = s21.query('round == @i & qual_time.notnull()')['qual_time'].values\n",
    "    mean = np.mean(r)\n",
    "    err = 1.96 * np.std(r)/np.sqrt(len(r))\n",
    "\n",
    "    axs.plot(i, mean)\n",
    "    axs.errorbar(i, mean, err)"
   ]
  },
  {
   "cell_type": "code",
   "execution_count": null,
   "metadata": {},
   "outputs": [],
   "source": [
    "s21 = data.query('season == 2021')\n",
    "\n",
    "fig, axs = plt.subplots(1, dpi=80)\n",
    "fig.set_size_inches(10, 5)\n",
    "\n",
    "axs.set_title('Standard Deviation of Qualifying Delta Times')\n",
    "axs.set_xlabel('Round')\n",
    "axs.set_ylabel('Time in seconds')\n",
    "axs.set_xticks(np.unique(s21['round']))\n",
    "\n",
    "for i in range(1, len(np.unique(s21['round']))+1):\n",
    "    r = s21.query('round == @i & q_delta.notnull()')['q_delta'].values\n",
    "    mean = np.mean(r)\n",
    "    err = 1.96 * np.std(r)/np.sqrt(len(r))\n",
    "\n",
    "    axs.plot(i, mean)\n",
    "    axs.errorbar(i, mean, err)"
   ]
  },
  {
   "cell_type": "code",
   "execution_count": null,
   "metadata": {},
   "outputs": [],
   "source": [
    "### All rounds in 2020 apart from 14 to show the difference between the front runners\n",
    "### and the bottom of the pack.\n",
    "s21 = merged.query('season == 2020 & q_delta.notnull() & round != 14')\n",
    "\n",
    "x = s21['round'].values\n",
    "y = s21['q_delta'].values\n",
    "\n",
    "fig, axs = plt.subplots(1, dpi=80)\n",
    "fig.set_size_inches(10, 5)\n",
    "\n",
    "axs.set_title('Difference in delta time in 2020')\n",
    "axs.set_xlabel('Round')\n",
    "axs.set_ylabel('Time in seconds')\n",
    "axs.set_xticks(np.unique(s21['round']))\n",
    "axs.scatter(x, y)"
   ]
  },
  {
   "cell_type": "code",
   "execution_count": null,
   "metadata": {},
   "outputs": [],
   "source": [
    "s21 = merged.query('season == 2021 & q_delta.notnull()')\n",
    "#  & round not in [7, 15, 17, 18, 21]\n",
    "x = s21['round'].values\n",
    "y = s21['q_delta'].values\n",
    "\n",
    "fig, axs = plt.subplots(1, dpi=80)\n",
    "fig.set_size_inches(10, 5)\n",
    "\n",
    "axs.set_title('Difference in delta time in 2021')\n",
    "axs.set_xlabel('Round')\n",
    "axs.set_ylabel('Time in seconds')\n",
    "axs.set_xticks(np.unique(s21['round']))\n",
    "axs.scatter(x, y)"
   ]
  },
  {
   "cell_type": "code",
   "execution_count": null,
   "metadata": {},
   "outputs": [],
   "source": [
    "### Pole conversion rate\n",
    "\n",
    "pole_sitters = merged.query('grid == 1')\n",
    "\n",
    "pole_winners = pole_sitters.query('podium == 1')\n",
    "pole_conversion = round((len(pole_winners)/ len(pole_sitters)) * 100, 1)\n",
    "print(f'Pole conversion: {pole_conversion}%')"
   ]
  }
 ],
 "metadata": {
  "kernelspec": {
   "display_name": "Python 3.10.7 64-bit",
   "language": "python",
   "name": "python3"
  },
  "language_info": {
   "codemirror_mode": {
    "name": "ipython",
    "version": 3
   },
   "file_extension": ".py",
   "mimetype": "text/x-python",
   "name": "python",
   "nbconvert_exporter": "python",
   "pygments_lexer": "ipython3",
   "version": "3.10.7"
  },
  "orig_nbformat": 4,
  "vscode": {
   "interpreter": {
    "hash": "aee8b7b246df8f9039afb4144a1f6fd8d2ca17a180786b69acc140d282b71a49"
   }
  }
 },
 "nbformat": 4,
 "nbformat_minor": 2
}
